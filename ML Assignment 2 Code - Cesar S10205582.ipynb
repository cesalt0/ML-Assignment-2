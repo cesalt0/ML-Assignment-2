{
 "cells": [
  {
   "cell_type": "markdown",
   "metadata": {},
   "source": [
    "<table class=\"table table-bordered\">\n",
    "    <tr>\n",
    "        <th style=\"width:250px\"><img src='https://www.np.edu.sg/PublishingImages/Pages/default/odp/ICT.jpg' style=\"width: 100%; height: 125px; \"></th>\n",
    "        <th style=\"text-align:center;\"><h1>Machine Learning</h1><h2>Assignment 2</h2><h3>\n",
    "    </tr>\n",
    "</table>"
   ]
  },
  {
   "cell_type": "markdown",
   "metadata": {},
   "source": [
    "#### Cesar Chen Peralta Jr II / S10205582"
   ]
  },
  {
   "cell_type": "markdown",
   "metadata": {},
   "source": [
    "### 1. [HR Analytics](#part1)\n",
    "   - [1.1 Load and Sample the data](#part1.1)\n",
    "   - [1.2 Build the Model(s)](#part1.2)\n",
    "       - [1.2.1 Logistic Regression](#part1.2.1)\n",
    "       - [1.2.2 XGBoost Classifier](#part1.2.2)\n",
    "       - [1.2.3 Random Forest Classifier](#part1.2.3)\n",
    "       - [1.2.4 Support Vector Classifier](#part1.2.4)   \n",
    "   - [1.3 Evaluate and Improve the Model(s)](#part1.3)\n",
    "       - [1.3.1 Logistic Regression](#part1.3.1)\n",
    "       - [1.3.2 XGBoost Classifier](#part1.3.2)\n",
    "       - [1.3.3 Random Forest Classifier](#part1.3.3)\n",
    "       - [1.3.4 Support Vector Classifier](#part1.3.4)\n",
    "       - [1.3.5 Voting Classifier](#part1.3.5)\n",
    "   \n",
    "### 2. [Airbnb](#part2)\n",
    "   - [2.1 Load and Sample the data](#part2.1)\n",
    "   - [2.2 Build the Model(s)](#part2.2)\n",
    "       - [2.2.1 Linear Regression](#part2.2.1)\n",
    "       - [2.2.2 MLP Regressor](#part2.2.2)\n",
    "       - [2.2.3 XGBoost Regressor](#part2.2.3)\n",
    "       - [2.2.4 Random Forest Regressor](#part2.2.4)\n",
    "   - [2.3 Evaluate and Improve the Model(s)](#part2.3)\n",
    "       - [2.3.1 Linear Regression](#part2.3.1)\n",
    "       - [2.3.2 MLP Regressor](#part2.3.2)\n",
    "       - [2.3.3 XGBoost Regressor](#part2.3.3)\n",
    "       - [2.3.4 Random Forest Regressor](#part2.3.4)"
   ]
  },
  {
   "cell_type": "code",
   "execution_count": 205,
   "metadata": {},
   "outputs": [],
   "source": [
    "# import the required packages\n",
    "import numpy as np\n",
    "import pandas as pd\n",
    "from sklearn.model_selection import train_test_split, cross_val_score, cross_validate, GridSearchCV, RandomizedSearchCV\n",
    "from sklearn.tree import DecisionTreeClassifier\n",
    "from sklearn.ensemble import RandomForestClassifier, RandomForestRegressor, VotingClassifier, VotingRegressor\n",
    "from sklearn.linear_model import LogisticRegression, LinearRegression\n",
    "from sklearn.svm import SVC, SVR\n",
    "from sklearn.metrics import accuracy_score, mean_squared_error\n",
    "from sklearn.neural_network import MLPClassifier, MLPRegressor\n",
    "from sklearn.inspection import permutation_importance\n",
    "import matplotlib.pyplot as plt\n",
    "from math import sqrt\n",
    "import statsmodels.api as sm\n",
    "from xgboost import XGBClassifier, XGBRegressor, XGBRegressor\n",
    "%matplotlib inline\n",
    "import warnings\n",
    "warnings.filterwarnings('ignore')"
   ]
  },
  {
   "cell_type": "markdown",
   "metadata": {},
   "source": [
    "## 1. HR Analytics <a id=\"part1\"></a>"
   ]
  },
  {
   "cell_type": "markdown",
   "metadata": {},
   "source": [
    "### 1.1 Load and Sample the data <a id=\"part1.1\"></a>"
   ]
  },
  {
   "cell_type": "code",
   "execution_count": 3,
   "metadata": {},
   "outputs": [
    {
     "data": {
      "text/html": [
       "<div>\n",
       "<style scoped>\n",
       "    .dataframe tbody tr th:only-of-type {\n",
       "        vertical-align: middle;\n",
       "    }\n",
       "\n",
       "    .dataframe tbody tr th {\n",
       "        vertical-align: top;\n",
       "    }\n",
       "\n",
       "    .dataframe thead th {\n",
       "        text-align: right;\n",
       "    }\n",
       "</style>\n",
       "<table border=\"1\" class=\"dataframe\">\n",
       "  <thead>\n",
       "    <tr style=\"text-align: right;\">\n",
       "      <th></th>\n",
       "      <th>department</th>\n",
       "      <th>region</th>\n",
       "      <th>education</th>\n",
       "      <th>gender</th>\n",
       "      <th>recruitment_channel</th>\n",
       "      <th>no_of_trainings</th>\n",
       "      <th>age</th>\n",
       "      <th>previous_year_rating</th>\n",
       "      <th>length_of_service</th>\n",
       "      <th>KPIs_met &gt;80%</th>\n",
       "      <th>awards_won?</th>\n",
       "      <th>avg_training_score</th>\n",
       "      <th>is_promoted</th>\n",
       "    </tr>\n",
       "  </thead>\n",
       "  <tbody>\n",
       "    <tr>\n",
       "      <th>0</th>\n",
       "      <td>9</td>\n",
       "      <td>7</td>\n",
       "      <td>3</td>\n",
       "      <td>0</td>\n",
       "      <td>2</td>\n",
       "      <td>1</td>\n",
       "      <td>3.555348</td>\n",
       "      <td>5</td>\n",
       "      <td>1.098612</td>\n",
       "      <td>1</td>\n",
       "      <td>0</td>\n",
       "      <td>0.155172</td>\n",
       "      <td>1</td>\n",
       "    </tr>\n",
       "    <tr>\n",
       "      <th>1</th>\n",
       "      <td>9</td>\n",
       "      <td>28</td>\n",
       "      <td>3</td>\n",
       "      <td>1</td>\n",
       "      <td>2</td>\n",
       "      <td>1</td>\n",
       "      <td>3.496508</td>\n",
       "      <td>5</td>\n",
       "      <td>1.791759</td>\n",
       "      <td>1</td>\n",
       "      <td>0</td>\n",
       "      <td>0.172414</td>\n",
       "      <td>1</td>\n",
       "    </tr>\n",
       "    <tr>\n",
       "      <th>2</th>\n",
       "      <td>9</td>\n",
       "      <td>4</td>\n",
       "      <td>2</td>\n",
       "      <td>1</td>\n",
       "      <td>3</td>\n",
       "      <td>1</td>\n",
       "      <td>3.912023</td>\n",
       "      <td>4</td>\n",
       "      <td>2.833213</td>\n",
       "      <td>1</td>\n",
       "      <td>0</td>\n",
       "      <td>0.103448</td>\n",
       "      <td>1</td>\n",
       "    </tr>\n",
       "    <tr>\n",
       "      <th>3</th>\n",
       "      <td>4</td>\n",
       "      <td>22</td>\n",
       "      <td>3</td>\n",
       "      <td>1</td>\n",
       "      <td>3</td>\n",
       "      <td>1</td>\n",
       "      <td>3.295837</td>\n",
       "      <td>3</td>\n",
       "      <td>0.000000</td>\n",
       "      <td>1</td>\n",
       "      <td>1</td>\n",
       "      <td>0.293103</td>\n",
       "      <td>1</td>\n",
       "    </tr>\n",
       "    <tr>\n",
       "      <th>4</th>\n",
       "      <td>9</td>\n",
       "      <td>22</td>\n",
       "      <td>3</td>\n",
       "      <td>1</td>\n",
       "      <td>2</td>\n",
       "      <td>1</td>\n",
       "      <td>3.295837</td>\n",
       "      <td>3</td>\n",
       "      <td>0.000000</td>\n",
       "      <td>0</td>\n",
       "      <td>0</td>\n",
       "      <td>0.344828</td>\n",
       "      <td>1</td>\n",
       "    </tr>\n",
       "  </tbody>\n",
       "</table>\n",
       "</div>"
      ],
      "text/plain": [
       "   department  region  education  gender  recruitment_channel  \\\n",
       "0           9       7          3       0                    2   \n",
       "1           9      28          3       1                    2   \n",
       "2           9       4          2       1                    3   \n",
       "3           4      22          3       1                    3   \n",
       "4           9      22          3       1                    2   \n",
       "\n",
       "   no_of_trainings       age  previous_year_rating  length_of_service  \\\n",
       "0                1  3.555348                     5           1.098612   \n",
       "1                1  3.496508                     5           1.791759   \n",
       "2                1  3.912023                     4           2.833213   \n",
       "3                1  3.295837                     3           0.000000   \n",
       "4                1  3.295837                     3           0.000000   \n",
       "\n",
       "   KPIs_met >80%  awards_won?  avg_training_score  is_promoted  \n",
       "0              1            0            0.155172            1  \n",
       "1              1            0            0.172414            1  \n",
       "2              1            0            0.103448            1  \n",
       "3              1            1            0.293103            1  \n",
       "4              0            0            0.344828            1  "
      ]
     },
     "execution_count": 3,
     "metadata": {},
     "output_type": "execute_result"
    }
   ],
   "source": [
    "# Load dataset into a DataFrame\n",
    "df_hr = pd.read_csv('hr_data_new.csv')\n",
    "\n",
    "# Create a copy of the DataFrame\n",
    "df1 = df_hr.copy()\n",
    "\n",
    "# Show overview of the dataset\n",
    "df1.head()"
   ]
  },
  {
   "cell_type": "code",
   "execution_count": 4,
   "metadata": {},
   "outputs": [],
   "source": [
    "# Set \"is_promoted\" as the target/model output and the other features as model inputs\n",
    "y_data = df1['is_promoted']\n",
    "X_data = df1.drop(['is_promoted'], axis=1)"
   ]
  },
  {
   "cell_type": "code",
   "execution_count": 5,
   "metadata": {},
   "outputs": [],
   "source": [
    "# Split the data into training and testing data\n",
    "X_train, X_test, y_train, y_test = train_test_split(X_data, y_data, test_size=0.3, random_state=2)"
   ]
  },
  {
   "cell_type": "markdown",
   "metadata": {},
   "source": [
    "### 1.2 Build the Model(s) <a id=\"part1.2\"></a>"
   ]
  },
  {
   "cell_type": "markdown",
   "metadata": {},
   "source": [
    "#### Logistic Regression <a id=\"part1.2.1\"></a>"
   ]
  },
  {
   "cell_type": "code",
   "execution_count": 7,
   "metadata": {},
   "outputs": [
    {
     "data": {
      "text/plain": [
       "LogisticRegression(random_state=2)"
      ]
     },
     "execution_count": 7,
     "metadata": {},
     "output_type": "execute_result"
    }
   ],
   "source": [
    "# Create the model \"lg\"\n",
    "lg = LogisticRegression(random_state=2) \n",
    "# Fit the model to the training set\n",
    "lg.fit(X_train,y_train)"
   ]
  },
  {
   "cell_type": "markdown",
   "metadata": {},
   "source": [
    "#### XGBoost Classifier<a id=\"part1.2.2\"></a>"
   ]
  },
  {
   "cell_type": "code",
   "execution_count": 8,
   "metadata": {},
   "outputs": [
    {
     "data": {
      "text/plain": [
       "XGBClassifier(base_score=0.5, booster='gbtree', colsample_bylevel=1,\n",
       "              colsample_bynode=1, colsample_bytree=1, enable_categorical=False,\n",
       "              eval_metric='logloss', gamma=0, gpu_id=-1, importance_type=None,\n",
       "              interaction_constraints='', learning_rate=0.300000012,\n",
       "              max_delta_step=0, max_depth=6, min_child_weight=1, missing=nan,\n",
       "              monotone_constraints='()', n_estimators=100, n_jobs=8,\n",
       "              num_parallel_tree=1, predictor='auto', random_state=2,\n",
       "              reg_alpha=0, reg_lambda=1, scale_pos_weight=1, subsample=1,\n",
       "              tree_method='exact', use_label_encoder=False,\n",
       "              validate_parameters=1, verbosity=None)"
      ]
     },
     "execution_count": 8,
     "metadata": {},
     "output_type": "execute_result"
    }
   ],
   "source": [
    "# Create the model \"xgb\"\n",
    "xgb = XGBClassifier(random_state=2, use_label_encoder=False, eval_metric='logloss')\n",
    "# Fit the model to the training set\n",
    "xgb.fit(X_train,y_train)"
   ]
  },
  {
   "cell_type": "markdown",
   "metadata": {},
   "source": [
    "#### Random Forest Classifier<a id=\"part1.2.3\"></a>"
   ]
  },
  {
   "cell_type": "code",
   "execution_count": 123,
   "metadata": {},
   "outputs": [
    {
     "data": {
      "text/plain": [
       "RandomForestClassifier(random_state=2)"
      ]
     },
     "execution_count": 123,
     "metadata": {},
     "output_type": "execute_result"
    }
   ],
   "source": [
    "# Create the model \"rf\"\n",
    "rf = RandomForestClassifier(random_state=2)\n",
    "# Fit the model to the training set\n",
    "rf.fit(X_train,y_train)"
   ]
  },
  {
   "cell_type": "markdown",
   "metadata": {},
   "source": [
    "#### Support Vector Classifier<a id=\"part1.2.4\"></a>"
   ]
  },
  {
   "cell_type": "code",
   "execution_count": 125,
   "metadata": {},
   "outputs": [
    {
     "data": {
      "text/plain": [
       "SVC(random_state=2)"
      ]
     },
     "execution_count": 125,
     "metadata": {},
     "output_type": "execute_result"
    }
   ],
   "source": [
    "# Create the model \"svc\"\n",
    "svc = SVC(random_state=2)\n",
    "# Fit the model to the training set\n",
    "svc.fit(X_train,y_train)"
   ]
  },
  {
   "cell_type": "markdown",
   "metadata": {},
   "source": [
    "### 1.3 Evaluate and Improve the Model(s) <a id=\"part1.3\"></a>"
   ]
  },
  {
   "cell_type": "markdown",
   "metadata": {},
   "source": [
    "#### Logistic Regression <a id=\"part1.3.1\"></a>"
   ]
  },
  {
   "cell_type": "code",
   "execution_count": 10,
   "metadata": {},
   "outputs": [
    {
     "name": "stdout",
     "output_type": "stream",
     "text": [
      "train_score:  [0.73620782 0.73343152 0.73597536 0.73570759 0.73169099]\n",
      "test_score:  [0.72698073 0.73379754 0.72469202 0.72576326 0.75093733]\n",
      "cross val training accuracy is: 0.7346026565221591\n",
      "cross val testing accuracy is: 0.732434174533685\n"
     ]
    }
   ],
   "source": [
    "results  = cross_validate(lg, X_data, y_data, scoring='accuracy', cv=5, return_train_score = True)\n",
    "print('train_score: ', results['train_score'])\n",
    "print('test_score: ', results['test_score'])\n",
    "print('cross val training accuracy is:', sum(results['train_score'])/len(results['train_score']))\n",
    "print('cross val testing accuracy is:', sum(results['test_score'])/len(results['test_score']))"
   ]
  },
  {
   "cell_type": "code",
   "execution_count": 223,
   "metadata": {
    "scrolled": false
   },
   "outputs": [
    {
     "name": "stdout",
     "output_type": "stream",
     "text": [
      "Optimization terminated successfully.\n",
      "         Current function value: 0.528415\n",
      "         Iterations 6\n"
     ]
    },
    {
     "data": {
      "text/html": [
       "<table class=\"simpletable\">\n",
       "<caption>Logit Regression Results</caption>\n",
       "<tr>\n",
       "  <th>Dep. Variable:</th>      <td>is_promoted</td>   <th>  No. Observations:  </th>  <td>  6535</td> \n",
       "</tr>\n",
       "<tr>\n",
       "  <th>Model:</th>                 <td>Logit</td>      <th>  Df Residuals:      </th>  <td>  6523</td> \n",
       "</tr>\n",
       "<tr>\n",
       "  <th>Method:</th>                 <td>MLE</td>       <th>  Df Model:          </th>  <td>    11</td> \n",
       "</tr>\n",
       "<tr>\n",
       "  <th>Date:</th>            <td>Thu, 03 Feb 2022</td> <th>  Pseudo R-squ.:     </th>  <td>0.2376</td> \n",
       "</tr>\n",
       "<tr>\n",
       "  <th>Time:</th>                <td>23:35:07</td>     <th>  Log-Likelihood:    </th> <td> -3453.2</td>\n",
       "</tr>\n",
       "<tr>\n",
       "  <th>converged:</th>             <td>True</td>       <th>  LL-Null:           </th> <td> -4529.5</td>\n",
       "</tr>\n",
       "<tr>\n",
       "  <th>Covariance Type:</th>     <td>nonrobust</td>    <th>  LLR p-value:       </th>  <td> 0.000</td> \n",
       "</tr>\n",
       "</table>\n",
       "<table class=\"simpletable\">\n",
       "<tr>\n",
       "            <td></td>              <th>coef</th>     <th>std err</th>      <th>z</th>      <th>P>|z|</th>  <th>[0.025</th>    <th>0.975]</th>  \n",
       "</tr>\n",
       "<tr>\n",
       "  <th>department</th>           <td>    0.2287</td> <td>    0.018</td> <td>   12.645</td> <td> 0.000</td> <td>    0.193</td> <td>    0.264</td>\n",
       "</tr>\n",
       "<tr>\n",
       "  <th>region</th>               <td>   -0.0101</td> <td>    0.003</td> <td>   -3.326</td> <td> 0.001</td> <td>   -0.016</td> <td>   -0.004</td>\n",
       "</tr>\n",
       "<tr>\n",
       "  <th>education</th>            <td>   -0.2223</td> <td>    0.057</td> <td>   -3.917</td> <td> 0.000</td> <td>   -0.334</td> <td>   -0.111</td>\n",
       "</tr>\n",
       "<tr>\n",
       "  <th>gender</th>               <td>   -0.0174</td> <td>    0.064</td> <td>   -0.272</td> <td> 0.786</td> <td>   -0.143</td> <td>    0.108</td>\n",
       "</tr>\n",
       "<tr>\n",
       "  <th>recruitment_channel</th>  <td>   -0.0221</td> <td>    0.053</td> <td>   -0.415</td> <td> 0.678</td> <td>   -0.127</td> <td>    0.082</td>\n",
       "</tr>\n",
       "<tr>\n",
       "  <th>no_of_trainings</th>      <td>   -0.1798</td> <td>    0.054</td> <td>   -3.354</td> <td> 0.001</td> <td>   -0.285</td> <td>   -0.075</td>\n",
       "</tr>\n",
       "<tr>\n",
       "  <th>age</th>                  <td>   -1.2714</td> <td>    0.082</td> <td>  -15.449</td> <td> 0.000</td> <td>   -1.433</td> <td>   -1.110</td>\n",
       "</tr>\n",
       "<tr>\n",
       "  <th>previous_year_rating</th> <td>    0.3528</td> <td>    0.027</td> <td>   13.163</td> <td> 0.000</td> <td>    0.300</td> <td>    0.405</td>\n",
       "</tr>\n",
       "<tr>\n",
       "  <th>length_of_service</th>    <td>    0.1524</td> <td>    0.046</td> <td>    3.339</td> <td> 0.001</td> <td>    0.063</td> <td>    0.242</td>\n",
       "</tr>\n",
       "<tr>\n",
       "  <th>KPIs_met >80%</th>        <td>    1.6363</td> <td>    0.062</td> <td>   26.515</td> <td> 0.000</td> <td>    1.515</td> <td>    1.757</td>\n",
       "</tr>\n",
       "<tr>\n",
       "  <th>awards_won?</th>          <td>    2.0687</td> <td>    0.171</td> <td>   12.073</td> <td> 0.000</td> <td>    1.733</td> <td>    2.405</td>\n",
       "</tr>\n",
       "<tr>\n",
       "  <th>avg_training_score</th>   <td>    3.2610</td> <td>    0.148</td> <td>   22.041</td> <td> 0.000</td> <td>    2.971</td> <td>    3.551</td>\n",
       "</tr>\n",
       "</table>"
      ],
      "text/plain": [
       "<class 'statsmodels.iolib.summary.Summary'>\n",
       "\"\"\"\n",
       "                           Logit Regression Results                           \n",
       "==============================================================================\n",
       "Dep. Variable:            is_promoted   No. Observations:                 6535\n",
       "Model:                          Logit   Df Residuals:                     6523\n",
       "Method:                           MLE   Df Model:                           11\n",
       "Date:                Thu, 03 Feb 2022   Pseudo R-squ.:                  0.2376\n",
       "Time:                        23:35:07   Log-Likelihood:                -3453.2\n",
       "converged:                       True   LL-Null:                       -4529.5\n",
       "Covariance Type:            nonrobust   LLR p-value:                     0.000\n",
       "========================================================================================\n",
       "                           coef    std err          z      P>|z|      [0.025      0.975]\n",
       "----------------------------------------------------------------------------------------\n",
       "department               0.2287      0.018     12.645      0.000       0.193       0.264\n",
       "region                  -0.0101      0.003     -3.326      0.001      -0.016      -0.004\n",
       "education               -0.2223      0.057     -3.917      0.000      -0.334      -0.111\n",
       "gender                  -0.0174      0.064     -0.272      0.786      -0.143       0.108\n",
       "recruitment_channel     -0.0221      0.053     -0.415      0.678      -0.127       0.082\n",
       "no_of_trainings         -0.1798      0.054     -3.354      0.001      -0.285      -0.075\n",
       "age                     -1.2714      0.082    -15.449      0.000      -1.433      -1.110\n",
       "previous_year_rating     0.3528      0.027     13.163      0.000       0.300       0.405\n",
       "length_of_service        0.1524      0.046      3.339      0.001       0.063       0.242\n",
       "KPIs_met >80%            1.6363      0.062     26.515      0.000       1.515       1.757\n",
       "awards_won?              2.0687      0.171     12.073      0.000       1.733       2.405\n",
       "avg_training_score       3.2610      0.148     22.041      0.000       2.971       3.551\n",
       "========================================================================================\n",
       "\"\"\""
      ]
     },
     "execution_count": 223,
     "metadata": {},
     "output_type": "execute_result"
    }
   ],
   "source": [
    "# Create the model \"lg2\" using statsmodel.api\n",
    "lg2 = sm.Logit(y_train, X_train).fit()\n",
    "# Print out the Model Summary\n",
    "lg2.summary()"
   ]
  },
  {
   "cell_type": "code",
   "execution_count": 54,
   "metadata": {},
   "outputs": [],
   "source": [
    "# Set \"is_promoted\" as the target/model output and the other features as model inputs\n",
    "X_data2 = df1.drop(['is_promoted','gender','recruitment_channel'], axis=1)"
   ]
  },
  {
   "cell_type": "code",
   "execution_count": 55,
   "metadata": {},
   "outputs": [],
   "source": [
    "# Split the data into training and testing data\n",
    "X_train2, X_test2, y_train2, y_test2 = train_test_split(X_data2, y_data2, test_size=0.3, random_state=2)"
   ]
  },
  {
   "cell_type": "code",
   "execution_count": 227,
   "metadata": {},
   "outputs": [
    {
     "name": "stdout",
     "output_type": "stream",
     "text": [
      "0.7341478100996801\n",
      "{'C': 1, 'solver': 'lbfgs'}\n"
     ]
    }
   ],
   "source": [
    "lg = LogisticRegression(random_state=2)\n",
    "\n",
    "param_grid = { \"C\" : [1,10,100,1000],\n",
    "            \"solver\": ['newton-cg', 'lbfgs', 'liblinear', 'sag', 'saga']}\n",
    "\n",
    "gs = GridSearchCV(estimator=lg, param_grid=param_grid, scoring='accuracy', cv=5, n_jobs=-1)\n",
    "\n",
    "gs = gs.fit(X_data2, y_data2)\n",
    "print(gs.best_score_)\n",
    "print(gs.best_params_)"
   ]
  },
  {
   "cell_type": "code",
   "execution_count": 229,
   "metadata": {},
   "outputs": [
    {
     "name": "stdout",
     "output_type": "stream",
     "text": [
      "0.7432524667704261\n",
      "{'C': 0.01}\n"
     ]
    }
   ],
   "source": [
    "lg = LogisticRegression(random_state=2, solver='lbfgs')\n",
    "\n",
    "param_grid = { \"C\" : [0.001,0.01,0.1,1]}\n",
    "\n",
    "gs = GridSearchCV(estimator=lg, param_grid=param_grid, scoring='accuracy', cv=5, n_jobs=-1)\n",
    "\n",
    "gs = gs.fit(X_data2, y_data2)\n",
    "print(gs.best_score_)\n",
    "print(gs.best_params_)"
   ]
  },
  {
   "cell_type": "code",
   "execution_count": 57,
   "metadata": {},
   "outputs": [
    {
     "name": "stdout",
     "output_type": "stream",
     "text": [
      "0.7438953238313593\n",
      "{'C': 0.008}\n"
     ]
    }
   ],
   "source": [
    "lg = LogisticRegression(random_state=2, solver='lbfgs')\n",
    "\n",
    "param_grid = { \"C\" : [0.008,0.009,0.01,0.02,0.03,0.04]}\n",
    "\n",
    "gs = GridSearchCV(estimator=lg, param_grid=param_grid, scoring='accuracy', cv=5, n_jobs=-1)\n",
    "\n",
    "gs = gs.fit(X_data2, y_data2)\n",
    "print(gs.best_score_)\n",
    "print(gs.best_params_)"
   ]
  },
  {
   "cell_type": "code",
   "execution_count": 58,
   "metadata": {},
   "outputs": [
    {
     "name": "stdout",
     "output_type": "stream",
     "text": [
      "0.7443235893559845\n",
      "{'C': 0.007}\n"
     ]
    }
   ],
   "source": [
    "lg = LogisticRegression(random_state=2, solver='lbfgs')\n",
    "\n",
    "param_grid = { \"C\" : [0.003,0.004,0.005,0.006,0.007,0.008]}\n",
    "\n",
    "gs = GridSearchCV(estimator=lg, param_grid=param_grid, scoring='accuracy', cv=5, n_jobs=-1)\n",
    "\n",
    "gs = gs.fit(X_data2, y_data2)\n",
    "print(gs.best_score_)\n",
    "print(gs.best_params_)"
   ]
  },
  {
   "cell_type": "code",
   "execution_count": 59,
   "metadata": {},
   "outputs": [
    {
     "name": "stdout",
     "output_type": "stream",
     "text": [
      "train_score:  [0.74692019 0.74360691 0.74347302 0.74441023 0.74146472]\n",
      "test_score:  [0.73929336 0.75040171 0.73808249 0.73754687 0.75736476]\n",
      "cross val training accuracy is: 0.7439750145988171\n",
      "cross val testing accuracy is: 0.744537836811796\n"
     ]
    }
   ],
   "source": [
    "lg = LogisticRegression(solver='lbfgs', C=0.007, random_state=2)\n",
    "\n",
    "# Fit the model to the training set\n",
    "lg.fit(X_train2,y_train2)\n",
    "\n",
    "results  = cross_validate(lg, X_data2, y_data2, scoring='accuracy', cv=5, return_train_score = True)\n",
    "print('train_score: ', results['train_score'])\n",
    "print('test_score: ', results['test_score'])\n",
    "print('cross val training accuracy is:', sum(results['train_score'])/len(results['train_score']))\n",
    "print('cross val testing accuracy is:', sum(results['test_score'])/len(results['test_score']))"
   ]
  },
  {
   "cell_type": "markdown",
   "metadata": {},
   "source": [
    "#### XGBoost Classifier<a id=\"part1.3.2\"></a>"
   ]
  },
  {
   "cell_type": "code",
   "execution_count": 9,
   "metadata": {},
   "outputs": [
    {
     "name": "stdout",
     "output_type": "stream",
     "text": [
      "train_score:  [0.92889663 0.92422011 0.92984335 0.92796894 0.9323872 ]\n",
      "test_score:  [0.79978587 0.80128548 0.79325121 0.80289234 0.8018211 ]\n",
      "cross val training accuracy is: 0.9286632453240221\n",
      "cross val testing accuracy is: 0.7998072002284694\n"
     ]
    }
   ],
   "source": [
    "results  = cross_validate(xgb, X_data, y_data, scoring='accuracy', cv=5, return_train_score = True)\n",
    "print('train_score: ', results['train_score'])\n",
    "print('test_score: ', results['test_score'])\n",
    "print('cross val training accuracy is:', sum(results['train_score'])/len(results['train_score']))\n",
    "print('cross val testing accuracy is:', sum(results['test_score'])/len(results['test_score']))"
   ]
  },
  {
   "cell_type": "code",
   "execution_count": 50,
   "metadata": {},
   "outputs": [
    {
     "name": "stdout",
     "output_type": "stream",
     "text": [
      "0.8189809712016093\n",
      "{'colsample_bytree': 0.6, 'gamma': 10, 'learning_rate': 0.1, 'max_depth': 15, 'min_child_weight': 1, 'n_estimators': 700, 'subsample': 0.6}\n"
     ]
    }
   ],
   "source": [
    "xgbc = XGBClassifier(random_state=2, use_label_encoder=False, eval_metric='logloss', n_jobs=-1)\n",
    "\n",
    "param_grid = { \"n_estimators\" : [200,400,700],\n",
    "            \"max_depth\": [1,5,10,15],\n",
    "            \"min_child_weight\": [1,5,10],\n",
    "            \"gamma\": [10,1,0.1],\n",
    "            \"subsample\": [0.4,0.6,0.8],\n",
    "            \"colsample_bytree\": [0.4,0.6,0.8],\n",
    "             \"learning_rate\": [0.01,0.1]}\n",
    "\n",
    "gs = GridSearchCV(estimator=xgbc, param_grid=param_grid, scoring='accuracy', cv=5, n_jobs=-1)\n",
    "\n",
    "gs = gs.fit(X_data, y_data)\n",
    "print(gs.best_score_)\n",
    "print(gs.best_params_)"
   ]
  },
  {
   "cell_type": "code",
   "execution_count": 60,
   "metadata": {},
   "outputs": [
    {
     "data": {
      "image/png": "[encoded data removed]",
      "text/plain": [
       "<Figure size 432x288 with 1 Axes>"
      ]
     },
     "metadata": {
      "needs_background": "light"
     },
     "output_type": "display_data"
    }
   ],
   "source": [
    "gamma_range = range(5,15)\n",
    "\n",
    "train_acc = []\n",
    "test_acc = []\n",
    "cross_val_train =[]\n",
    "cross_val_test =[]\n",
    "\n",
    "for d in gamma_range:\n",
    "    xgbc = XGBClassifier(gamma=d, subsample=0.6, max_depth=15, min_child_weight=1, \n",
    "                         colsample_bytree=0.6, learning_rate=0.1, random_state=2, use_label_encoder=False, \n",
    "                         eval_metric='logloss')\n",
    "    xgbc.fit(X_train, y_train.ravel()) \n",
    "    train_acc.append(accuracy_score(xgb.predict(X_train), y_train))\n",
    "    test_acc.append(accuracy_score(xgb.predict(X_test), y_test))\n",
    "    \n",
    "    results  = cross_validate(xgbc, X_data, y_data.ravel(), scoring='accuracy', cv=5, return_train_score = True)\n",
    "    cross_val_train.append(sum(results['train_score'])/len(results['train_score']))\n",
    "    cross_val_test.append(sum(results['test_score'])/len(results['test_score']))\n",
    "\n",
    "plt.plot(gamma_range, cross_val_train, 'bo-', label ='cross val training acc')\n",
    "plt.plot(gamma_range, cross_val_test, 'ro-', label = 'cross val testing acc')\n",
    "\n",
    "plt.xlabel('Gamma', fontsize='x-large')\n",
    "plt.ylabel('Accuracy', fontsize='x-large')\n",
    "\n",
    "plt.legend(loc='best', shadow=True, fontsize='x-large')\n",
    "plt.show()"
   ]
  },
  {
   "cell_type": "code",
   "execution_count": 95,
   "metadata": {},
   "outputs": [
    {
     "name": "stdout",
     "output_type": "stream",
     "text": [
      "0.8187662076250533\n",
      "{'gamma': 9}\n"
     ]
    }
   ],
   "source": [
    "xgbc = XGBClassifier(n_estimators=490, max_depth=12, colsample_bytree=0.7, subsample=0.55, min_child_weight=1, learning_rate=0.1, random_state=2, use_label_encoder=False, eval_metric='logloss')\n",
    "\n",
    "param_grid = { \"gamma\" : [5,6,7,8,9,10,11,12,13,14,15]}\n",
    "\n",
    "gs = GridSearchCV(estimator=xgbc, param_grid=param_grid, scoring='accuracy', cv=5, n_jobs=-1)\n",
    "\n",
    "gs = gs.fit(X_data, y_data)\n",
    "print(gs.best_score_)\n",
    "print(gs.best_params_)"
   ]
  },
  {
   "cell_type": "code",
   "execution_count": 62,
   "metadata": {},
   "outputs": [
    {
     "data": {
      "image/png": "[encoded data removed]",
      "text/plain": [
       "<Figure size 432x288 with 1 Axes>"
      ]
     },
     "metadata": {
      "needs_background": "light"
     },
     "output_type": "display_data"
    }
   ],
   "source": [
    "depth_range = range(10,20)\n",
    "\n",
    "train_acc = []\n",
    "test_acc = []\n",
    "cross_val_train =[]\n",
    "cross_val_test =[]\n",
    "\n",
    "for d in depth_range:\n",
    "    xgbc = XGBClassifier(max_depth=d, gamma=9, subsample=0.6, min_child_weight=1, colsample_bytree=0.6, learning_rate=0.1, \n",
    "                         random_state=2, use_label_encoder=False, eval_metric='logloss')\n",
    "    xgbc.fit(X_train, y_train.ravel()) \n",
    "    train_acc.append(accuracy_score(xgbc.predict(X_train), y_train))\n",
    "    test_acc.append(accuracy_score(xgbc.predict(X_test), y_test))\n",
    "    \n",
    "    results  = cross_validate(xgbc, X_data, y_data.ravel(), scoring='accuracy', cv=5, return_train_score = True)\n",
    "    cross_val_train.append(sum(results['train_score'])/len(results['train_score']))\n",
    "    cross_val_test.append(sum(results['test_score'])/len(results['test_score']))\n",
    "\n",
    "plt.plot(depth_range, cross_val_train, 'bo-', label ='cross val training acc')\n",
    "plt.plot(depth_range, cross_val_test, 'ro-', label = 'cross val testing acc')\n",
    "\n",
    "plt.xlabel('Max_depth', fontsize='x-large')\n",
    "plt.ylabel('Accuracy', fontsize='x-large')\n",
    "\n",
    "plt.legend(loc='best', shadow=True, fontsize='x-large')\n",
    "plt.show()"
   ]
  },
  {
   "cell_type": "code",
   "execution_count": 94,
   "metadata": {},
   "outputs": [
    {
     "name": "stdout",
     "output_type": "stream",
     "text": [
      "0.8187662076250533\n",
      "{'max_depth': 12}\n"
     ]
    }
   ],
   "source": [
    "xgbc = XGBClassifier(n_estimators=490, gamma=9, colsample_bytree=0.7, subsample=0.55, min_child_weight=1, learning_rate=0.1, random_state=2, use_label_encoder=False, eval_metric='logloss')\n",
    "\n",
    "param_grid = { \"max_depth\" : [10,11,12,13,14,15,16,17,18]}\n",
    "\n",
    "gs = GridSearchCV(estimator=xgbc, param_grid=param_grid, scoring='accuracy', cv=5, n_jobs=-1)\n",
    "\n",
    "gs = gs.fit(X_data, y_data)\n",
    "print(gs.best_score_)\n",
    "print(gs.best_params_)"
   ]
  },
  {
   "cell_type": "code",
   "execution_count": 71,
   "metadata": {},
   "outputs": [
    {
     "data": {
      "image/png": "[encoded data removed]",
      "text/plain": [
       "<Figure size 432x288 with 1 Axes>"
      ]
     },
     "metadata": {
      "needs_background": "light"
     },
     "output_type": "display_data"
    }
   ],
   "source": [
    "weight_range = range(0, 5)\n",
    "\n",
    "train_acc = []\n",
    "test_acc = []\n",
    "cross_val_train =[]\n",
    "cross_val_test =[]\n",
    "\n",
    "for d in weight_range:\n",
    "    xgbc = XGBClassifier(weight_range=d, gamma=9, subsample=0.6, max_depth=12, min_child_weight=1, colsample_bytree=0.6, \n",
    "                         learning_rate=0.1, random_state=2, use_label_encoder=False, eval_metric='logloss')\n",
    "    xgbc.fit(X_train, y_train.ravel()) \n",
    "    train_acc.append(accuracy_score(xgbc.predict(X_train), y_train))\n",
    "    test_acc.append(accuracy_score(xgbc.predict(X_test), y_test))\n",
    "    \n",
    "    results  = cross_validate(xgbc, X_data, y_data.ravel(), scoring='accuracy', cv=5, return_train_score = True)\n",
    "    cross_val_train.append(sum(results['train_score'])/len(results['train_score']))\n",
    "    cross_val_test.append(sum(results['test_score'])/len(results['test_score']))\n",
    "    \n",
    "plt.plot(weight_range, cross_val_train, 'bo-', label ='cross val training acc')\n",
    "plt.plot(weight_range, cross_val_test, 'ro-', label = 'cross val testing acc')\n",
    "\n",
    "plt.xlabel('Min_child_weight', fontsize='x-large')\n",
    "plt.ylabel('Accuracy', fontsize='x-large')\n",
    "\n",
    "plt.legend(loc='best', shadow=True, fontsize='x-large')\n",
    "plt.show()"
   ]
  },
  {
   "cell_type": "code",
   "execution_count": 73,
   "metadata": {},
   "outputs": [
    {
     "data": {
      "image/png": "[encoded data removed]",
      "text/plain": [
       "<Figure size 432x288 with 1 Axes>"
      ]
     },
     "metadata": {
      "needs_background": "light"
     },
     "output_type": "display_data"
    }
   ],
   "source": [
    "subsample_range = [0.4,0.5,0.6,0.8,0.9,1]\n",
    "\n",
    "train_acc = []\n",
    "test_acc = []\n",
    "cross_val_train =[]\n",
    "cross_val_test =[]\n",
    "\n",
    "for d in subsample_range:\n",
    "    xgb = XGBClassifier(subsample=d, gamma=9, max_depth=15, min_child_weight=1, colsample_bytree=0.6, \n",
    "                        learning_rate=0.1, random_state=2, use_label_encoder=False, eval_metric='logloss')\n",
    "    xgb.fit(X_train, y_train.ravel()) \n",
    "    train_acc.append(accuracy_score(xgb.predict(X_train), y_train))\n",
    "    test_acc.append(accuracy_score(xgb.predict(X_test), y_test))\n",
    "    \n",
    "    results  = cross_validate(xgb, X_data, y_data.ravel(), scoring='accuracy', cv=5, return_train_score = True)\n",
    "    cross_val_train.append(sum(results['train_score'])/len(results['train_score']))\n",
    "    cross_val_test.append(sum(results['test_score'])/len(results['test_score']))\n",
    "\n",
    "plt.plot(subsample_range, cross_val_train, 'bo-', label ='cross val training acc')\n",
    "plt.plot(subsample_range, cross_val_test, 'ro-', label = 'cross val testing acc')\n",
    "\n",
    "plt.xlabel('subsample', fontsize='x-large')\n",
    "plt.ylabel('Accuracy', fontsize='x-large')\n",
    "\n",
    "plt.legend(loc='best', shadow=True, fontsize='x-small')\n",
    "plt.show()"
   ]
  },
  {
   "cell_type": "code",
   "execution_count": 93,
   "metadata": {},
   "outputs": [
    {
     "name": "stdout",
     "output_type": "stream",
     "text": [
      "0.8185518454757428\n",
      "{'subsample': 0.55}\n"
     ]
    }
   ],
   "source": [
    "xgb = XGBClassifier(n_estimators=490, gamma=9, colsample_bytree=0.7, max_depth=15, min_child_weight=1, learning_rate=0.1, random_state=2, use_label_encoder=False, eval_metric='logloss')\n",
    "\n",
    "param_grid = { \"subsample\" : [0.4,0.45,0.5,0.55,0.6,0.65,0.7,0.75,0.8,0.85,0.9,0.95,1]}\n",
    "\n",
    "gs = GridSearchCV(estimator=xgb, param_grid=param_grid, scoring='accuracy', cv=5, n_jobs=-1)\n",
    "\n",
    "gs = gs.fit(X_data, y_data)\n",
    "print(gs.best_score_)\n",
    "print(gs.best_params_)"
   ]
  },
  {
   "cell_type": "code",
   "execution_count": 78,
   "metadata": {},
   "outputs": [
    {
     "data": {
      "image/png": "[encoded data removed]",
      "text/plain": [
       "<Figure size 432x288 with 1 Axes>"
      ]
     },
     "metadata": {
      "needs_background": "light"
     },
     "output_type": "display_data"
    }
   ],
   "source": [
    "colsample_range = np.arange(0.5,1,0.1)\n",
    "\n",
    "train_acc = []\n",
    "test_acc = []\n",
    "cross_val_train =[]\n",
    "cross_val_test =[]\n",
    "\n",
    "for d in colsample_range:\n",
    "    xgb = XGBClassifier(colsample_bytree=d, gamma=9, subsample=0.55, max_depth=12, min_child_weight=1, \n",
    "                        learning_rate=0.1, random_state=2, use_label_encoder=False, eval_metric='logloss')\n",
    "    xgb.fit(X_train, y_train.ravel()) \n",
    "    train_acc.append(accuracy_score(xgb.predict(X_train), y_train))\n",
    "    test_acc.append(accuracy_score(xgb.predict(X_test), y_test))\n",
    "    \n",
    "    results  = cross_validate(xgb, X_data, y_data.ravel(), scoring='accuracy', cv=5, return_train_score = True)\n",
    "    cross_val_train.append(sum(results['train_score'])/len(results['train_score']))\n",
    "    cross_val_test.append(sum(results['test_score'])/len(results['test_score']))\n",
    "\n",
    "plt.plot(colsample_range, cross_val_train, 'bo-', label ='cross val training acc')\n",
    "plt.plot(colsample_range, cross_val_test, 'ro-', label = 'cross val testing acc')\n",
    "\n",
    "plt.xlabel('colsample_bytree', fontsize='x-large')\n",
    "plt.ylabel('Accuracy', fontsize='x-large')\n",
    "\n",
    "plt.legend(loc='best', shadow=True, fontsize='x-large')\n",
    "plt.show()"
   ]
  },
  {
   "cell_type": "code",
   "execution_count": 92,
   "metadata": {},
   "outputs": [
    {
     "name": "stdout",
     "output_type": "stream",
     "text": [
      "0.8179101353497981\n",
      "{'colsample_bytree': 0.7}\n"
     ]
    }
   ],
   "source": [
    "xgb = XGBClassifier(n_estimators=490, gamma=9, subsample=0.6, max_depth=15, min_child_weight=1, learning_rate=0.1, random_state=2, use_label_encoder=False, eval_metric='logloss')\n",
    "\n",
    "param_grid = { \"colsample_bytree\" : [0.5,0.55,0.6,0.65,0.7,0.75,0.8,0.85,0.9]}\n",
    "\n",
    "gs = GridSearchCV(estimator=xgb, param_grid=param_grid, scoring='accuracy', cv=5, n_jobs=-1)\n",
    "\n",
    "gs = gs.fit(X_data, y_data)\n",
    "print(gs.best_score_)\n",
    "print(gs.best_params_)"
   ]
  },
  {
   "cell_type": "code",
   "execution_count": 81,
   "metadata": {},
   "outputs": [
    {
     "data": {
      "image/png": "[encoded data removed]",
      "text/plain": [
       "<Figure size 432x288 with 1 Axes>"
      ]
     },
     "metadata": {
      "needs_background": "light"
     },
     "output_type": "display_data"
    }
   ],
   "source": [
    "learning_range = [0.01,0.05,0.1,0.2,0.3,0.4,0.5,0.6,0.7,0.8]\n",
    "\n",
    "train_acc = []\n",
    "test_acc = []\n",
    "cross_val_train =[]\n",
    "cross_val_test =[]\n",
    "\n",
    "for d in learning_range:\n",
    "    xgb = XGBClassifier(learning_rate=d, gamma=9, subsample=0.6, max_depth=15, min_child_weight=1, \n",
    "                        colsample_bytree=0.7, random_state=2, use_label_encoder=False, eval_metric='logloss')\n",
    "    xgb.fit(X_train, y_train.ravel()) \n",
    "    train_acc.append(accuracy_score(xgb.predict(X_train), y_train))\n",
    "    test_acc.append(accuracy_score(xgb.predict(X_test), y_test))\n",
    "    \n",
    "    results  = cross_validate(xgb, X_data, y_data.ravel(), scoring='accuracy', cv=5, return_train_score = True)\n",
    "    cross_val_train.append(sum(results['train_score'])/len(results['train_score']))\n",
    "    cross_val_test.append(sum(results['test_score'])/len(results['test_score']))\n",
    "plt.plot(learning_range, cross_val_train, 'bo-', label ='cross val training acc')\n",
    "plt.plot(learning_range, cross_val_test, 'ro-', label = 'cross val testing acc')\n",
    "\n",
    "plt.xlabel('learning_rate', fontsize='x-large')\n",
    "plt.ylabel('Accuracy', fontsize='x-large')\n",
    "\n",
    "plt.legend(loc='best', shadow=True, fontsize='x-large')\n",
    "plt.show()"
   ]
  },
  {
   "cell_type": "code",
   "execution_count": 91,
   "metadata": {},
   "outputs": [
    {
     "name": "stdout",
     "output_type": "stream",
     "text": [
      "0.8179095618823038\n",
      "{'learning_rate': 0.1}\n"
     ]
    }
   ],
   "source": [
    "xgb = XGBClassifier(n_estimators=490, gamma=9, subsample=0.6, max_depth=15, min_child_weight=1, colsample_bytree=0.6, random_state=2, use_label_encoder=False, eval_metric='logloss')\n",
    "\n",
    "param_grid = { \"learning_rate\" : [0.0,0.05,0.1,0.15,0.2,0.25,0.30,0.35,0.4,0.45,0.5,0,55,0.6,0.65,0.7,0.75,0.8]}\n",
    "\n",
    "gs = GridSearchCV(estimator=xgb, param_grid=param_grid, scoring='accuracy', cv=5, n_jobs=-1)\n",
    "\n",
    "gs = gs.fit(X_data, y_data)\n",
    "print(gs.best_score_)\n",
    "print(gs.best_params_)"
   ]
  },
  {
   "cell_type": "code",
   "execution_count": 84,
   "metadata": {},
   "outputs": [
    {
     "name": "stdout",
     "output_type": "stream",
     "text": [
      "0.8178024381543981\n",
      "{'n_estimators': 500}\n"
     ]
    }
   ],
   "source": [
    "xgb = XGBClassifier(gamma=9, subsample=0.6, max_depth=12, min_child_weight=1, colsample_bytree=0.6, learning_rate=0.1, \n",
    "                    random_state=2, use_label_encoder=False, eval_metric='logloss')\n",
    "\n",
    "param_grid = { \"n_estimators\" : [400,450,500,550,600,650,700,750,800,850,900,950,1000]}\n",
    "\n",
    "\n",
    "gs = GridSearchCV(estimator=xgb, param_grid=param_grid, scoring='accuracy', cv=5, n_jobs=-1)\n",
    "\n",
    "gs = gs.fit(X_data, y_data)\n",
    "print(gs.best_score_)\n",
    "print(gs.best_params_)"
   ]
  },
  {
   "cell_type": "code",
   "execution_count": 85,
   "metadata": {},
   "outputs": [
    {
     "name": "stdout",
     "output_type": "stream",
     "text": [
      "0.8179095618823038\n",
      "{'n_estimators': 490}\n"
     ]
    }
   ],
   "source": [
    "xgb = XGBClassifier(gamma=9, subsample=0.6, max_depth=12, min_child_weight=1, colsample_bytree=0.6, learning_rate=0.1, \n",
    "                    random_state=2, use_label_encoder=False, eval_metric='logloss')\n",
    "\n",
    "param_grid = { \"n_estimators\" : [470,480,490,500,510,520,530]}\n",
    "\n",
    "\n",
    "gs = GridSearchCV(estimator=xgb, param_grid=param_grid, scoring='accuracy', cv=5, n_jobs=-1)\n",
    "\n",
    "gs = gs.fit(X_data, y_data)\n",
    "print(gs.best_score_)\n",
    "print(gs.best_params_)"
   ]
  },
  {
   "cell_type": "code",
   "execution_count": 87,
   "metadata": {},
   "outputs": [
    {
     "name": "stdout",
     "output_type": "stream",
     "text": [
      "[03:10:32] WARNING: ..\\src\\learner.cc:576: \n",
      "Parameters: { \"n_estimator\" } might not be used.\n",
      "\n",
      "  This could be a false alarm, with some parameters getting used by language bindings but\n",
      "  then being mistakenly passed down to XGBoost core, or some parameter actually being used\n",
      "  but getting flagged wrongly here. Please open an issue if you find any such cases.\n",
      "\n",
      "\n",
      "[03:10:33] WARNING: ..\\src\\learner.cc:576: \n",
      "Parameters: { \"n_estimator\" } might not be used.\n",
      "\n",
      "  This could be a false alarm, with some parameters getting used by language bindings but\n",
      "  then being mistakenly passed down to XGBoost core, or some parameter actually being used\n",
      "  but getting flagged wrongly here. Please open an issue if you find any such cases.\n",
      "\n",
      "\n",
      "[03:10:33] WARNING: ..\\src\\learner.cc:576: \n",
      "Parameters: { \"n_estimator\" } might not be used.\n",
      "\n",
      "  This could be a false alarm, with some parameters getting used by language bindings but\n",
      "  then being mistakenly passed down to XGBoost core, or some parameter actually being used\n",
      "  but getting flagged wrongly here. Please open an issue if you find any such cases.\n",
      "\n",
      "\n",
      "[03:10:34] WARNING: ..\\src\\learner.cc:576: \n",
      "Parameters: { \"n_estimator\" } might not be used.\n",
      "\n",
      "  This could be a false alarm, with some parameters getting used by language bindings but\n",
      "  then being mistakenly passed down to XGBoost core, or some parameter actually being used\n",
      "  but getting flagged wrongly here. Please open an issue if you find any such cases.\n",
      "\n",
      "\n",
      "[03:10:35] WARNING: ..\\src\\learner.cc:576: \n",
      "Parameters: { \"n_estimator\" } might not be used.\n",
      "\n",
      "  This could be a false alarm, with some parameters getting used by language bindings but\n",
      "  then being mistakenly passed down to XGBoost core, or some parameter actually being used\n",
      "  but getting flagged wrongly here. Please open an issue if you find any such cases.\n",
      "\n",
      "\n",
      "[03:10:36] WARNING: ..\\src\\learner.cc:576: \n",
      "Parameters: { \"n_estimator\" } might not be used.\n",
      "\n",
      "  This could be a false alarm, with some parameters getting used by language bindings but\n",
      "  then being mistakenly passed down to XGBoost core, or some parameter actually being used\n",
      "  but getting flagged wrongly here. Please open an issue if you find any such cases.\n",
      "\n",
      "\n",
      "[03:10:37] WARNING: ..\\src\\learner.cc:576: \n",
      "Parameters: { \"n_estimator\" } might not be used.\n",
      "\n",
      "  This could be a false alarm, with some parameters getting used by language bindings but\n",
      "  then being mistakenly passed down to XGBoost core, or some parameter actually being used\n",
      "  but getting flagged wrongly here. Please open an issue if you find any such cases.\n",
      "\n",
      "\n",
      "[03:10:37] WARNING: ..\\src\\learner.cc:576: \n",
      "Parameters: { \"n_estimator\" } might not be used.\n",
      "\n",
      "  This could be a false alarm, with some parameters getting used by language bindings but\n",
      "  then being mistakenly passed down to XGBoost core, or some parameter actually being used\n",
      "  but getting flagged wrongly here. Please open an issue if you find any such cases.\n",
      "\n",
      "\n",
      "[03:10:38] WARNING: ..\\src\\learner.cc:576: \n",
      "Parameters: { \"n_estimator\" } might not be used.\n",
      "\n",
      "  This could be a false alarm, with some parameters getting used by language bindings but\n",
      "  then being mistakenly passed down to XGBoost core, or some parameter actually being used\n",
      "  but getting flagged wrongly here. Please open an issue if you find any such cases.\n",
      "\n",
      "\n",
      "[03:10:39] WARNING: ..\\src\\learner.cc:576: \n",
      "Parameters: { \"n_estimator\" } might not be used.\n",
      "\n",
      "  This could be a false alarm, with some parameters getting used by language bindings but\n",
      "  then being mistakenly passed down to XGBoost core, or some parameter actually being used\n",
      "  but getting flagged wrongly here. Please open an issue if you find any such cases.\n",
      "\n",
      "\n",
      "[03:10:40] WARNING: ..\\src\\learner.cc:576: \n",
      "Parameters: { \"n_estimator\" } might not be used.\n",
      "\n",
      "  This could be a false alarm, with some parameters getting used by language bindings but\n",
      "  then being mistakenly passed down to XGBoost core, or some parameter actually being used\n",
      "  but getting flagged wrongly here. Please open an issue if you find any such cases.\n",
      "\n",
      "\n",
      "[03:10:41] WARNING: ..\\src\\learner.cc:576: \n",
      "Parameters: { \"n_estimator\" } might not be used.\n",
      "\n",
      "  This could be a false alarm, with some parameters getting used by language bindings but\n",
      "  then being mistakenly passed down to XGBoost core, or some parameter actually being used\n",
      "  but getting flagged wrongly here. Please open an issue if you find any such cases.\n",
      "\n",
      "\n",
      "[03:10:41] WARNING: ..\\src\\learner.cc:576: \n",
      "Parameters: { \"n_estimator\" } might not be used.\n",
      "\n",
      "  This could be a false alarm, with some parameters getting used by language bindings but\n",
      "  then being mistakenly passed down to XGBoost core, or some parameter actually being used\n",
      "  but getting flagged wrongly here. Please open an issue if you find any such cases.\n",
      "\n",
      "\n",
      "[03:10:42] WARNING: ..\\src\\learner.cc:576: \n",
      "Parameters: { \"n_estimator\" } might not be used.\n",
      "\n",
      "  This could be a false alarm, with some parameters getting used by language bindings but\n",
      "  then being mistakenly passed down to XGBoost core, or some parameter actually being used\n",
      "  but getting flagged wrongly here. Please open an issue if you find any such cases.\n",
      "\n",
      "\n",
      "[03:10:43] WARNING: ..\\src\\learner.cc:576: \n",
      "Parameters: { \"n_estimator\" } might not be used.\n",
      "\n",
      "  This could be a false alarm, with some parameters getting used by language bindings but\n",
      "  then being mistakenly passed down to XGBoost core, or some parameter actually being used\n",
      "  but getting flagged wrongly here. Please open an issue if you find any such cases.\n",
      "\n",
      "\n",
      "[03:10:44] WARNING: ..\\src\\learner.cc:576: \n",
      "Parameters: { \"n_estimator\" } might not be used.\n",
      "\n",
      "  This could be a false alarm, with some parameters getting used by language bindings but\n",
      "  then being mistakenly passed down to XGBoost core, or some parameter actually being used\n",
      "  but getting flagged wrongly here. Please open an issue if you find any such cases.\n",
      "\n",
      "\n",
      "[03:10:45] WARNING: ..\\src\\learner.cc:576: \n",
      "Parameters: { \"n_estimator\" } might not be used.\n",
      "\n",
      "  This could be a false alarm, with some parameters getting used by language bindings but\n",
      "  then being mistakenly passed down to XGBoost core, or some parameter actually being used\n",
      "  but getting flagged wrongly here. Please open an issue if you find any such cases.\n",
      "\n",
      "\n",
      "[03:10:45] WARNING: ..\\src\\learner.cc:576: \n",
      "Parameters: { \"n_estimator\" } might not be used.\n",
      "\n",
      "  This could be a false alarm, with some parameters getting used by language bindings but\n",
      "  then being mistakenly passed down to XGBoost core, or some parameter actually being used\n",
      "  but getting flagged wrongly here. Please open an issue if you find any such cases.\n",
      "\n",
      "\n",
      "[03:10:46] WARNING: ..\\src\\learner.cc:576: \n",
      "Parameters: { \"n_estimator\" } might not be used.\n",
      "\n",
      "  This could be a false alarm, with some parameters getting used by language bindings but\n",
      "  then being mistakenly passed down to XGBoost core, or some parameter actually being used\n",
      "  but getting flagged wrongly here. Please open an issue if you find any such cases.\n",
      "\n",
      "\n",
      "[03:10:47] WARNING: ..\\src\\learner.cc:576: \n",
      "Parameters: { \"n_estimator\" } might not be used.\n",
      "\n",
      "  This could be a false alarm, with some parameters getting used by language bindings but\n",
      "  then being mistakenly passed down to XGBoost core, or some parameter actually being used\n",
      "  but getting flagged wrongly here. Please open an issue if you find any such cases.\n",
      "\n",
      "\n",
      "[03:10:48] WARNING: ..\\src\\learner.cc:576: \n",
      "Parameters: { \"n_estimator\" } might not be used.\n",
      "\n",
      "  This could be a false alarm, with some parameters getting used by language bindings but\n",
      "  then being mistakenly passed down to XGBoost core, or some parameter actually being used\n",
      "  but getting flagged wrongly here. Please open an issue if you find any such cases.\n",
      "\n",
      "\n",
      "[03:10:49] WARNING: ..\\src\\learner.cc:576: \n",
      "Parameters: { \"n_estimator\" } might not be used.\n",
      "\n",
      "  This could be a false alarm, with some parameters getting used by language bindings but\n",
      "  then being mistakenly passed down to XGBoost core, or some parameter actually being used\n",
      "  but getting flagged wrongly here. Please open an issue if you find any such cases.\n",
      "\n",
      "\n",
      "[03:10:49] WARNING: ..\\src\\learner.cc:576: \n",
      "Parameters: { \"n_estimator\" } might not be used.\n",
      "\n",
      "  This could be a false alarm, with some parameters getting used by language bindings but\n",
      "  then being mistakenly passed down to XGBoost core, or some parameter actually being used\n",
      "  but getting flagged wrongly here. Please open an issue if you find any such cases.\n",
      "\n",
      "\n"
     ]
    },
    {
     "name": "stdout",
     "output_type": "stream",
     "text": [
      "[03:10:50] WARNING: ..\\src\\learner.cc:576: \n",
      "Parameters: { \"n_estimator\" } might not be used.\n",
      "\n",
      "  This could be a false alarm, with some parameters getting used by language bindings but\n",
      "  then being mistakenly passed down to XGBoost core, or some parameter actually being used\n",
      "  but getting flagged wrongly here. Please open an issue if you find any such cases.\n",
      "\n",
      "\n",
      "[03:10:51] WARNING: ..\\src\\learner.cc:576: \n",
      "Parameters: { \"n_estimator\" } might not be used.\n",
      "\n",
      "  This could be a false alarm, with some parameters getting used by language bindings but\n",
      "  then being mistakenly passed down to XGBoost core, or some parameter actually being used\n",
      "  but getting flagged wrongly here. Please open an issue if you find any such cases.\n",
      "\n",
      "\n",
      "[03:10:52] WARNING: ..\\src\\learner.cc:576: \n",
      "Parameters: { \"n_estimator\" } might not be used.\n",
      "\n",
      "  This could be a false alarm, with some parameters getting used by language bindings but\n",
      "  then being mistakenly passed down to XGBoost core, or some parameter actually being used\n",
      "  but getting flagged wrongly here. Please open an issue if you find any such cases.\n",
      "\n",
      "\n",
      "[03:10:53] WARNING: ..\\src\\learner.cc:576: \n",
      "Parameters: { \"n_estimator\" } might not be used.\n",
      "\n",
      "  This could be a false alarm, with some parameters getting used by language bindings but\n",
      "  then being mistakenly passed down to XGBoost core, or some parameter actually being used\n",
      "  but getting flagged wrongly here. Please open an issue if you find any such cases.\n",
      "\n",
      "\n",
      "[03:10:53] WARNING: ..\\src\\learner.cc:576: \n",
      "Parameters: { \"n_estimator\" } might not be used.\n",
      "\n",
      "  This could be a false alarm, with some parameters getting used by language bindings but\n",
      "  then being mistakenly passed down to XGBoost core, or some parameter actually being used\n",
      "  but getting flagged wrongly here. Please open an issue if you find any such cases.\n",
      "\n",
      "\n",
      "[03:10:54] WARNING: ..\\src\\learner.cc:576: \n",
      "Parameters: { \"n_estimator\" } might not be used.\n",
      "\n",
      "  This could be a false alarm, with some parameters getting used by language bindings but\n",
      "  then being mistakenly passed down to XGBoost core, or some parameter actually being used\n",
      "  but getting flagged wrongly here. Please open an issue if you find any such cases.\n",
      "\n",
      "\n",
      "[03:10:55] WARNING: ..\\src\\learner.cc:576: \n",
      "Parameters: { \"n_estimator\" } might not be used.\n",
      "\n",
      "  This could be a false alarm, with some parameters getting used by language bindings but\n",
      "  then being mistakenly passed down to XGBoost core, or some parameter actually being used\n",
      "  but getting flagged wrongly here. Please open an issue if you find any such cases.\n",
      "\n",
      "\n",
      "[03:10:56] WARNING: ..\\src\\learner.cc:576: \n",
      "Parameters: { \"n_estimator\" } might not be used.\n",
      "\n",
      "  This could be a false alarm, with some parameters getting used by language bindings but\n",
      "  then being mistakenly passed down to XGBoost core, or some parameter actually being used\n",
      "  but getting flagged wrongly here. Please open an issue if you find any such cases.\n",
      "\n",
      "\n",
      "[03:10:57] WARNING: ..\\src\\learner.cc:576: \n",
      "Parameters: { \"n_estimator\" } might not be used.\n",
      "\n",
      "  This could be a false alarm, with some parameters getting used by language bindings but\n",
      "  then being mistakenly passed down to XGBoost core, or some parameter actually being used\n",
      "  but getting flagged wrongly here. Please open an issue if you find any such cases.\n",
      "\n",
      "\n",
      "[03:10:57] WARNING: ..\\src\\learner.cc:576: \n",
      "Parameters: { \"n_estimator\" } might not be used.\n",
      "\n",
      "  This could be a false alarm, with some parameters getting used by language bindings but\n",
      "  then being mistakenly passed down to XGBoost core, or some parameter actually being used\n",
      "  but getting flagged wrongly here. Please open an issue if you find any such cases.\n",
      "\n",
      "\n",
      "[03:10:58] WARNING: ..\\src\\learner.cc:576: \n",
      "Parameters: { \"n_estimator\" } might not be used.\n",
      "\n",
      "  This could be a false alarm, with some parameters getting used by language bindings but\n",
      "  then being mistakenly passed down to XGBoost core, or some parameter actually being used\n",
      "  but getting flagged wrongly here. Please open an issue if you find any such cases.\n",
      "\n",
      "\n",
      "[03:10:59] WARNING: ..\\src\\learner.cc:576: \n",
      "Parameters: { \"n_estimator\" } might not be used.\n",
      "\n",
      "  This could be a false alarm, with some parameters getting used by language bindings but\n",
      "  then being mistakenly passed down to XGBoost core, or some parameter actually being used\n",
      "  but getting flagged wrongly here. Please open an issue if you find any such cases.\n",
      "\n",
      "\n",
      "[03:11:00] WARNING: ..\\src\\learner.cc:576: \n",
      "Parameters: { \"n_estimator\" } might not be used.\n",
      "\n",
      "  This could be a false alarm, with some parameters getting used by language bindings but\n",
      "  then being mistakenly passed down to XGBoost core, or some parameter actually being used\n",
      "  but getting flagged wrongly here. Please open an issue if you find any such cases.\n",
      "\n",
      "\n",
      "[03:11:01] WARNING: ..\\src\\learner.cc:576: \n",
      "Parameters: { \"n_estimator\" } might not be used.\n",
      "\n",
      "  This could be a false alarm, with some parameters getting used by language bindings but\n",
      "  then being mistakenly passed down to XGBoost core, or some parameter actually being used\n",
      "  but getting flagged wrongly here. Please open an issue if you find any such cases.\n",
      "\n",
      "\n",
      "[03:11:01] WARNING: ..\\src\\learner.cc:576: \n",
      "Parameters: { \"n_estimator\" } might not be used.\n",
      "\n",
      "  This could be a false alarm, with some parameters getting used by language bindings but\n",
      "  then being mistakenly passed down to XGBoost core, or some parameter actually being used\n",
      "  but getting flagged wrongly here. Please open an issue if you find any such cases.\n",
      "\n",
      "\n",
      "[03:11:02] WARNING: ..\\src\\learner.cc:576: \n",
      "Parameters: { \"n_estimator\" } might not be used.\n",
      "\n",
      "  This could be a false alarm, with some parameters getting used by language bindings but\n",
      "  then being mistakenly passed down to XGBoost core, or some parameter actually being used\n",
      "  but getting flagged wrongly here. Please open an issue if you find any such cases.\n",
      "\n",
      "\n",
      "[03:11:03] WARNING: ..\\src\\learner.cc:576: \n",
      "Parameters: { \"n_estimator\" } might not be used.\n",
      "\n",
      "  This could be a false alarm, with some parameters getting used by language bindings but\n",
      "  then being mistakenly passed down to XGBoost core, or some parameter actually being used\n",
      "  but getting flagged wrongly here. Please open an issue if you find any such cases.\n",
      "\n",
      "\n",
      "[03:11:04] WARNING: ..\\src\\learner.cc:576: \n",
      "Parameters: { \"n_estimator\" } might not be used.\n",
      "\n",
      "  This could be a false alarm, with some parameters getting used by language bindings but\n",
      "  then being mistakenly passed down to XGBoost core, or some parameter actually being used\n",
      "  but getting flagged wrongly here. Please open an issue if you find any such cases.\n",
      "\n",
      "\n",
      "[03:11:05] WARNING: ..\\src\\learner.cc:576: \n",
      "Parameters: { \"n_estimator\" } might not be used.\n",
      "\n",
      "  This could be a false alarm, with some parameters getting used by language bindings but\n",
      "  then being mistakenly passed down to XGBoost core, or some parameter actually being used\n",
      "  but getting flagged wrongly here. Please open an issue if you find any such cases.\n",
      "\n",
      "\n",
      "[03:11:06] WARNING: ..\\src\\learner.cc:576: \n",
      "Parameters: { \"n_estimator\" } might not be used.\n",
      "\n",
      "  This could be a false alarm, with some parameters getting used by language bindings but\n",
      "  then being mistakenly passed down to XGBoost core, or some parameter actually being used\n",
      "  but getting flagged wrongly here. Please open an issue if you find any such cases.\n",
      "\n",
      "\n",
      "[03:11:06] WARNING: ..\\src\\learner.cc:576: \n",
      "Parameters: { \"n_estimator\" } might not be used.\n",
      "\n",
      "  This could be a false alarm, with some parameters getting used by language bindings but\n",
      "  then being mistakenly passed down to XGBoost core, or some parameter actually being used\n",
      "  but getting flagged wrongly here. Please open an issue if you find any such cases.\n",
      "\n",
      "\n",
      "[03:11:07] WARNING: ..\\src\\learner.cc:576: \n",
      "Parameters: { \"n_estimator\" } might not be used.\n",
      "\n",
      "  This could be a false alarm, with some parameters getting used by language bindings but\n",
      "  then being mistakenly passed down to XGBoost core, or some parameter actually being used\n",
      "  but getting flagged wrongly here. Please open an issue if you find any such cases.\n",
      "\n",
      "\n",
      "[03:11:08] WARNING: ..\\src\\learner.cc:576: \n",
      "Parameters: { \"n_estimator\" } might not be used.\n",
      "\n",
      "  This could be a false alarm, with some parameters getting used by language bindings but\n",
      "  then being mistakenly passed down to XGBoost core, or some parameter actually being used\n",
      "  but getting flagged wrongly here. Please open an issue if you find any such cases.\n",
      "\n",
      "\n"
     ]
    },
    {
     "name": "stdout",
     "output_type": "stream",
     "text": [
      "[03:11:09] WARNING: ..\\src\\learner.cc:576: \n",
      "Parameters: { \"n_estimator\" } might not be used.\n",
      "\n",
      "  This could be a false alarm, with some parameters getting used by language bindings but\n",
      "  then being mistakenly passed down to XGBoost core, or some parameter actually being used\n",
      "  but getting flagged wrongly here. Please open an issue if you find any such cases.\n",
      "\n",
      "\n",
      "[03:11:10] WARNING: ..\\src\\learner.cc:576: \n",
      "Parameters: { \"n_estimator\" } might not be used.\n",
      "\n",
      "  This could be a false alarm, with some parameters getting used by language bindings but\n",
      "  then being mistakenly passed down to XGBoost core, or some parameter actually being used\n",
      "  but getting flagged wrongly here. Please open an issue if you find any such cases.\n",
      "\n",
      "\n",
      "[03:11:10] WARNING: ..\\src\\learner.cc:576: \n",
      "Parameters: { \"n_estimator\" } might not be used.\n",
      "\n",
      "  This could be a false alarm, with some parameters getting used by language bindings but\n",
      "  then being mistakenly passed down to XGBoost core, or some parameter actually being used\n",
      "  but getting flagged wrongly here. Please open an issue if you find any such cases.\n",
      "\n",
      "\n",
      "[03:11:11] WARNING: ..\\src\\learner.cc:576: \n",
      "Parameters: { \"n_estimator\" } might not be used.\n",
      "\n",
      "  This could be a false alarm, with some parameters getting used by language bindings but\n",
      "  then being mistakenly passed down to XGBoost core, or some parameter actually being used\n",
      "  but getting flagged wrongly here. Please open an issue if you find any such cases.\n",
      "\n",
      "\n",
      "[03:11:12] WARNING: ..\\src\\learner.cc:576: \n",
      "Parameters: { \"n_estimator\" } might not be used.\n",
      "\n",
      "  This could be a false alarm, with some parameters getting used by language bindings but\n",
      "  then being mistakenly passed down to XGBoost core, or some parameter actually being used\n",
      "  but getting flagged wrongly here. Please open an issue if you find any such cases.\n",
      "\n",
      "\n",
      "[03:11:13] WARNING: ..\\src\\learner.cc:576: \n",
      "Parameters: { \"n_estimator\" } might not be used.\n",
      "\n",
      "  This could be a false alarm, with some parameters getting used by language bindings but\n",
      "  then being mistakenly passed down to XGBoost core, or some parameter actually being used\n",
      "  but getting flagged wrongly here. Please open an issue if you find any such cases.\n",
      "\n",
      "\n",
      "[03:11:14] WARNING: ..\\src\\learner.cc:576: \n",
      "Parameters: { \"n_estimator\" } might not be used.\n",
      "\n",
      "  This could be a false alarm, with some parameters getting used by language bindings but\n",
      "  then being mistakenly passed down to XGBoost core, or some parameter actually being used\n",
      "  but getting flagged wrongly here. Please open an issue if you find any such cases.\n",
      "\n",
      "\n",
      "[03:11:14] WARNING: ..\\src\\learner.cc:576: \n",
      "Parameters: { \"n_estimator\" } might not be used.\n",
      "\n",
      "  This could be a false alarm, with some parameters getting used by language bindings but\n",
      "  then being mistakenly passed down to XGBoost core, or some parameter actually being used\n",
      "  but getting flagged wrongly here. Please open an issue if you find any such cases.\n",
      "\n",
      "\n",
      "[03:11:15] WARNING: ..\\src\\learner.cc:576: \n",
      "Parameters: { \"n_estimator\" } might not be used.\n",
      "\n",
      "  This could be a false alarm, with some parameters getting used by language bindings but\n",
      "  then being mistakenly passed down to XGBoost core, or some parameter actually being used\n",
      "  but getting flagged wrongly here. Please open an issue if you find any such cases.\n",
      "\n",
      "\n",
      "[03:11:16] WARNING: ..\\src\\learner.cc:576: \n",
      "Parameters: { \"n_estimator\" } might not be used.\n",
      "\n",
      "  This could be a false alarm, with some parameters getting used by language bindings but\n",
      "  then being mistakenly passed down to XGBoost core, or some parameter actually being used\n",
      "  but getting flagged wrongly here. Please open an issue if you find any such cases.\n",
      "\n",
      "\n",
      "[03:11:17] WARNING: ..\\src\\learner.cc:576: \n",
      "Parameters: { \"n_estimator\" } might not be used.\n",
      "\n",
      "  This could be a false alarm, with some parameters getting used by language bindings but\n",
      "  then being mistakenly passed down to XGBoost core, or some parameter actually being used\n",
      "  but getting flagged wrongly here. Please open an issue if you find any such cases.\n",
      "\n",
      "\n",
      "[03:11:18] WARNING: ..\\src\\learner.cc:576: \n",
      "Parameters: { \"n_estimator\" } might not be used.\n",
      "\n",
      "  This could be a false alarm, with some parameters getting used by language bindings but\n",
      "  then being mistakenly passed down to XGBoost core, or some parameter actually being used\n",
      "  but getting flagged wrongly here. Please open an issue if you find any such cases.\n",
      "\n",
      "\n",
      "[03:11:19] WARNING: ..\\src\\learner.cc:576: \n",
      "Parameters: { \"n_estimator\" } might not be used.\n",
      "\n",
      "  This could be a false alarm, with some parameters getting used by language bindings but\n",
      "  then being mistakenly passed down to XGBoost core, or some parameter actually being used\n",
      "  but getting flagged wrongly here. Please open an issue if you find any such cases.\n",
      "\n",
      "\n",
      "[03:11:20] WARNING: ..\\src\\learner.cc:576: \n",
      "Parameters: { \"n_estimator\" } might not be used.\n",
      "\n",
      "  This could be a false alarm, with some parameters getting used by language bindings but\n",
      "  then being mistakenly passed down to XGBoost core, or some parameter actually being used\n",
      "  but getting flagged wrongly here. Please open an issue if you find any such cases.\n",
      "\n",
      "\n",
      "[03:11:20] WARNING: ..\\src\\learner.cc:576: \n",
      "Parameters: { \"n_estimator\" } might not be used.\n",
      "\n",
      "  This could be a false alarm, with some parameters getting used by language bindings but\n",
      "  then being mistakenly passed down to XGBoost core, or some parameter actually being used\n",
      "  but getting flagged wrongly here. Please open an issue if you find any such cases.\n",
      "\n",
      "\n",
      "[03:11:21] WARNING: ..\\src\\learner.cc:576: \n",
      "Parameters: { \"n_estimator\" } might not be used.\n",
      "\n",
      "  This could be a false alarm, with some parameters getting used by language bindings but\n",
      "  then being mistakenly passed down to XGBoost core, or some parameter actually being used\n",
      "  but getting flagged wrongly here. Please open an issue if you find any such cases.\n",
      "\n",
      "\n",
      "[03:11:22] WARNING: ..\\src\\learner.cc:576: \n",
      "Parameters: { \"n_estimator\" } might not be used.\n",
      "\n",
      "  This could be a false alarm, with some parameters getting used by language bindings but\n",
      "  then being mistakenly passed down to XGBoost core, or some parameter actually being used\n",
      "  but getting flagged wrongly here. Please open an issue if you find any such cases.\n",
      "\n",
      "\n",
      "[03:11:23] WARNING: ..\\src\\learner.cc:576: \n",
      "Parameters: { \"n_estimator\" } might not be used.\n",
      "\n",
      "  This could be a false alarm, with some parameters getting used by language bindings but\n",
      "  then being mistakenly passed down to XGBoost core, or some parameter actually being used\n",
      "  but getting flagged wrongly here. Please open an issue if you find any such cases.\n",
      "\n",
      "\n",
      "[03:11:24] WARNING: ..\\src\\learner.cc:576: \n",
      "Parameters: { \"n_estimator\" } might not be used.\n",
      "\n",
      "  This could be a false alarm, with some parameters getting used by language bindings but\n",
      "  then being mistakenly passed down to XGBoost core, or some parameter actually being used\n",
      "  but getting flagged wrongly here. Please open an issue if you find any such cases.\n",
      "\n",
      "\n",
      "[03:11:24] WARNING: ..\\src\\learner.cc:576: \n",
      "Parameters: { \"n_estimator\" } might not be used.\n",
      "\n",
      "  This could be a false alarm, with some parameters getting used by language bindings but\n",
      "  then being mistakenly passed down to XGBoost core, or some parameter actually being used\n",
      "  but getting flagged wrongly here. Please open an issue if you find any such cases.\n",
      "\n",
      "\n",
      "[03:11:25] WARNING: ..\\src\\learner.cc:576: \n",
      "Parameters: { \"n_estimator\" } might not be used.\n",
      "\n",
      "  This could be a false alarm, with some parameters getting used by language bindings but\n",
      "  then being mistakenly passed down to XGBoost core, or some parameter actually being used\n",
      "  but getting flagged wrongly here. Please open an issue if you find any such cases.\n",
      "\n",
      "\n",
      "[03:11:26] WARNING: ..\\src\\learner.cc:576: \n",
      "Parameters: { \"n_estimator\" } might not be used.\n",
      "\n",
      "  This could be a false alarm, with some parameters getting used by language bindings but\n",
      "  then being mistakenly passed down to XGBoost core, or some parameter actually being used\n",
      "  but getting flagged wrongly here. Please open an issue if you find any such cases.\n",
      "\n",
      "\n",
      "[03:11:27] WARNING: ..\\src\\learner.cc:576: \n",
      "Parameters: { \"n_estimator\" } might not be used.\n",
      "\n",
      "  This could be a false alarm, with some parameters getting used by language bindings but\n",
      "  then being mistakenly passed down to XGBoost core, or some parameter actually being used\n",
      "  but getting flagged wrongly here. Please open an issue if you find any such cases.\n",
      "\n",
      "\n"
     ]
    },
    {
     "name": "stdout",
     "output_type": "stream",
     "text": [
      "[03:11:28] WARNING: ..\\src\\learner.cc:576: \n",
      "Parameters: { \"n_estimator\" } might not be used.\n",
      "\n",
      "  This could be a false alarm, with some parameters getting used by language bindings but\n",
      "  then being mistakenly passed down to XGBoost core, or some parameter actually being used\n",
      "  but getting flagged wrongly here. Please open an issue if you find any such cases.\n",
      "\n",
      "\n",
      "[03:11:29] WARNING: ..\\src\\learner.cc:576: \n",
      "Parameters: { \"n_estimator\" } might not be used.\n",
      "\n",
      "  This could be a false alarm, with some parameters getting used by language bindings but\n",
      "  then being mistakenly passed down to XGBoost core, or some parameter actually being used\n",
      "  but getting flagged wrongly here. Please open an issue if you find any such cases.\n",
      "\n",
      "\n",
      "[03:11:29] WARNING: ..\\src\\learner.cc:576: \n",
      "Parameters: { \"n_estimator\" } might not be used.\n",
      "\n",
      "  This could be a false alarm, with some parameters getting used by language bindings but\n",
      "  then being mistakenly passed down to XGBoost core, or some parameter actually being used\n",
      "  but getting flagged wrongly here. Please open an issue if you find any such cases.\n",
      "\n",
      "\n",
      "[03:11:30] WARNING: ..\\src\\learner.cc:576: \n",
      "Parameters: { \"n_estimator\" } might not be used.\n",
      "\n",
      "  This could be a false alarm, with some parameters getting used by language bindings but\n",
      "  then being mistakenly passed down to XGBoost core, or some parameter actually being used\n",
      "  but getting flagged wrongly here. Please open an issue if you find any such cases.\n",
      "\n",
      "\n",
      "[03:11:31] WARNING: ..\\src\\learner.cc:576: \n",
      "Parameters: { \"n_estimator\" } might not be used.\n",
      "\n",
      "  This could be a false alarm, with some parameters getting used by language bindings but\n",
      "  then being mistakenly passed down to XGBoost core, or some parameter actually being used\n",
      "  but getting flagged wrongly here. Please open an issue if you find any such cases.\n",
      "\n",
      "\n",
      "[03:11:32] WARNING: ..\\src\\learner.cc:576: \n",
      "Parameters: { \"n_estimator\" } might not be used.\n",
      "\n",
      "  This could be a false alarm, with some parameters getting used by language bindings but\n",
      "  then being mistakenly passed down to XGBoost core, or some parameter actually being used\n",
      "  but getting flagged wrongly here. Please open an issue if you find any such cases.\n",
      "\n",
      "\n",
      "[03:11:33] WARNING: ..\\src\\learner.cc:576: \n",
      "Parameters: { \"n_estimator\" } might not be used.\n",
      "\n",
      "  This could be a false alarm, with some parameters getting used by language bindings but\n",
      "  then being mistakenly passed down to XGBoost core, or some parameter actually being used\n",
      "  but getting flagged wrongly here. Please open an issue if you find any such cases.\n",
      "\n",
      "\n",
      "[03:11:34] WARNING: ..\\src\\learner.cc:576: \n",
      "Parameters: { \"n_estimator\" } might not be used.\n",
      "\n",
      "  This could be a false alarm, with some parameters getting used by language bindings but\n",
      "  then being mistakenly passed down to XGBoost core, or some parameter actually being used\n",
      "  but getting flagged wrongly here. Please open an issue if you find any such cases.\n",
      "\n",
      "\n",
      "[03:11:34] WARNING: ..\\src\\learner.cc:576: \n",
      "Parameters: { \"n_estimator\" } might not be used.\n",
      "\n",
      "  This could be a false alarm, with some parameters getting used by language bindings but\n",
      "  then being mistakenly passed down to XGBoost core, or some parameter actually being used\n",
      "  but getting flagged wrongly here. Please open an issue if you find any such cases.\n",
      "\n",
      "\n",
      "[03:11:35] WARNING: ..\\src\\learner.cc:576: \n",
      "Parameters: { \"n_estimator\" } might not be used.\n",
      "\n",
      "  This could be a false alarm, with some parameters getting used by language bindings but\n",
      "  then being mistakenly passed down to XGBoost core, or some parameter actually being used\n",
      "  but getting flagged wrongly here. Please open an issue if you find any such cases.\n",
      "\n",
      "\n",
      "[03:11:36] WARNING: ..\\src\\learner.cc:576: \n",
      "Parameters: { \"n_estimator\" } might not be used.\n",
      "\n",
      "  This could be a false alarm, with some parameters getting used by language bindings but\n",
      "  then being mistakenly passed down to XGBoost core, or some parameter actually being used\n",
      "  but getting flagged wrongly here. Please open an issue if you find any such cases.\n",
      "\n",
      "\n",
      "[03:11:37] WARNING: ..\\src\\learner.cc:576: \n",
      "Parameters: { \"n_estimator\" } might not be used.\n",
      "\n",
      "  This could be a false alarm, with some parameters getting used by language bindings but\n",
      "  then being mistakenly passed down to XGBoost core, or some parameter actually being used\n",
      "  but getting flagged wrongly here. Please open an issue if you find any such cases.\n",
      "\n",
      "\n",
      "[03:11:38] WARNING: ..\\src\\learner.cc:576: \n",
      "Parameters: { \"n_estimator\" } might not be used.\n",
      "\n",
      "  This could be a false alarm, with some parameters getting used by language bindings but\n",
      "  then being mistakenly passed down to XGBoost core, or some parameter actually being used\n",
      "  but getting flagged wrongly here. Please open an issue if you find any such cases.\n",
      "\n",
      "\n",
      "[03:11:39] WARNING: ..\\src\\learner.cc:576: \n",
      "Parameters: { \"n_estimator\" } might not be used.\n",
      "\n",
      "  This could be a false alarm, with some parameters getting used by language bindings but\n",
      "  then being mistakenly passed down to XGBoost core, or some parameter actually being used\n",
      "  but getting flagged wrongly here. Please open an issue if you find any such cases.\n",
      "\n",
      "\n",
      "[03:11:40] WARNING: ..\\src\\learner.cc:576: \n",
      "Parameters: { \"n_estimator\" } might not be used.\n",
      "\n",
      "  This could be a false alarm, with some parameters getting used by language bindings but\n",
      "  then being mistakenly passed down to XGBoost core, or some parameter actually being used\n",
      "  but getting flagged wrongly here. Please open an issue if you find any such cases.\n",
      "\n",
      "\n",
      "[03:11:40] WARNING: ..\\src\\learner.cc:576: \n",
      "Parameters: { \"n_estimator\" } might not be used.\n",
      "\n",
      "  This could be a false alarm, with some parameters getting used by language bindings but\n",
      "  then being mistakenly passed down to XGBoost core, or some parameter actually being used\n",
      "  but getting flagged wrongly here. Please open an issue if you find any such cases.\n",
      "\n",
      "\n",
      "[03:11:41] WARNING: ..\\src\\learner.cc:576: \n",
      "Parameters: { \"n_estimator\" } might not be used.\n",
      "\n",
      "  This could be a false alarm, with some parameters getting used by language bindings but\n",
      "  then being mistakenly passed down to XGBoost core, or some parameter actually being used\n",
      "  but getting flagged wrongly here. Please open an issue if you find any such cases.\n",
      "\n",
      "\n",
      "[03:11:42] WARNING: ..\\src\\learner.cc:576: \n",
      "Parameters: { \"n_estimator\" } might not be used.\n",
      "\n",
      "  This could be a false alarm, with some parameters getting used by language bindings but\n",
      "  then being mistakenly passed down to XGBoost core, or some parameter actually being used\n",
      "  but getting flagged wrongly here. Please open an issue if you find any such cases.\n",
      "\n",
      "\n",
      "[03:11:43] WARNING: ..\\src\\learner.cc:576: \n",
      "Parameters: { \"n_estimator\" } might not be used.\n",
      "\n",
      "  This could be a false alarm, with some parameters getting used by language bindings but\n",
      "  then being mistakenly passed down to XGBoost core, or some parameter actually being used\n",
      "  but getting flagged wrongly here. Please open an issue if you find any such cases.\n",
      "\n",
      "\n",
      "[03:11:43] WARNING: ..\\src\\learner.cc:576: \n",
      "Parameters: { \"n_estimator\" } might not be used.\n",
      "\n",
      "  This could be a false alarm, with some parameters getting used by language bindings but\n",
      "  then being mistakenly passed down to XGBoost core, or some parameter actually being used\n",
      "  but getting flagged wrongly here. Please open an issue if you find any such cases.\n",
      "\n",
      "\n",
      "[03:11:44] WARNING: ..\\src\\learner.cc:576: \n",
      "Parameters: { \"n_estimator\" } might not be used.\n",
      "\n",
      "  This could be a false alarm, with some parameters getting used by language bindings but\n",
      "  then being mistakenly passed down to XGBoost core, or some parameter actually being used\n",
      "  but getting flagged wrongly here. Please open an issue if you find any such cases.\n",
      "\n",
      "\n",
      "[03:11:45] WARNING: ..\\src\\learner.cc:576: \n",
      "Parameters: { \"n_estimator\" } might not be used.\n",
      "\n",
      "  This could be a false alarm, with some parameters getting used by language bindings but\n",
      "  then being mistakenly passed down to XGBoost core, or some parameter actually being used\n",
      "  but getting flagged wrongly here. Please open an issue if you find any such cases.\n",
      "\n",
      "\n",
      "[03:11:46] WARNING: ..\\src\\learner.cc:576: \n",
      "Parameters: { \"n_estimator\" } might not be used.\n",
      "\n",
      "  This could be a false alarm, with some parameters getting used by language bindings but\n",
      "  then being mistakenly passed down to XGBoost core, or some parameter actually being used\n",
      "  but getting flagged wrongly here. Please open an issue if you find any such cases.\n",
      "\n",
      "\n"
     ]
    },
    {
     "name": "stdout",
     "output_type": "stream",
     "text": [
      "[03:11:47] WARNING: ..\\src\\learner.cc:576: \n",
      "Parameters: { \"n_estimator\" } might not be used.\n",
      "\n",
      "  This could be a false alarm, with some parameters getting used by language bindings but\n",
      "  then being mistakenly passed down to XGBoost core, or some parameter actually being used\n",
      "  but getting flagged wrongly here. Please open an issue if you find any such cases.\n",
      "\n",
      "\n",
      "[03:11:47] WARNING: ..\\src\\learner.cc:576: \n",
      "Parameters: { \"n_estimator\" } might not be used.\n",
      "\n",
      "  This could be a false alarm, with some parameters getting used by language bindings but\n",
      "  then being mistakenly passed down to XGBoost core, or some parameter actually being used\n",
      "  but getting flagged wrongly here. Please open an issue if you find any such cases.\n",
      "\n",
      "\n",
      "[03:11:48] WARNING: ..\\src\\learner.cc:576: \n",
      "Parameters: { \"n_estimator\" } might not be used.\n",
      "\n",
      "  This could be a false alarm, with some parameters getting used by language bindings but\n",
      "  then being mistakenly passed down to XGBoost core, or some parameter actually being used\n",
      "  but getting flagged wrongly here. Please open an issue if you find any such cases.\n",
      "\n",
      "\n",
      "[03:11:49] WARNING: ..\\src\\learner.cc:576: \n",
      "Parameters: { \"n_estimator\" } might not be used.\n",
      "\n",
      "  This could be a false alarm, with some parameters getting used by language bindings but\n",
      "  then being mistakenly passed down to XGBoost core, or some parameter actually being used\n",
      "  but getting flagged wrongly here. Please open an issue if you find any such cases.\n",
      "\n",
      "\n",
      "[03:11:50] WARNING: ..\\src\\learner.cc:576: \n",
      "Parameters: { \"n_estimator\" } might not be used.\n",
      "\n",
      "  This could be a false alarm, with some parameters getting used by language bindings but\n",
      "  then being mistakenly passed down to XGBoost core, or some parameter actually being used\n",
      "  but getting flagged wrongly here. Please open an issue if you find any such cases.\n",
      "\n",
      "\n",
      "[03:11:50] WARNING: ..\\src\\learner.cc:576: \n",
      "Parameters: { \"n_estimator\" } might not be used.\n",
      "\n",
      "  This could be a false alarm, with some parameters getting used by language bindings but\n",
      "  then being mistakenly passed down to XGBoost core, or some parameter actually being used\n",
      "  but getting flagged wrongly here. Please open an issue if you find any such cases.\n",
      "\n",
      "\n",
      "[03:11:51] WARNING: ..\\src\\learner.cc:576: \n",
      "Parameters: { \"n_estimator\" } might not be used.\n",
      "\n",
      "  This could be a false alarm, with some parameters getting used by language bindings but\n",
      "  then being mistakenly passed down to XGBoost core, or some parameter actually being used\n",
      "  but getting flagged wrongly here. Please open an issue if you find any such cases.\n",
      "\n",
      "\n",
      "[03:11:52] WARNING: ..\\src\\learner.cc:576: \n",
      "Parameters: { \"n_estimator\" } might not be used.\n",
      "\n",
      "  This could be a false alarm, with some parameters getting used by language bindings but\n",
      "  then being mistakenly passed down to XGBoost core, or some parameter actually being used\n",
      "  but getting flagged wrongly here. Please open an issue if you find any such cases.\n",
      "\n",
      "\n",
      "[03:11:53] WARNING: ..\\src\\learner.cc:576: \n",
      "Parameters: { \"n_estimator\" } might not be used.\n",
      "\n",
      "  This could be a false alarm, with some parameters getting used by language bindings but\n",
      "  then being mistakenly passed down to XGBoost core, or some parameter actually being used\n",
      "  but getting flagged wrongly here. Please open an issue if you find any such cases.\n",
      "\n",
      "\n",
      "[03:11:54] WARNING: ..\\src\\learner.cc:576: \n",
      "Parameters: { \"n_estimator\" } might not be used.\n",
      "\n",
      "  This could be a false alarm, with some parameters getting used by language bindings but\n",
      "  then being mistakenly passed down to XGBoost core, or some parameter actually being used\n",
      "  but getting flagged wrongly here. Please open an issue if you find any such cases.\n",
      "\n",
      "\n",
      "[03:11:54] WARNING: ..\\src\\learner.cc:576: \n",
      "Parameters: { \"n_estimator\" } might not be used.\n",
      "\n",
      "  This could be a false alarm, with some parameters getting used by language bindings but\n",
      "  then being mistakenly passed down to XGBoost core, or some parameter actually being used\n",
      "  but getting flagged wrongly here. Please open an issue if you find any such cases.\n",
      "\n",
      "\n",
      "[03:11:55] WARNING: ..\\src\\learner.cc:576: \n",
      "Parameters: { \"n_estimator\" } might not be used.\n",
      "\n",
      "  This could be a false alarm, with some parameters getting used by language bindings but\n",
      "  then being mistakenly passed down to XGBoost core, or some parameter actually being used\n",
      "  but getting flagged wrongly here. Please open an issue if you find any such cases.\n",
      "\n",
      "\n",
      "[03:11:56] WARNING: ..\\src\\learner.cc:576: \n",
      "Parameters: { \"n_estimator\" } might not be used.\n",
      "\n",
      "  This could be a false alarm, with some parameters getting used by language bindings but\n",
      "  then being mistakenly passed down to XGBoost core, or some parameter actually being used\n",
      "  but getting flagged wrongly here. Please open an issue if you find any such cases.\n",
      "\n",
      "\n",
      "[03:11:57] WARNING: ..\\src\\learner.cc:576: \n",
      "Parameters: { \"n_estimator\" } might not be used.\n",
      "\n",
      "  This could be a false alarm, with some parameters getting used by language bindings but\n",
      "  then being mistakenly passed down to XGBoost core, or some parameter actually being used\n",
      "  but getting flagged wrongly here. Please open an issue if you find any such cases.\n",
      "\n",
      "\n",
      "[03:11:58] WARNING: ..\\src\\learner.cc:576: \n",
      "Parameters: { \"n_estimator\" } might not be used.\n",
      "\n",
      "  This could be a false alarm, with some parameters getting used by language bindings but\n",
      "  then being mistakenly passed down to XGBoost core, or some parameter actually being used\n",
      "  but getting flagged wrongly here. Please open an issue if you find any such cases.\n",
      "\n",
      "\n",
      "[03:11:59] WARNING: ..\\src\\learner.cc:576: \n",
      "Parameters: { \"n_estimator\" } might not be used.\n",
      "\n",
      "  This could be a false alarm, with some parameters getting used by language bindings but\n",
      "  then being mistakenly passed down to XGBoost core, or some parameter actually being used\n",
      "  but getting flagged wrongly here. Please open an issue if you find any such cases.\n",
      "\n",
      "\n",
      "[03:11:59] WARNING: ..\\src\\learner.cc:576: \n",
      "Parameters: { \"n_estimator\" } might not be used.\n",
      "\n",
      "  This could be a false alarm, with some parameters getting used by language bindings but\n",
      "  then being mistakenly passed down to XGBoost core, or some parameter actually being used\n",
      "  but getting flagged wrongly here. Please open an issue if you find any such cases.\n",
      "\n",
      "\n",
      "[03:12:00] WARNING: ..\\src\\learner.cc:576: \n",
      "Parameters: { \"n_estimator\" } might not be used.\n",
      "\n",
      "  This could be a false alarm, with some parameters getting used by language bindings but\n",
      "  then being mistakenly passed down to XGBoost core, or some parameter actually being used\n",
      "  but getting flagged wrongly here. Please open an issue if you find any such cases.\n",
      "\n",
      "\n",
      "[03:12:01] WARNING: ..\\src\\learner.cc:576: \n",
      "Parameters: { \"n_estimator\" } might not be used.\n",
      "\n",
      "  This could be a false alarm, with some parameters getting used by language bindings but\n",
      "  then being mistakenly passed down to XGBoost core, or some parameter actually being used\n",
      "  but getting flagged wrongly here. Please open an issue if you find any such cases.\n",
      "\n",
      "\n",
      "[03:12:02] WARNING: ..\\src\\learner.cc:576: \n",
      "Parameters: { \"n_estimator\" } might not be used.\n",
      "\n",
      "  This could be a false alarm, with some parameters getting used by language bindings but\n",
      "  then being mistakenly passed down to XGBoost core, or some parameter actually being used\n",
      "  but getting flagged wrongly here. Please open an issue if you find any such cases.\n",
      "\n",
      "\n",
      "[03:12:03] WARNING: ..\\src\\learner.cc:576: \n",
      "Parameters: { \"n_estimator\" } might not be used.\n",
      "\n",
      "  This could be a false alarm, with some parameters getting used by language bindings but\n",
      "  then being mistakenly passed down to XGBoost core, or some parameter actually being used\n",
      "  but getting flagged wrongly here. Please open an issue if you find any such cases.\n",
      "\n",
      "\n",
      "[03:12:03] WARNING: ..\\src\\learner.cc:576: \n",
      "Parameters: { \"n_estimator\" } might not be used.\n",
      "\n",
      "  This could be a false alarm, with some parameters getting used by language bindings but\n",
      "  then being mistakenly passed down to XGBoost core, or some parameter actually being used\n",
      "  but getting flagged wrongly here. Please open an issue if you find any such cases.\n",
      "\n",
      "\n",
      "[03:12:04] WARNING: ..\\src\\learner.cc:576: \n",
      "Parameters: { \"n_estimator\" } might not be used.\n",
      "\n",
      "  This could be a false alarm, with some parameters getting used by language bindings but\n",
      "  then being mistakenly passed down to XGBoost core, or some parameter actually being used\n",
      "  but getting flagged wrongly here. Please open an issue if you find any such cases.\n",
      "\n",
      "\n"
     ]
    },
    {
     "name": "stdout",
     "output_type": "stream",
     "text": [
      "[03:12:05] WARNING: ..\\src\\learner.cc:576: \n",
      "Parameters: { \"n_estimator\" } might not be used.\n",
      "\n",
      "  This could be a false alarm, with some parameters getting used by language bindings but\n",
      "  then being mistakenly passed down to XGBoost core, or some parameter actually being used\n",
      "  but getting flagged wrongly here. Please open an issue if you find any such cases.\n",
      "\n",
      "\n",
      "[03:12:06] WARNING: ..\\src\\learner.cc:576: \n",
      "Parameters: { \"n_estimator\" } might not be used.\n",
      "\n",
      "  This could be a false alarm, with some parameters getting used by language bindings but\n",
      "  then being mistakenly passed down to XGBoost core, or some parameter actually being used\n",
      "  but getting flagged wrongly here. Please open an issue if you find any such cases.\n",
      "\n",
      "\n",
      "[03:12:06] WARNING: ..\\src\\learner.cc:576: \n",
      "Parameters: { \"n_estimator\" } might not be used.\n",
      "\n",
      "  This could be a false alarm, with some parameters getting used by language bindings but\n",
      "  then being mistakenly passed down to XGBoost core, or some parameter actually being used\n",
      "  but getting flagged wrongly here. Please open an issue if you find any such cases.\n",
      "\n",
      "\n",
      "[03:12:07] WARNING: ..\\src\\learner.cc:576: \n",
      "Parameters: { \"n_estimator\" } might not be used.\n",
      "\n",
      "  This could be a false alarm, with some parameters getting used by language bindings but\n",
      "  then being mistakenly passed down to XGBoost core, or some parameter actually being used\n",
      "  but getting flagged wrongly here. Please open an issue if you find any such cases.\n",
      "\n",
      "\n",
      "[03:12:08] WARNING: ..\\src\\learner.cc:576: \n",
      "Parameters: { \"n_estimator\" } might not be used.\n",
      "\n",
      "  This could be a false alarm, with some parameters getting used by language bindings but\n",
      "  then being mistakenly passed down to XGBoost core, or some parameter actually being used\n",
      "  but getting flagged wrongly here. Please open an issue if you find any such cases.\n",
      "\n",
      "\n"
     ]
    }
   ],
   "source": [
    "n_range = range(480,500)\n",
    "\n",
    "train_acc = []\n",
    "test_acc = []\n",
    "cross_val_train =[]\n",
    "cross_val_test =[]\n",
    "\n",
    "for d in n_range:\n",
    "    xgb = XGBClassifier(n_estimator=d, gamma=9, subsample=0.6, max_depth=15, min_child_weight=1, colsample_bytree=0.6, learning_rate=0.1, random_state=2, use_label_encoder=False, eval_metric='logloss')\n",
    "    xgb.fit(X_train, y_train.ravel()) \n",
    "    train_acc.append(accuracy_score(xgb.predict(X_train), y_train))\n",
    "    test_acc.append(accuracy_score(xgb.predict(X_test), y_test))\n",
    "    \n",
    "    results  = cross_validate(xgb, X_data, y_data.ravel(), scoring='accuracy', cv=5, return_train_score = True)\n",
    "    cross_val_train.append(sum(results['train_score'])/len(results['train_score']))\n",
    "    cross_val_test.append(sum(results['test_score'])/len(results['test_score']))"
   ]
  },
  {
   "cell_type": "code",
   "execution_count": 88,
   "metadata": {},
   "outputs": [
    {
     "data": {
      "image/png": "[encoded data removed]",
      "text/plain": [
       "<Figure size 432x288 with 1 Axes>"
      ]
     },
     "metadata": {
      "needs_background": "light"
     },
     "output_type": "display_data"
    }
   ],
   "source": [
    "plt.plot(n_range, cross_val_train, 'bo-', label ='cross val training acc')\n",
    "plt.plot(n_range, cross_val_test, 'ro-', label = 'cross val testing acc')\n",
    "\n",
    "plt.xlabel('n_estimators', fontsize='x-large')\n",
    "plt.ylabel('Accuracy', fontsize='x-large')\n",
    "\n",
    "plt.legend(loc='best', shadow=True, fontsize='x-large')\n",
    "plt.show()"
   ]
  },
  {
   "cell_type": "code",
   "execution_count": 9,
   "metadata": {},
   "outputs": [
    {
     "name": "stdout",
     "output_type": "stream",
     "text": [
      "train_score:  [0.83543117 0.83639041 0.83424823 0.83304325 0.83063328]\n",
      "test_score:  [0.81745182 0.82056776 0.81842528 0.81788966 0.81949652]\n",
      "cross val training accuracy is: 0.8339492684743073\n",
      "cross val testing accuracy is: 0.8187662076250533\n"
     ]
    }
   ],
   "source": [
    "xgb = XGBClassifier(n_estimators=490, gamma=9, max_depth=12, colsample_bytree=0.7, subsample=0.55, min_child_weight=1, \n",
    "                    learning_rate=0.1, random_state=2, use_label_encoder=False, eval_metric='logloss')\n",
    "\n",
    "xgb.fit(X_train,y_train)\n",
    "results  = cross_validate(xgb, X_data, y_data, scoring='accuracy', cv=5, return_train_score = True)\n",
    "\n",
    "print('train_score: ', results['train_score'])\n",
    "print('test_score: ', results['test_score'])\n",
    "print('cross val training accuracy is:', sum(results['train_score'])/len(results['train_score']))\n",
    "print('cross val testing accuracy is:', sum(results['test_score'])/len(results['test_score']))"
   ]
  },
  {
   "cell_type": "code",
   "execution_count": 10,
   "metadata": {},
   "outputs": [
    {
     "data": {
      "text/html": [
       "<div>\n",
       "<style scoped>\n",
       "    .dataframe tbody tr th:only-of-type {\n",
       "        vertical-align: middle;\n",
       "    }\n",
       "\n",
       "    .dataframe tbody tr th {\n",
       "        vertical-align: top;\n",
       "    }\n",
       "\n",
       "    .dataframe thead th {\n",
       "        text-align: right;\n",
       "    }\n",
       "</style>\n",
       "<table border=\"1\" class=\"dataframe\">\n",
       "  <thead>\n",
       "    <tr style=\"text-align: right;\">\n",
       "      <th></th>\n",
       "      <th>feature</th>\n",
       "      <th>importance</th>\n",
       "    </tr>\n",
       "  </thead>\n",
       "  <tbody>\n",
       "    <tr>\n",
       "      <th>9</th>\n",
       "      <td>KPIs_met &gt;80%</td>\n",
       "      <td>0.309671</td>\n",
       "    </tr>\n",
       "    <tr>\n",
       "      <th>7</th>\n",
       "      <td>previous_year_rating</td>\n",
       "      <td>0.139951</td>\n",
       "    </tr>\n",
       "    <tr>\n",
       "      <th>10</th>\n",
       "      <td>awards_won?</td>\n",
       "      <td>0.138747</td>\n",
       "    </tr>\n",
       "    <tr>\n",
       "      <th>11</th>\n",
       "      <td>avg_training_score</td>\n",
       "      <td>0.107674</td>\n",
       "    </tr>\n",
       "    <tr>\n",
       "      <th>0</th>\n",
       "      <td>department</td>\n",
       "      <td>0.086689</td>\n",
       "    </tr>\n",
       "    <tr>\n",
       "      <th>3</th>\n",
       "      <td>gender</td>\n",
       "      <td>0.040251</td>\n",
       "    </tr>\n",
       "    <tr>\n",
       "      <th>8</th>\n",
       "      <td>length_of_service</td>\n",
       "      <td>0.035413</td>\n",
       "    </tr>\n",
       "    <tr>\n",
       "      <th>4</th>\n",
       "      <td>recruitment_channel</td>\n",
       "      <td>0.032847</td>\n",
       "    </tr>\n",
       "    <tr>\n",
       "      <th>6</th>\n",
       "      <td>age</td>\n",
       "      <td>0.030744</td>\n",
       "    </tr>\n",
       "    <tr>\n",
       "      <th>1</th>\n",
       "      <td>region</td>\n",
       "      <td>0.029888</td>\n",
       "    </tr>\n",
       "    <tr>\n",
       "      <th>5</th>\n",
       "      <td>no_of_trainings</td>\n",
       "      <td>0.025879</td>\n",
       "    </tr>\n",
       "    <tr>\n",
       "      <th>2</th>\n",
       "      <td>education</td>\n",
       "      <td>0.022245</td>\n",
       "    </tr>\n",
       "  </tbody>\n",
       "</table>\n",
       "</div>"
      ],
      "text/plain": [
       "                 feature  importance\n",
       "9          KPIs_met >80%    0.309671\n",
       "7   previous_year_rating    0.139951\n",
       "10           awards_won?    0.138747\n",
       "11    avg_training_score    0.107674\n",
       "0             department    0.086689\n",
       "3                 gender    0.040251\n",
       "8      length_of_service    0.035413\n",
       "4    recruitment_channel    0.032847\n",
       "6                    age    0.030744\n",
       "1                 region    0.029888\n",
       "5        no_of_trainings    0.025879\n",
       "2              education    0.022245"
      ]
     },
     "execution_count": 10,
     "metadata": {},
     "output_type": "execute_result"
    }
   ],
   "source": [
    "pd.concat((pd.DataFrame(X_train.columns, columns = ['feature']), \n",
    "           pd.DataFrame(xgb.feature_importances_, columns = ['importance'])), \n",
    "          axis = 1).sort_values(by='importance', ascending = False)"
   ]
  },
  {
   "cell_type": "code",
   "execution_count": 33,
   "metadata": {},
   "outputs": [],
   "source": [
    "X_data3 = df_hr.drop(['is_promoted','education','no_of_trainings','region'], axis = 1)"
   ]
  },
  {
   "cell_type": "code",
   "execution_count": 34,
   "metadata": {},
   "outputs": [],
   "source": [
    "X_train3, X_test3, y_train3, y_test3 = train_test_split(X_data3, y_data, test_size=0.3, random_state=2)"
   ]
  },
  {
   "cell_type": "code",
   "execution_count": 16,
   "metadata": {},
   "outputs": [
    {
     "name": "stdout",
     "output_type": "stream",
     "text": [
      "train_score:  [0.82886984 0.82594725 0.82822332 0.82835721 0.82875887]\n",
      "test_score:  [0.8137045  0.82217461 0.8189609  0.81842528 0.8189609 ]\n",
      "cross val training accuracy is: 0.8280312992326863\n",
      "cross val testing accuracy is: 0.8184452378685819\n"
     ]
    }
   ],
   "source": [
    "xgb = XGBClassifier(n_estimators=490, gamma=9, max_depth=12, colsample_bytree=0.7, subsample=0.55, min_child_weight=1, \n",
    "                    learning_rate=0.1, random_state=2, use_label_encoder=False, eval_metric='logloss')\n",
    "\n",
    "xgb.fit(X_train3,y_train3)\n",
    "results  = cross_validate(xgb, X_data3, y_data, scoring='accuracy', cv=5, return_train_score = True)\n",
    "\n",
    "print('train_score: ', results['train_score'])\n",
    "print('test_score: ', results['test_score'])\n",
    "print('cross val training accuracy is:', sum(results['train_score'])/len(results['train_score']))\n",
    "print('cross val testing accuracy is:', sum(results['test_score'])/len(results['test_score']))"
   ]
  },
  {
   "cell_type": "code",
   "execution_count": 17,
   "metadata": {},
   "outputs": [
    {
     "name": "stdout",
     "output_type": "stream",
     "text": [
      "0.81898091385486\n",
      "{'colsample_bytree': 0.6, 'gamma': 10, 'learning_rate': 0.1, 'max_depth': 15, 'min_child_weight': 5, 'n_estimators': 470, 'subsample': 0.8}\n"
     ]
    }
   ],
   "source": [
    "xgbc = XGBClassifier(random_state=2, use_label_encoder=False, eval_metric='logloss', n_jobs=-1)\n",
    "\n",
    "param_grid = { \"n_estimators\" : [470,500,530],\n",
    "            \"max_depth\": [5,10,15],\n",
    "            \"min_child_weight\": [1,5],\n",
    "            \"gamma\": [10,1,0.1],\n",
    "            \"subsample\": [0.4,0.6,0.8],\n",
    "            \"colsample_bytree\": [0.4,0.6,0.8],\n",
    "             \"learning_rate\": [0.01,0.1]}\n",
    "\n",
    "gs = GridSearchCV(estimator=xgbc, param_grid=param_grid, scoring='accuracy', cv=5, n_jobs=-1)\n",
    "\n",
    "gs = gs.fit(X_data3, y_data)\n",
    "print(gs.best_score_)\n",
    "print(gs.best_params_)"
   ]
  },
  {
   "cell_type": "code",
   "execution_count": 18,
   "metadata": {},
   "outputs": [
    {
     "name": "stdout",
     "output_type": "stream",
     "text": [
      "train_score:  [0.82592394 0.8264828  0.82487615 0.82420672 0.82474227]\n",
      "test_score:  [0.81316916 0.82217461 0.81521157 0.82110337 0.82324585]\n",
      "cross val training accuracy is: 0.8252463763272768\n",
      "cross val testing accuracy is: 0.81898091385486\n"
     ]
    }
   ],
   "source": [
    "xgb = XGBClassifier(n_estimators=470, gamma=10, max_depth=15, colsample_bytree=0.6, subsample=0.8, min_child_weight=5, \n",
    "                    learning_rate=0.1, random_state=2, use_label_encoder=False, eval_metric='logloss')\n",
    "\n",
    "xgb.fit(X_train3,y_train3)\n",
    "results  = cross_validate(xgb, X_data3, y_data, scoring='accuracy', cv=5, return_train_score = True)\n",
    "\n",
    "print('train_score: ', results['train_score'])\n",
    "print('test_score: ', results['test_score'])\n",
    "print('cross val training accuracy is:', sum(results['train_score'])/len(results['train_score']))\n",
    "print('cross val testing accuracy is:', sum(results['test_score'])/len(results['test_score']))"
   ]
  },
  {
   "cell_type": "markdown",
   "metadata": {},
   "source": [
    "#### Random Forest Classifier<a id=\"part1.3.3\"></a>"
   ]
  },
  {
   "cell_type": "code",
   "execution_count": 124,
   "metadata": {},
   "outputs": [
    {
     "name": "stdout",
     "output_type": "stream",
     "text": [
      "[0.9998661  1.         1.         0.99986611 0.99986611]\n",
      "[0.79122056 0.79217997 0.79271559 0.79485806 0.79860739]\n",
      "cross val training accuracy is 0.9999196643752937\n",
      "cross val testing accuracy is 0.7939163127416448\n"
     ]
    }
   ],
   "source": [
    "results = cross_validate(rf, X_data, y_data, scoring='accuracy', cv=5, return_train_score=True)\n",
    "print(results['train_score'])\n",
    "print(results['test_score'])\n",
    "print('cross val training accuracy is', sum(results['train_score'])/len(results['train_score']))\n",
    "print('cross val testing accuracy is', sum(results['test_score'])/len(results['test_score']))"
   ]
  },
  {
   "cell_type": "code",
   "execution_count": 51,
   "metadata": {},
   "outputs": [
    {
     "name": "stderr",
     "output_type": "stream",
     "text": [
      "C:\\Users\\User\\anaconda3\\lib\\site-packages\\sklearn\\model_selection\\_search.py:922: UserWarning: One or more of the test scores are non-finite: [       nan        nan        nan        nan        nan        nan\n",
      "        nan        nan        nan        nan        nan        nan\n",
      "        nan        nan        nan        nan        nan        nan\n",
      "        nan        nan        nan        nan        nan        nan\n",
      "        nan        nan        nan 0.78898919 0.78973895 0.78941763\n",
      " 0.79081036 0.7904891  0.7899536  0.79123897 0.78984636 0.78941792\n",
      " 0.78973895 0.79016733 0.78995319 0.78973895 0.79016733 0.78995319\n",
      " 0.79102432 0.79081007 0.78984618 0.78802514 0.78738234 0.78748963\n",
      " 0.78802514 0.78738234 0.78748963 0.78802514 0.78738234 0.78748963\n",
      " 0.81169816 0.81234096 0.81180529 0.81244797 0.81330473 0.81309054\n",
      " 0.8126621  0.81298336 0.81276917 0.81148403 0.81180534 0.81148397\n",
      " 0.81148403 0.81180534 0.81148397 0.81169822 0.81180534 0.8121266\n",
      " 0.81084106 0.81201931 0.81126961 0.81084106 0.81201931 0.81126961\n",
      " 0.81084106 0.81201931 0.81126961        nan        nan        nan\n",
      "        nan        nan        nan        nan        nan        nan\n",
      "        nan        nan        nan        nan        nan        nan\n",
      "        nan        nan        nan        nan        nan        nan\n",
      "        nan        nan        nan        nan        nan        nan\n",
      " 0.80130722 0.80152164 0.80023656 0.8001292  0.7999149  0.79948657\n",
      " 0.80141451 0.80098613 0.80077189 0.80012886 0.80087884 0.80002168\n",
      " 0.80012886 0.80087884 0.80002168 0.79809385 0.79852235 0.79820092\n",
      " 0.79638016 0.79680854 0.79659441 0.79638016 0.79680854 0.79659441\n",
      " 0.79638016 0.79680854 0.79659441 0.81041159 0.80944759 0.81009028\n",
      " 0.81159012 0.81148294 0.81116151 0.81201867 0.81233999 0.81298262\n",
      " 0.8123401  0.81126864 0.81116163 0.8123401  0.81126864 0.81116163\n",
      " 0.81233999 0.8120185  0.81191138 0.81223281 0.81255424 0.81191144\n",
      " 0.81223281 0.81255424 0.81191144 0.81223281 0.81255424 0.81191144\n",
      "        nan        nan        nan        nan        nan        nan\n",
      "        nan        nan        nan        nan        nan        nan\n",
      "        nan        nan        nan        nan        nan        nan\n",
      "        nan        nan        nan        nan        nan        nan\n",
      "        nan        nan        nan 0.80323459 0.80184215 0.80109251\n",
      " 0.8019499  0.80280655 0.80323516 0.80377084 0.80387784 0.80334228\n",
      " 0.8020572  0.80227156 0.80216455 0.8020572  0.80227156 0.80216455\n",
      " 0.80130733 0.80141417 0.80087872 0.79702261 0.79766513 0.79766518\n",
      " 0.79702261 0.79766513 0.79766518 0.79702261 0.79766513 0.79766518\n",
      " 0.80419893 0.80312769 0.8051627  0.80762672 0.80676955 0.80687674\n",
      " 0.80998361 0.8092338  0.80976925 0.80976913 0.80923363 0.80880508\n",
      " 0.80976913 0.80923363 0.80880508 0.81148323 0.81084037 0.81041193\n",
      " 0.81062607 0.8108402  0.81062595 0.81062607 0.8108402  0.81062595\n",
      " 0.81062607 0.8108402  0.81062595        nan        nan        nan\n",
      "        nan        nan        nan        nan        nan        nan\n",
      "        nan        nan        nan        nan        nan        nan\n",
      "        nan        nan        nan        nan        nan        nan\n",
      "        nan        nan        nan        nan        nan        nan\n",
      " 0.78781158 0.78845426 0.78791853 0.7885615  0.78813284 0.78813278\n",
      " 0.7873832  0.78759745 0.78802588 0.78802565 0.78802571 0.78749004\n",
      " 0.78802565 0.78802571 0.78749004 0.7889896  0.78920361 0.78845415\n",
      " 0.78631196 0.78652604 0.78641891 0.78631196 0.78652604 0.78641891\n",
      " 0.78631196 0.78652604 0.78641891 0.80848405 0.80934093 0.80923374\n",
      " 0.80987649 0.8106263  0.80987649 0.81041216 0.81030498 0.80955523\n",
      " 0.81041251 0.81041256 0.8099839  0.81041251 0.81041256 0.8099839\n",
      " 0.81105508 0.81051957 0.81051952 0.80880554 0.80869847 0.80923403\n",
      " 0.80880554 0.80869847 0.80923403 0.80880554 0.80869847 0.80923403\n",
      "        nan        nan        nan        nan        nan        nan\n",
      "        nan        nan        nan        nan        nan        nan\n",
      "        nan        nan        nan        nan        nan        nan\n",
      "        nan        nan        nan        nan        nan        nan\n",
      "        nan        nan        nan 0.7985224  0.80023627 0.80002196\n",
      " 0.7995937  0.80002185 0.80002179 0.80066453 0.80098613 0.80045052\n",
      " 0.79970048 0.79895073 0.79884377 0.79970048 0.79895073 0.79884377\n",
      " 0.79884372 0.79927204 0.79970048 0.79691606 0.79809408 0.79830839\n",
      " 0.79691606 0.79809408 0.79830839 0.79691606 0.79809408 0.79830839\n",
      " 0.81276808 0.81330364 0.8141608  0.81330399 0.81426787 0.81469642\n",
      " 0.81491084 0.81501768 0.81566059 0.81405385 0.81416086 0.81383949\n",
      " 0.81405385 0.81416086 0.81383949 0.81383961 0.81351835 0.81394684\n",
      " 0.81255418 0.81255429 0.81351841 0.81255418 0.81255429 0.81351841\n",
      " 0.81255418 0.81255429 0.81351841        nan        nan        nan\n",
      "        nan        nan        nan        nan        nan        nan\n",
      "        nan        nan        nan        nan        nan        nan\n",
      "        nan        nan        nan        nan        nan        nan\n",
      "        nan        nan        nan        nan        nan        nan\n",
      " 0.80141371 0.80141383 0.80152107 0.80548482 0.80387779 0.80334228\n",
      " 0.80462754 0.80484202 0.80527045 0.80334205 0.80355642 0.80312809\n",
      " 0.80334205 0.80355642 0.80312809 0.80344952 0.80237834 0.80269977\n",
      " 0.79777288 0.79852252 0.79905779 0.79777288 0.79852252 0.79905779\n",
      " 0.79777288 0.79852252 0.79905779 0.80805504 0.8074123  0.80623371\n",
      " 0.81062601 0.81169702 0.81137542 0.8118042  0.81212557 0.81298239\n",
      " 0.81062595 0.81180443 0.81116163 0.81062595 0.81180443 0.81116163\n",
      " 0.81308974 0.81255418 0.81233987 0.81223286 0.8116973  0.81180443\n",
      " 0.81223286 0.8116973  0.81180443 0.81223286 0.8116973  0.81180443]\n",
      "  warnings.warn(\n"
     ]
    },
    {
     "name": "stdout",
     "output_type": "stream",
     "text": [
      "0.815660594410527\n",
      "{'criterion': 'entropy', 'max_depth': 15, 'max_features': None, 'min_samples_leaf': 1, 'min_samples_split': 15, 'n_estimators': 900}\n"
     ]
    }
   ],
   "source": [
    "rf = RandomForestClassifier(random_state=2, n_jobs=-1)\n",
    "\n",
    "param_grid = { \"criterion\" : [\"gini\", \"entropy\"],\n",
    "              \"n_estimators\": [300, 600, 900],\n",
    "              \"max_depth\": [10, 15, 20], \n",
    "              \"min_samples_leaf\" : [1, 5, 10], \n",
    "              \"min_samples_split\": [5, 10 ,15],\n",
    "              \"max_features\": [\"auto\" \"sqrt\", \"log2\",None]}\n",
    "\n",
    "gs = GridSearchCV(estimator=rf, param_grid=param_grid, scoring='accuracy', cv=5, n_jobs=-1)\n",
    "\n",
    "gs = gs.fit(X_data, y_data)\n",
    "print(gs.best_score_)\n",
    "print(gs.best_params_)"
   ]
  },
  {
   "cell_type": "code",
   "execution_count": 100,
   "metadata": {},
   "outputs": [
    {
     "data": {
      "image/png": "[encoded data removed]",
      "text/plain": [
       "<Figure size 432x288 with 1 Axes>"
      ]
     },
     "metadata": {
      "needs_background": "light"
     },
     "output_type": "display_data"
    }
   ],
   "source": [
    "depth_range = range(5,25)\n",
    "\n",
    "train_acc = []\n",
    "test_acc = []\n",
    "cross_val_train =[]\n",
    "cross_val_test =[]\n",
    "\n",
    "for d in depth_range:\n",
    "    # Create Random Forest Model\n",
    "    rf_reg = RandomForestClassifier(max_depth=d, criterion='entropy', max_features=None, min_samples_leaf=1, \n",
    "                                    min_samples_split=15, n_estimators=900, random_state=2, n_jobs=-1)\n",
    "    rf_reg.fit(X_train, y_train.ravel()) \n",
    "    train_acc.append(accuracy_score(rf_reg.predict(X_train), y_train))\n",
    "    test_acc.append(accuracy_score(rf_reg.predict(X_test), y_test))\n",
    "    \n",
    "    results  = cross_validate(rf_reg, X_data, y_data.ravel(), scoring='accuracy', cv=5, return_train_score = True)\n",
    "    cross_val_train.append(sum(results['train_score'])/len(results['train_score']))\n",
    "    cross_val_test.append(sum(results['test_score'])/len(results['test_score']))\n",
    "    \n",
    "plt.plot(depth_range, cross_val_train, 'bo-', label ='cross val training acc')\n",
    "plt.plot(depth_range, cross_val_test, 'ro-', label = 'cross val testing acc')\n",
    "\n",
    "plt.xlabel('max_depth', fontsize='x-large')\n",
    "plt.ylabel('Accuracy', fontsize='x-large')\n",
    "\n",
    "plt.legend(loc='best', shadow=True, fontsize='x-large')\n",
    "plt.show()"
   ]
  },
  {
   "cell_type": "code",
   "execution_count": 124,
   "metadata": {},
   "outputs": [
    {
     "name": "stdout",
     "output_type": "stream",
     "text": [
      "0.8168391274577382\n",
      "{'max_depth': 14}\n"
     ]
    }
   ],
   "source": [
    "rf_reg = RandomForestClassifier(n_estimators=891, min_samples_leaf=2, criterion='entropy', max_features=None, \n",
    "                                    min_samples_split=17, random_state=2, n_jobs=-1)\n",
    "\n",
    "param_grid = { \"max_depth\" : [12,12.5,13,13.5,14,14.5,15,15.5,16,16.5,17,17.5,18]}\n",
    "\n",
    "\n",
    "gs = GridSearchCV(estimator=rf_reg, param_grid=param_grid, scoring='accuracy', cv=5, n_jobs=-1)\n",
    "\n",
    "gs = gs.fit(X_data, y_data)\n",
    "print(gs.best_score_)\n",
    "print(gs.best_params_)"
   ]
  },
  {
   "cell_type": "code",
   "execution_count": 104,
   "metadata": {},
   "outputs": [
    {
     "data": {
      "image/png": "[encoded data removed]",
      "text/plain": [
       "<Figure size 432x288 with 1 Axes>"
      ]
     },
     "metadata": {
      "needs_background": "light"
     },
     "output_type": "display_data"
    }
   ],
   "source": [
    "leaf_range = range(1,10)\n",
    "\n",
    "train_acc = []\n",
    "test_acc = []\n",
    "cross_val_train =[]\n",
    "cross_val_test =[]\n",
    "\n",
    "for d in leaf_range:\n",
    "    # Create Random Forest Model\n",
    "    rf_reg = RandomForestClassifier(min_samples_leaf=d, max_depth=15, criterion='entropy', max_features=None, \n",
    "                                    min_samples_split=15, n_estimators=900, random_state=2, n_jobs=-1)\n",
    "    rf_reg.fit(X_train, y_train.ravel()) \n",
    "    train_acc.append(accuracy_score(rf_reg.predict(X_train), y_train))\n",
    "    test_acc.append(accuracy_score(rf_reg.predict(X_test), y_test))\n",
    "    \n",
    "    results  = cross_validate(rf_reg, X_data, y_data.ravel(), scoring='accuracy', cv=5, return_train_score = True)\n",
    "    cross_val_train.append(sum(results['train_score'])/len(results['train_score']))\n",
    "    cross_val_test.append(sum(results['test_score'])/len(results['test_score']))\n",
    "\n",
    "plt.plot(leaf_range, cross_val_train, 'bo-', label ='cross val training acc')\n",
    "plt.plot(leaf_range, cross_val_test, 'ro-', label = 'cross val testing acc')\n",
    "\n",
    "plt.xlabel('min_samples_leaf', fontsize='x-large')\n",
    "plt.ylabel('Accuracy', fontsize='x-large')\n",
    "\n",
    "plt.legend(loc='best', shadow=True, fontsize='x-large')\n",
    "plt.show()"
   ]
  },
  {
   "cell_type": "code",
   "execution_count": 122,
   "metadata": {},
   "outputs": [
    {
     "name": "stdout",
     "output_type": "stream",
     "text": [
      "0.8160890319754005\n",
      "{'min_samples_leaf': 2}\n"
     ]
    }
   ],
   "source": [
    "rf_reg = RandomForestClassifier(n_estimators=891, max_depth=15, criterion='entropy', max_features=None, \n",
    "                                    min_samples_split=17, random_state=2, n_jobs=-1)\n",
    "\n",
    "param_grid = { \"min_samples_leaf\" : [1,2,3,4,5,6,7,8,9]}\n",
    "\n",
    "\n",
    "gs = GridSearchCV(estimator=rf_reg, param_grid=param_grid, scoring='accuracy', cv=5, n_jobs=-1)\n",
    "\n",
    "gs = gs.fit(X_data, y_data)\n",
    "print(gs.best_score_)\n",
    "print(gs.best_params_)"
   ]
  },
  {
   "cell_type": "code",
   "execution_count": 111,
   "metadata": {},
   "outputs": [
    {
     "data": {
      "image/png": "[encoded data removed]",
      "text/plain": [
       "<Figure size 432x288 with 1 Axes>"
      ]
     },
     "metadata": {
      "needs_background": "light"
     },
     "output_type": "display_data"
    }
   ],
   "source": [
    "split_range = range(10,20)\n",
    "\n",
    "train_acc = []\n",
    "test_acc = []\n",
    "cross_val_train =[]\n",
    "cross_val_test =[]\n",
    "\n",
    "for d in split_range:\n",
    "    # Create Random Forest Model\n",
    "    rf_reg = RandomForestClassifier(min_samples_split=d, max_depth=15, criterion='entropy', max_features=None, \n",
    "                                    min_samples_leaf=3, n_estimators=900, random_state=2, n_jobs=-1)\n",
    "    rf_reg.fit(X_train, y_train.ravel()) \n",
    "    train_acc.append(accuracy_score(rf_reg.predict(X_train), y_train))\n",
    "    test_acc.append(accuracy_score(rf_reg.predict(X_test), y_test))\n",
    "    \n",
    "    results  = cross_validate(rf_reg, X_data, y_data.ravel(), scoring='accuracy', cv=5, return_train_score = True)\n",
    "    cross_val_train.append(sum(results['train_score'])/len(results['train_score']))\n",
    "    cross_val_test.append(sum(results['test_score'])/len(results['test_score']))\n",
    "\n",
    "plt.plot(split_range, cross_val_train, 'bo-', label ='cross val training acc')\n",
    "plt.plot(split_range, cross_val_test, 'ro-', label = 'cross val testing acc')\n",
    "\n",
    "plt.xlabel('min_samples_split', fontsize='x-large')\n",
    "plt.ylabel('Accuracy', fontsize='x-large')\n",
    "\n",
    "plt.legend(loc='best', shadow=True, fontsize='x-large')\n",
    "plt.show()"
   ]
  },
  {
   "cell_type": "code",
   "execution_count": 121,
   "metadata": {},
   "outputs": [
    {
     "name": "stdout",
     "output_type": "stream",
     "text": [
      "0.8159819082474948\n",
      "{'min_samples_split': 17}\n"
     ]
    }
   ],
   "source": [
    "rf_reg = RandomForestClassifier(n_estimators=891, max_depth=15, criterion='entropy', max_features=None, \n",
    "                                    min_samples_leaf=3, random_state=2, n_jobs=-1)\n",
    "\n",
    "param_grid = { \"min_samples_split\" : [14,15,16,17,18,19]}\n",
    "\n",
    "\n",
    "gs = GridSearchCV(estimator=rf_reg, param_grid=param_grid, scoring='accuracy', cv=5, n_jobs=-1)\n",
    "\n",
    "gs = gs.fit(X_data, y_data)\n",
    "print(gs.best_score_)\n",
    "print(gs.best_params_)"
   ]
  },
  {
   "cell_type": "code",
   "execution_count": 113,
   "metadata": {},
   "outputs": [
    {
     "data": {
      "image/png": "[encoded data removed]",
      "text/plain": [
       "<Figure size 432x288 with 1 Axes>"
      ]
     },
     "metadata": {
      "needs_background": "light"
     },
     "output_type": "display_data"
    }
   ],
   "source": [
    "n_range = range(890,910)\n",
    "\n",
    "train_acc = []\n",
    "test_acc = []\n",
    "cross_val_train =[]\n",
    "cross_val_test =[]\n",
    "\n",
    "for d in n_range:\n",
    "    # Create Random Forest Model\n",
    "    rf_reg = RandomForestClassifier(n_estimators=d, min_samples_split=15, max_depth=15, criterion='entropy', \n",
    "                                    max_features=None, min_samples_leaf=3, random_state=2, n_jobs=-1)\n",
    "    rf_reg.fit(X_train, y_train.ravel()) \n",
    "    train_acc.append(accuracy_score(rf_reg.predict(X_train), y_train))\n",
    "    test_acc.append(accuracy_score(rf_reg.predict(X_test), y_test))\n",
    "    \n",
    "    results  = cross_validate(rf_reg, X_data, y_data.ravel(), scoring='accuracy', cv=5, return_train_score = True)\n",
    "    cross_val_train.append(sum(results['train_score'])/len(results['train_score']))\n",
    "    cross_val_test.append(sum(results['test_score'])/len(results['test_score']))\n",
    "\n",
    "plt.plot(n_range, cross_val_train, 'bo-', label ='cross val training acc')\n",
    "plt.plot(n_range, cross_val_test, 'ro-', label = 'cross val testing acc')\n",
    "\n",
    "plt.xlabel('n_estimators', fontsize='x-large')\n",
    "plt.ylabel('Accuracy', fontsize='x-large')\n",
    "\n",
    "plt.legend(loc='best', shadow=True, fontsize='x-large')\n",
    "plt.show()"
   ]
  },
  {
   "cell_type": "code",
   "execution_count": 117,
   "metadata": {},
   "outputs": [
    {
     "name": "stderr",
     "output_type": "stream",
     "text": [
      "C:\\Users\\User\\anaconda3\\lib\\site-packages\\sklearn\\model_selection\\_search.py:922: UserWarning: One or more of the test scores are non-finite: [0.81533934        nan 0.81566071        nan 0.81566071        nan\n",
      " 0.81555359        nan 0.81544646        nan 0.81555353]\n",
      "  warnings.warn(\n"
     ]
    },
    {
     "name": "stdout",
     "output_type": "stream",
     "text": [
      "0.8156607091040259\n",
      "{'n_estimators': 891}\n"
     ]
    }
   ],
   "source": [
    "rf_reg = RandomForestClassifier(min_samples_split=15, max_depth=15, criterion='entropy', max_features=None, \n",
    "                                    min_samples_leaf=3, random_state=2, n_jobs=-1)\n",
    "\n",
    "param_grid = { \"n_estimators\" : [890,890.5,891,891.5,892,892.5,893,893.5,894,894.5,895]}\n",
    "\n",
    "gs = GridSearchCV(estimator=rf_reg, param_grid=param_grid, scoring='accuracy', cv=5, n_jobs=-1)\n",
    "\n",
    "gs = gs.fit(X_data, y_data)\n",
    "print(gs.best_score_)\n",
    "print(gs.best_params_)"
   ]
  },
  {
   "cell_type": "code",
   "execution_count": 19,
   "metadata": {},
   "outputs": [
    {
     "name": "stdout",
     "output_type": "stream",
     "text": [
      "train_score:  [0.83864488 0.83692596 0.84134422 0.83290936 0.84214754]\n",
      "test_score:  [0.8003212  0.8189609  0.81842528 0.81306909 0.82217461]\n",
      "cross val training accuracy is: 0.8383943940255681\n",
      "cross val testing accuracy is: 0.8145902173327109\n"
     ]
    }
   ],
   "source": [
    "rf = RandomForestClassifier(n_estimators=891, min_samples_split=19, max_depth=11, criterion='entropy', max_features=None, \n",
    "                                    min_samples_leaf=3, random_state=2, n_jobs=-1)\n",
    "rf.fit(X_train,y_train)\n",
    "results  = cross_validate(rf, X_data, y_data, scoring='accuracy', cv=5, return_train_score = True)\n",
    "print('train_score: ', results['train_score'])\n",
    "print('test_score: ', results['test_score'])\n",
    "print('cross val training accuracy is:', sum(results['train_score'])/len(results['train_score']))\n",
    "print('cross val testing accuracy is:', sum(results['test_score'])/len(results['test_score']))"
   ]
  },
  {
   "cell_type": "code",
   "execution_count": 20,
   "metadata": {},
   "outputs": [
    {
     "data": {
      "text/html": [
       "<div>\n",
       "<style scoped>\n",
       "    .dataframe tbody tr th:only-of-type {\n",
       "        vertical-align: middle;\n",
       "    }\n",
       "\n",
       "    .dataframe tbody tr th {\n",
       "        vertical-align: top;\n",
       "    }\n",
       "\n",
       "    .dataframe thead th {\n",
       "        text-align: right;\n",
       "    }\n",
       "</style>\n",
       "<table border=\"1\" class=\"dataframe\">\n",
       "  <thead>\n",
       "    <tr style=\"text-align: right;\">\n",
       "      <th></th>\n",
       "      <th>feature</th>\n",
       "      <th>importance</th>\n",
       "    </tr>\n",
       "  </thead>\n",
       "  <tbody>\n",
       "    <tr>\n",
       "      <th>11</th>\n",
       "      <td>avg_training_score</td>\n",
       "      <td>0.373702</td>\n",
       "    </tr>\n",
       "    <tr>\n",
       "      <th>0</th>\n",
       "      <td>department</td>\n",
       "      <td>0.229055</td>\n",
       "    </tr>\n",
       "    <tr>\n",
       "      <th>9</th>\n",
       "      <td>KPIs_met &gt;80%</td>\n",
       "      <td>0.191823</td>\n",
       "    </tr>\n",
       "    <tr>\n",
       "      <th>7</th>\n",
       "      <td>previous_year_rating</td>\n",
       "      <td>0.085214</td>\n",
       "    </tr>\n",
       "    <tr>\n",
       "      <th>6</th>\n",
       "      <td>age</td>\n",
       "      <td>0.031487</td>\n",
       "    </tr>\n",
       "    <tr>\n",
       "      <th>1</th>\n",
       "      <td>region</td>\n",
       "      <td>0.025490</td>\n",
       "    </tr>\n",
       "    <tr>\n",
       "      <th>10</th>\n",
       "      <td>awards_won?</td>\n",
       "      <td>0.024312</td>\n",
       "    </tr>\n",
       "    <tr>\n",
       "      <th>8</th>\n",
       "      <td>length_of_service</td>\n",
       "      <td>0.022786</td>\n",
       "    </tr>\n",
       "    <tr>\n",
       "      <th>4</th>\n",
       "      <td>recruitment_channel</td>\n",
       "      <td>0.004166</td>\n",
       "    </tr>\n",
       "    <tr>\n",
       "      <th>5</th>\n",
       "      <td>no_of_trainings</td>\n",
       "      <td>0.004073</td>\n",
       "    </tr>\n",
       "    <tr>\n",
       "      <th>2</th>\n",
       "      <td>education</td>\n",
       "      <td>0.004027</td>\n",
       "    </tr>\n",
       "    <tr>\n",
       "      <th>3</th>\n",
       "      <td>gender</td>\n",
       "      <td>0.003865</td>\n",
       "    </tr>\n",
       "  </tbody>\n",
       "</table>\n",
       "</div>"
      ],
      "text/plain": [
       "                 feature  importance\n",
       "11    avg_training_score    0.373702\n",
       "0             department    0.229055\n",
       "9          KPIs_met >80%    0.191823\n",
       "7   previous_year_rating    0.085214\n",
       "6                    age    0.031487\n",
       "1                 region    0.025490\n",
       "10           awards_won?    0.024312\n",
       "8      length_of_service    0.022786\n",
       "4    recruitment_channel    0.004166\n",
       "5        no_of_trainings    0.004073\n",
       "2              education    0.004027\n",
       "3                 gender    0.003865"
      ]
     },
     "execution_count": 20,
     "metadata": {},
     "output_type": "execute_result"
    }
   ],
   "source": [
    "pd.concat((pd.DataFrame(X_train.columns, columns = ['feature']), \n",
    "           pd.DataFrame(rf.feature_importances_, columns = ['importance'])), \n",
    "          axis = 1).sort_values(by='importance', ascending = False)"
   ]
  },
  {
   "cell_type": "code",
   "execution_count": 23,
   "metadata": {},
   "outputs": [],
   "source": [
    "X_data4 = df_hr.drop(['is_promoted','gender','education','no_of_trainings','recruitment_channel'], axis = 1)"
   ]
  },
  {
   "cell_type": "code",
   "execution_count": 24,
   "metadata": {},
   "outputs": [],
   "source": [
    "X_train4, X_test4, y_train4, y_test4 = train_test_split(X_data4, y_data, test_size=0.3, random_state=2)"
   ]
  },
  {
   "cell_type": "code",
   "execution_count": 25,
   "metadata": {},
   "outputs": [
    {
     "name": "stdout",
     "output_type": "stream",
     "text": [
      "train_score:  [0.83851098 0.83772928 0.84147811 0.834516   0.84187977]\n",
      "test_score:  [0.7987152  0.81681843 0.81628281 0.81146224 0.82217461]\n",
      "cross val training accuracy is: 0.8388228279817962\n",
      "cross val testing accuracy is: 0.8130906571822788\n"
     ]
    }
   ],
   "source": [
    "rf = RandomForestClassifier(n_estimators=891, min_samples_split=19, max_depth=11, criterion='entropy', max_features=None, \n",
    "                                    min_samples_leaf=3, random_state=2, n_jobs=-1)\n",
    "rf.fit(X_train4,y_train4)\n",
    "results  = cross_validate(rf, X_data4, y_data, scoring='accuracy', cv=5, return_train_score = True)\n",
    "print('train_score: ', results['train_score'])\n",
    "print('test_score: ', results['test_score'])\n",
    "print('cross val training accuracy is:', sum(results['train_score'])/len(results['train_score']))\n",
    "print('cross val testing accuracy is:', sum(results['test_score'])/len(results['test_score']))"
   ]
  },
  {
   "cell_type": "code",
   "execution_count": 27,
   "metadata": {},
   "outputs": [
    {
     "name": "stdout",
     "output_type": "stream",
     "text": [
      "0.8154465763417132\n",
      "{'criterion': 'entropy', 'max_depth': 12, 'max_features': None, 'min_samples_leaf': 5, 'min_samples_split': 20, 'n_estimators': 800}\n"
     ]
    }
   ],
   "source": [
    "rf = RandomForestClassifier(random_state=2, n_jobs=-1)\n",
    "\n",
    "param_grid = { \"criterion\" : [\"gini\", \"entropy\"],\n",
    "              \"n_estimators\": [700,800,900],\n",
    "              \"max_depth\": [10,12,15], \n",
    "              \"min_samples_leaf\" : [1,3,5], \n",
    "              \"min_samples_split\": [10,15,20],\n",
    "              \"max_features\": [\"auto\" \"sqrt\", \"log2\",None]}\n",
    "\n",
    "gs = GridSearchCV(estimator=rf, param_grid=param_grid, scoring='accuracy', cv=5, n_jobs=-1)\n",
    "\n",
    "gs = gs.fit(X_data4, y_data)\n",
    "print(gs.best_score_)\n",
    "print(gs.best_params_)"
   ]
  },
  {
   "cell_type": "code",
   "execution_count": 30,
   "metadata": {},
   "outputs": [
    {
     "name": "stdout",
     "output_type": "stream",
     "text": [
      "0.8154465763417132\n",
      "{'min_samples_leaf': 5, 'min_samples_split': 20, 'n_estimators': 800}\n"
     ]
    }
   ],
   "source": [
    "rf = RandomForestClassifier(random_state=2, n_jobs=-1, criterion='entropy', max_depth=12, max_features=None)\n",
    "\n",
    "param_grid = { \"n_estimators\": [775,800,825],\n",
    "              \"min_samples_leaf\" : [5,7,10], \n",
    "              \"min_samples_split\": [20,25,30]}\n",
    "\n",
    "gs = GridSearchCV(estimator=rf, param_grid=param_grid, scoring='accuracy', cv=5, n_jobs=-1)\n",
    "\n",
    "gs = gs.fit(X_data4, y_data)\n",
    "print(gs.best_score_)\n",
    "print(gs.best_params_)"
   ]
  },
  {
   "cell_type": "code",
   "execution_count": 31,
   "metadata": {},
   "outputs": [
    {
     "name": "stdout",
     "output_type": "stream",
     "text": [
      "0.8154465763417132\n",
      "{'min_samples_leaf': 5, 'min_samples_split': 20, 'n_estimators': 795}\n"
     ]
    }
   ],
   "source": [
    "rf = RandomForestClassifier(random_state=2, n_jobs=-1, criterion='entropy', max_depth=12, max_features=None)\n",
    "\n",
    "param_grid = { \"n_estimators\": [795,800,805],\n",
    "              \"min_samples_leaf\" : [4,5,6], \n",
    "              \"min_samples_split\": [18,20,22]}\n",
    "\n",
    "gs = GridSearchCV(estimator=rf, param_grid=param_grid, scoring='accuracy', cv=5, n_jobs=-1)\n",
    "\n",
    "gs = gs.fit(X_data4, y_data)\n",
    "print(gs.best_score_)\n",
    "print(gs.best_params_)"
   ]
  },
  {
   "cell_type": "code",
   "execution_count": 32,
   "metadata": {},
   "outputs": [
    {
     "name": "stdout",
     "output_type": "stream",
     "text": [
      "train_score:  [0.84547402 0.84268309 0.84321864 0.84147811 0.84469139]\n",
      "test_score:  [0.80620985 0.82056776 0.81521157 0.81414033 0.82110337]\n",
      "cross val training accuracy is: 0.8435090500474628\n",
      "cross val testing accuracy is: 0.8154465763417132\n"
     ]
    }
   ],
   "source": [
    "rf = RandomForestClassifier(n_estimators=795, min_samples_split=20, max_depth=12, criterion='entropy', max_features=None, \n",
    "                                    min_samples_leaf=5, random_state=2, n_jobs=-1)\n",
    "rf.fit(X_train4,y_train4)\n",
    "results  = cross_validate(rf, X_data4, y_data, scoring='accuracy', cv=5, return_train_score = True)\n",
    "print('train_score: ', results['train_score'])\n",
    "print('test_score: ', results['test_score'])\n",
    "print('cross val training accuracy is:', sum(results['train_score'])/len(results['train_score']))\n",
    "print('cross val testing accuracy is:', sum(results['test_score'])/len(results['test_score']))"
   ]
  },
  {
   "cell_type": "markdown",
   "metadata": {},
   "source": [
    "#### Support Vector Classifier<a id=\"part1.3.4\"></a>"
   ]
  },
  {
   "cell_type": "code",
   "execution_count": 126,
   "metadata": {},
   "outputs": [
    {
     "name": "stdout",
     "output_type": "stream",
     "text": [
      "[0.70862346 0.71067077 0.70745749 0.70893025 0.70558308]\n",
      "[0.70503212 0.71505088 0.7070166  0.69683985 0.71237279]\n",
      "cross val training accuracy is 0.7082530090630632\n",
      "cross val testing accuracy is 0.7072624496925641\n"
     ]
    }
   ],
   "source": [
    "results = cross_validate(svc, X_data, y_data, scoring='accuracy', cv=5, return_train_score=True)\n",
    "print(results['train_score'])\n",
    "print(results['test_score'])\n",
    "print('cross val training accuracy is', sum(results['train_score'])/len(results['train_score']))\n",
    "print('cross val testing accuracy is', sum(results['test_score'])/len(results['test_score']))"
   ]
  },
  {
   "cell_type": "code",
   "execution_count": 5,
   "metadata": {},
   "outputs": [
    {
     "name": "stdout",
     "output_type": "stream",
     "text": [
      "0.7839556984891425\n",
      "{'C': 1000, 'class_weight': 'balanced', 'kernel': 'rbf'}\n"
     ]
    }
   ],
   "source": [
    "svc = SVC(random_state=2)\n",
    "\n",
    "param_grid = { \"C\" : [1,10,100,1000],\n",
    "              \"kernel\": ['rbf','poly','sigmoid'],\n",
    "              \"class_weight\": ['balanced', None]}\n",
    "\n",
    "gs = GridSearchCV(estimator=svc, param_grid=param_grid, scoring='accuracy', cv=5, n_jobs=-1)\n",
    "\n",
    "gs = gs.fit(X_data, y_data)\n",
    "print(gs.best_score_)\n",
    "print(gs.best_params_)"
   ]
  },
  {
   "cell_type": "code",
   "execution_count": 7,
   "metadata": {},
   "outputs": [
    {
     "name": "stdout",
     "output_type": "stream",
     "text": [
      "0.7853483642986665\n",
      "{'C': 1500}\n"
     ]
    }
   ],
   "source": [
    "svclassifier = SVC(random_state=2, kernel='rbf', class_weight='balanced')\n",
    "                                                                                                                                                                                                                                                                                                                                                                                                                                                                                                                                                                                                                                                           \n",
    "param_grid = { \"C\" : [900,1000,1200,1300,1400,1500]}\n",
    "\n",
    "\n",
    "gs = GridSearchCV(estimator=svclassifier, param_grid=param_grid, scoring='accuracy', cv=5, n_jobs=-1)\n",
    "\n",
    "gs = gs.fit(X_data, y_data)\n",
    "print(gs.best_score_)\n",
    "print(gs.best_params_)"
   ]
  },
  {
   "cell_type": "code",
   "execution_count": 10,
   "metadata": {},
   "outputs": [
    {
     "name": "stdout",
     "output_type": "stream",
     "text": [
      "0.7855625544077285\n",
      "{'C': 1425}\n"
     ]
    }
   ],
   "source": [
    "svclassifier = SVC(random_state=2, kernel='rbf', class_weight='balanced')\n",
    "                                                                                                                                                                                                                                                                                                                                                                                                                                                                                                                                                                                                                                                           \n",
    "param_grid = { \"C\" : [1400,1425,1450,1475,1500,1525,1550,1575,1600]}\n",
    "\n",
    "\n",
    "gs = GridSearchCV(estimator=svclassifier, param_grid=param_grid, scoring='accuracy', cv=5, n_jobs=-1)\n",
    "\n",
    "gs = gs.fit(X_data, y_data)\n",
    "print(gs.best_score_)\n",
    "print(gs.best_params_)"
   ]
  },
  {
   "cell_type": "code",
   "execution_count": 11,
   "metadata": {},
   "outputs": [
    {
     "name": "stdout",
     "output_type": "stream",
     "text": [
      "0.7855625544077285\n",
      "{'C': 1425}\n"
     ]
    }
   ],
   "source": [
    "svclassifier = SVC(random_state=2, kernel='rbf', class_weight='balanced')\n",
    "                                                                                                                                                                                                                                                                                                                                                                                                                                                                                                                                                                                                                                                           \n",
    "param_grid = { \"C\" : [1421,1422,1423,1424,1425,1426,1427,1428,1429]}\n",
    "\n",
    "\n",
    "gs = GridSearchCV(estimator=svclassifier, param_grid=param_grid, scoring='accuracy', cv=5, n_jobs=-1)\n",
    "\n",
    "gs = gs.fit(X_data, y_data)\n",
    "print(gs.best_score_)\n",
    "print(gs.best_params_)"
   ]
  },
  {
   "cell_type": "code",
   "execution_count": 13,
   "metadata": {},
   "outputs": [
    {
     "name": "stdout",
     "output_type": "stream",
     "text": [
      "0.7855625544077285\n",
      "{'gamma': 'scale'}\n"
     ]
    }
   ],
   "source": [
    "svclassifier = SVC(random_state=2, kernel='rbf', class_weight='balanced', C=1425)\n",
    "                                                                                                                                                                                                                                                                                                                                                                                                                                                                                                                                                                                                                                                           \n",
    "param_grid = { 'gamma': [1,10,100,1000,'scale','auto']}\n",
    "\n",
    "\n",
    "gs = GridSearchCV(estimator=svclassifier, param_grid=param_grid, scoring='accuracy', cv=5, n_jobs=-1)\n",
    "\n",
    "gs = gs.fit(X_data, y_data)\n",
    "print(gs.best_score_)\n",
    "print(gs.best_params_)"
   ]
  },
  {
   "cell_type": "code",
   "execution_count": 38,
   "metadata": {},
   "outputs": [
    {
     "name": "stdout",
     "output_type": "stream",
     "text": [
      "train_score:  [0.79941082 0.79542107 0.79689383 0.79394832 0.79207391]\n",
      "test_score:  [0.7735546  0.79057311 0.78682378 0.79432244 0.78253883]\n",
      "cross val training accuracy is: 0.7955495892574506\n",
      "cross val testing accuracy is: 0.7855625544077285\n"
     ]
    }
   ],
   "source": [
    "svc = SVC(C=1425, random_state=2, kernel='rbf', class_weight='balanced', gamma='scale')\n",
    "svc.fit(X_train,y_train)\n",
    "results  = cross_validate(svc, X_data, y_data, scoring='accuracy', cv=5, return_train_score = True)\n",
    "print('train_score: ', results['train_score'])\n",
    "print('test_score: ', results['test_score'])\n",
    "print('cross val training accuracy is:', sum(results['train_score'])/len(results['train_score']))\n",
    "print('cross val testing accuracy is:', sum(results['test_score'])/len(results['test_score']))"
   ]
  },
  {
   "cell_type": "code",
   "execution_count": 156,
   "metadata": {},
   "outputs": [
    {
     "data": {
      "text/plain": [
       "Text(0.5, 0, 'Permutation Importance')"
      ]
     },
     "execution_count": 156,
     "metadata": {},
     "output_type": "execute_result"
    },
    {
     "data": {
      "image/png": "[encoded data removed]",
      "text/plain": [
       "<Figure size 432x288 with 1 Axes>"
      ]
     },
     "metadata": {
      "needs_background": "light"
     },
     "output_type": "display_data"
    }
   ],
   "source": [
    "svc = SVC(C=1425, random_state=2, kernel='rbf', class_weight='balanced', gamma='scale')\n",
    "svc.fit(X_train, y_train)\n",
    "\n",
    "perm_importance = permutation_importance(svc, X_test, y_test)\n",
    "\n",
    "features = df_hr.columns\n",
    "\n",
    "sorted_idx = perm_importance.importances_mean.argsort()\n",
    "plt.barh(features[sorted_idx], perm_importance.importances_mean[sorted_idx])\n",
    "plt.xlabel(\"Permutation Importance\")"
   ]
  },
  {
   "cell_type": "code",
   "execution_count": 157,
   "metadata": {},
   "outputs": [],
   "source": [
    "X_data5 = df_hr.drop(['is_promoted','recruitment_channel','no_of_trainings','education'], axis = 1)"
   ]
  },
  {
   "cell_type": "code",
   "execution_count": 158,
   "metadata": {},
   "outputs": [],
   "source": [
    "X_train5, X_test5, y_train5, y_test5 = train_test_split(X_data5, y_data, test_size=0.3, random_state=2)"
   ]
  },
  {
   "cell_type": "code",
   "execution_count": 159,
   "metadata": {},
   "outputs": [
    {
     "name": "stdout",
     "output_type": "stream",
     "text": [
      "train_score:  [0.79539368 0.79140447 0.79167225 0.79287723 0.79019949]\n",
      "test_score:  [0.77569593 0.78789502 0.78789502 0.79003749 0.78093198]\n",
      "cross val training accuracy is: 0.792309422778945\n",
      "cross val testing accuracy is: 0.7844910877416735\n"
     ]
    }
   ],
   "source": [
    "svc = SVC(C=1425, random_state=2, kernel='rbf', class_weight='balanced', gamma='scale')\n",
    "svc.fit(X_train5,y_train5)\n",
    "results  = cross_validate(svc, X_data5, y_data, scoring='accuracy', cv=5, return_train_score = True)\n",
    "print('train_score: ', results['train_score'])\n",
    "print('test_score: ', results['test_score'])\n",
    "print('cross val training accuracy is:', sum(results['train_score'])/len(results['train_score']))\n",
    "print('cross val testing accuracy is:', sum(results['test_score'])/len(results['test_score']))"
   ]
  },
  {
   "cell_type": "code",
   "execution_count": 160,
   "metadata": {},
   "outputs": [
    {
     "name": "stdout",
     "output_type": "stream",
     "text": [
      "0.7837412216463334\n",
      "{'C': 1000, 'class_weight': None, 'kernel': 'rbf'}\n"
     ]
    }
   ],
   "source": [
    "svc = SVC(random_state=2)\n",
    "\n",
    "param_grid = { \"C\" : [1,10,100,1000],\n",
    "              \"kernel\": ['rbf','poly','sigmoid'],\n",
    "              \"class_weight\": ['balanced', None]}\n",
    "\n",
    "gs = GridSearchCV(estimator=svc, param_grid=param_grid, scoring='accuracy', cv=5, n_jobs=-1)\n",
    "\n",
    "gs = gs.fit(X_data5, y_data)\n",
    "print(gs.best_score_)\n",
    "print(gs.best_params_)"
   ]
  },
  {
   "cell_type": "code",
   "execution_count": 163,
   "metadata": {},
   "outputs": [
    {
     "name": "stdout",
     "output_type": "stream",
     "text": [
      "0.7842768402858621\n",
      "{'C': 1100, 'gamma': 'scale'}\n"
     ]
    }
   ],
   "source": [
    "svc = SVC(random_state=2, class_weight=None, kernel='rbf')\n",
    "\n",
    "param_grid = { \"C\" : [900,1000,1100],\n",
    "             'gamma': [1,10,100,1000,'scale','auto']}\n",
    "\n",
    "gs = GridSearchCV(estimator=svc, param_grid=param_grid, scoring='accuracy', cv=5, n_jobs=-1)\n",
    "\n",
    "gs = gs.fit(X_data5, y_data)\n",
    "print(gs.best_score_)\n",
    "print(gs.best_params_)"
   ]
  },
  {
   "cell_type": "code",
   "execution_count": 164,
   "metadata": {},
   "outputs": [
    {
     "name": "stdout",
     "output_type": "stream",
     "text": [
      "0.7858837535511974\n",
      "{'C': 2000}\n"
     ]
    }
   ],
   "source": [
    "svc = SVC(random_state=2, class_weight=None, kernel='rbf', gamma='scale')\n",
    "\n",
    "param_grid = { \"C\" : [1000,1500,2000]}\n",
    "\n",
    "gs = GridSearchCV(estimator=svc, param_grid=param_grid, scoring='accuracy', cv=5, n_jobs=-1)\n",
    "\n",
    "gs = gs.fit(X_data4, y_data)\n",
    "print(gs.best_score_)\n",
    "print(gs.best_params_)"
   ]
  },
  {
   "cell_type": "code",
   "execution_count": 165,
   "metadata": {},
   "outputs": [
    {
     "name": "stdout",
     "output_type": "stream",
     "text": [
      "0.7912391370919923\n",
      "{'C': 8000}\n"
     ]
    }
   ],
   "source": [
    "svc = SVC(random_state=2, class_weight=None, kernel='rbf', gamma='scale')\n",
    "\n",
    "param_grid = { \"C\" : [2000,5000,8000]}\n",
    "\n",
    "gs = GridSearchCV(estimator=svc, param_grid=param_grid, scoring='accuracy', cv=5, n_jobs=-1)\n",
    "\n",
    "gs = gs.fit(X_data5, y_data)\n",
    "print(gs.best_score_)\n",
    "print(gs.best_params_)"
   ]
  },
  {
   "cell_type": "code",
   "execution_count": 166,
   "metadata": {},
   "outputs": [
    {
     "name": "stdout",
     "output_type": "stream",
     "text": [
      "0.7912391370919923\n",
      "{'C': 8000}\n"
     ]
    }
   ],
   "source": [
    "svc = SVC(random_state=2, class_weight=None, kernel='rbf', gamma='scale')\n",
    "\n",
    "param_grid = { \"C\" : [8000,10000,12000]}\n",
    "\n",
    "gs = GridSearchCV(estimator=svc, param_grid=param_grid, scoring='accuracy', cv=5, n_jobs=-1)\n",
    "\n",
    "gs = gs.fit(X_data5, y_data)\n",
    "print(gs.best_score_)\n",
    "print(gs.best_params_)"
   ]
  },
  {
   "cell_type": "code",
   "execution_count": 167,
   "metadata": {},
   "outputs": [
    {
     "name": "stdout",
     "output_type": "stream",
     "text": [
      "0.7919890031873325\n",
      "{'C': 7000}\n"
     ]
    }
   ],
   "source": [
    "svc = SVC(random_state=2, class_weight=None, kernel='rbf', gamma='scale')\n",
    "\n",
    "param_grid = { \"C\" : [6000,7000,8000,9000]}\n",
    "\n",
    "gs = GridSearchCV(estimator=svc, param_grid=param_grid, scoring='accuracy', cv=5, n_jobs=-1)\n",
    "\n",
    "gs = gs.fit(X_data5, y_data)\n",
    "print(gs.best_score_)\n",
    "print(gs.best_params_)"
   ]
  },
  {
   "cell_type": "code",
   "execution_count": 168,
   "metadata": {},
   "outputs": [
    {
     "name": "stdout",
     "output_type": "stream",
     "text": [
      "0.7922031359496449\n",
      "{'C': 7500}\n"
     ]
    }
   ],
   "source": [
    "svc = SVC(random_state=2, class_weight=None, kernel='rbf', gamma='scale')\n",
    "\n",
    "param_grid = { \"C\" : [6500,6750,7000,7250,7500]}\n",
    "\n",
    "gs = GridSearchCV(estimator=svc, param_grid=param_grid, scoring='accuracy', cv=5, n_jobs=-1)\n",
    "\n",
    "gs = gs.fit(X_data5, y_data)\n",
    "print(gs.best_score_)\n",
    "print(gs.best_params_)"
   ]
  },
  {
   "cell_type": "code",
   "execution_count": 169,
   "metadata": {},
   "outputs": [
    {
     "name": "stdout",
     "output_type": "stream",
     "text": [
      "0.7922031359496449\n",
      "{'C': 7500}\n"
     ]
    }
   ],
   "source": [
    "svc = SVC(random_state=2, class_weight=None, kernel='rbf', gamma='scale')\n",
    "\n",
    "param_grid = { \"C\" : [7300,7400,7500,7600,7700,7800]}\n",
    "\n",
    "gs = GridSearchCV(estimator=svc, param_grid=param_grid, scoring='accuracy', cv=5, n_jobs=-1)\n",
    "\n",
    "gs = gs.fit(X_data5, y_data)\n",
    "print(gs.best_score_)\n",
    "print(gs.best_params_)"
   ]
  },
  {
   "cell_type": "code",
   "execution_count": 171,
   "metadata": {},
   "outputs": [
    {
     "name": "stdout",
     "output_type": "stream",
     "text": [
      "0.7922031359496449\n",
      "{'C': 7460}\n"
     ]
    }
   ],
   "source": [
    "svc = SVC(random_state=2, class_weight=None, kernel='rbf', gamma='scale')\n",
    "\n",
    "param_grid = { \"C\" : [7460,7470,7480,7490,7500,7510,7520,7530,7540]}\n",
    "\n",
    "gs = GridSearchCV(estimator=svc, param_grid=param_grid, scoring='accuracy', cv=5, n_jobs=-1)\n",
    "\n",
    "gs = gs.fit(X_data5, y_data)\n",
    "print(gs.best_score_)\n",
    "print(gs.best_params_)"
   ]
  },
  {
   "cell_type": "code",
   "execution_count": 172,
   "metadata": {},
   "outputs": [
    {
     "name": "stdout",
     "output_type": "stream",
     "text": [
      "0.7922031359496449\n",
      "{'C': 7460}\n"
     ]
    }
   ],
   "source": [
    "svc = SVC(random_state=2, class_weight=None, kernel='rbf', gamma='scale')\n",
    "\n",
    "param_grid = { \"C\" : [7410,7420,7430,7440,7450,7460,7470]}\n",
    "\n",
    "gs = GridSearchCV(estimator=svc, param_grid=param_grid, scoring='accuracy', cv=5, n_jobs=-1)\n",
    "\n",
    "gs = gs.fit(X_data5, y_data)\n",
    "print(gs.best_score_)\n",
    "print(gs.best_params_)"
   ]
  },
  {
   "cell_type": "code",
   "execution_count": 173,
   "metadata": {},
   "outputs": [
    {
     "name": "stdout",
     "output_type": "stream",
     "text": [
      "0.7922031359496449\n",
      "{'C': 7460}\n"
     ]
    }
   ],
   "source": [
    "svc = SVC(random_state=2, class_weight=None, kernel='rbf', gamma='scale')\n",
    "\n",
    "param_grid = { \"C\" : [7456,7457,7458,7459,7460,7461,7462,7463,7464]}\n",
    "\n",
    "gs = GridSearchCV(estimator=svc, param_grid=param_grid, scoring='accuracy', cv=5, n_jobs=-1)\n",
    "\n",
    "gs = gs.fit(X_data5, y_data)\n",
    "print(gs.best_score_)\n",
    "print(gs.best_params_)"
   ]
  },
  {
   "cell_type": "code",
   "execution_count": 174,
   "metadata": {},
   "outputs": [
    {
     "name": "stdout",
     "output_type": "stream",
     "text": [
      "train_score:  [0.80128548 0.800241   0.79890213 0.79930379 0.80211541]\n",
      "test_score:  [0.78372591 0.7959293  0.79539368 0.79646492 0.78950187]\n",
      "cross val training accuracy is: 0.8003695618017067\n",
      "cross val testing accuracy is: 0.7922031359496449\n"
     ]
    }
   ],
   "source": [
    "svc = SVC(random_state=2, class_weight=None, kernel='rbf', gamma='scale', C=7460)\n",
    "svc.fit(X_train5,y_train5)\n",
    "results  = cross_validate(svc, X_data5, y_data, scoring='accuracy', cv=5, return_train_score = True)\n",
    "print('train_score: ', results['train_score'])\n",
    "print('test_score: ', results['test_score'])\n",
    "print('cross val training accuracy is:', sum(results['train_score'])/len(results['train_score']))\n",
    "print('cross val testing accuracy is:', sum(results['test_score'])/len(results['test_score']))"
   ]
  },
  {
   "cell_type": "markdown",
   "metadata": {},
   "source": [
    "#### Voting Classifier <a id=\"part1.3.5\"></a>"
   ]
  },
  {
   "cell_type": "code",
   "execution_count": 175,
   "metadata": {},
   "outputs": [],
   "source": [
    "lg = LogisticRegression(solver='lbfgs', C=0.007, random_state=2)\n",
    "xgb = XGBClassifier(n_estimators=470, gamma=10, max_depth=15, colsample_bytree=0.6, subsample=0.8, min_child_weight=5, \n",
    "                    learning_rate=0.1, random_state=2, use_label_encoder=False, eval_metric='logloss')\n",
    "rf = RandomForestClassifier(n_estimators=795, min_samples_split=20, max_depth=12, criterion='entropy', max_features=None, \n",
    "                                    min_samples_leaf=5, random_state=2, n_jobs=-1)\n",
    "svc = SVC(random_state=2, class_weight=None, kernel='rbf', gamma='scale', C=7460)"
   ]
  },
  {
   "cell_type": "code",
   "execution_count": 187,
   "metadata": {},
   "outputs": [
    {
     "name": "stdout",
     "output_type": "stream",
     "text": [
      "train_score:  [0.83690412 0.83357879 0.83545321 0.83023162 0.83491766]\n",
      "test_score:  [0.80406852 0.82056776 0.81574719 0.81735404 0.82056776]\n",
      "cross val training accuracy is: 0.834217081379683\n",
      "cross val testing accuracy is: 0.8156610531845223\n"
     ]
    }
   ],
   "source": [
    "vc = VotingClassifier(estimators = [('xgb', xgb), ('rf', rf), ('svc', svc)], voting = 'hard')\n",
    "vc.fit(X_train,y_train)\n",
    "results  = cross_validate(vc, X_data, y_data, scoring='accuracy', cv=5, return_train_score = True)\n",
    "print('train_score: ', results['train_score'])\n",
    "print('test_score: ', results['test_score'])\n",
    "print('cross val training accuracy is:', sum(results['train_score'])/len(results['train_score']))\n",
    "print('cross val testing accuracy is:', sum(results['test_score'])/len(results['test_score']))"
   ]
  },
  {
   "cell_type": "code",
   "execution_count": 190,
   "metadata": {},
   "outputs": [
    {
     "name": "stdout",
     "output_type": "stream",
     "text": [
      "train_score:  [0.81655062 0.81523631 0.81590574 0.81282635 0.81617352]\n",
      "test_score:  [0.78586724 0.79807177 0.7959293  0.79646492 0.80074987]\n",
      "cross val training accuracy is: 0.8153385071794339\n",
      "cross val testing accuracy is: 0.7954166183998191\n"
     ]
    }
   ],
   "source": [
    "vc = VotingClassifier(estimators = [('xgb', xgb), ('rf', rf), ('svc', svc), ('lg', lg)], voting = 'hard')\n",
    "vc.fit(X_train,y_train)\n",
    "results  = cross_validate(vc, X_data, y_data, scoring='accuracy', cv=5, return_train_score = True)\n",
    "print('train_score: ', results['train_score'])\n",
    "print('test_score: ', results['test_score'])\n",
    "print('cross val training accuracy is:', sum(results['train_score'])/len(results['train_score']))\n",
    "print('cross val testing accuracy is:', sum(results['test_score'])/len(results['test_score']))"
   ]
  },
  {
   "cell_type": "code",
   "execution_count": 191,
   "metadata": {},
   "outputs": [
    {
     "name": "stdout",
     "output_type": "stream",
     "text": [
      "train_score:  [0.84212641 0.8405409  0.84013924 0.84201366 0.84308475]\n",
      "test_score:  [0.80942184 0.82003214 0.81574719 0.81521157 0.81360471]\n",
      "cross val training accuracy is: 0.841580991468898\n",
      "cross val testing accuracy is: 0.8148034898937825\n"
     ]
    }
   ],
   "source": [
    "vc = VotingClassifier(estimators = [('xgb', xgb), ('rf', rf)], voting = 'hard')\n",
    "vc.fit(X_train,y_train)\n",
    "results  = cross_validate(vc, X_data, y_data, scoring='accuracy', cv=5, return_train_score = True)\n",
    "print('train_score: ', results['train_score'])\n",
    "print('test_score: ', results['test_score'])\n",
    "print('cross val training accuracy is:', sum(results['train_score'])/len(results['train_score']))\n",
    "print('cross val testing accuracy is:', sum(results['test_score'])/len(results['test_score']))"
   ]
  },
  {
   "cell_type": "code",
   "execution_count": 192,
   "metadata": {},
   "outputs": [
    {
     "name": "stdout",
     "output_type": "stream",
     "text": [
      "train_score:  [0.81253348 0.81550408 0.81496854 0.81403133 0.81644129]\n",
      "test_score:  [0.78640257 0.79860739 0.79110873 0.80128548 0.79378682]\n",
      "cross val training accuracy is: 0.8146957432983308\n",
      "cross val testing accuracy is: 0.7942382000461068\n"
     ]
    }
   ],
   "source": [
    "vc = VotingClassifier(estimators = [('xgb', xgb), ('svc', svc)], voting = 'hard')\n",
    "vc.fit(X_train,y_train)\n",
    "results  = cross_validate(vc, X_data, y_data, scoring='accuracy', cv=5, return_train_score = True)\n",
    "print('train_score: ', results['train_score'])\n",
    "print('test_score: ', results['test_score'])\n",
    "print('cross val training accuracy is:', sum(results['train_score'])/len(results['train_score']))\n",
    "print('cross val testing accuracy is:', sum(results['test_score'])/len(results['test_score']))"
   ]
  },
  {
   "cell_type": "code",
   "execution_count": 193,
   "metadata": {},
   "outputs": [
    {
     "name": "stdout",
     "output_type": "stream",
     "text": [
      "train_score:  [0.82552223 0.82594725 0.82634891 0.82179676 0.82621502]\n",
      "test_score:  [0.78211991 0.7959293  0.79646492 0.79807177 0.79432244]\n",
      "cross val training accuracy is: 0.8251660335313474\n",
      "cross val testing accuracy is: 0.7933816689968562\n"
     ]
    }
   ],
   "source": [
    "vc = VotingClassifier(estimators = [('rf', rf), ('svc', svc)], voting = 'hard')\n",
    "vc.fit(X_train,y_train)\n",
    "results  = cross_validate(vc, X_data, y_data, scoring='accuracy', cv=5, return_train_score = True)\n",
    "print('train_score: ', results['train_score'])\n",
    "print('test_score: ', results['test_score'])\n",
    "print('cross val training accuracy is:', sum(results['train_score'])/len(results['train_score']))\n",
    "print('cross val testing accuracy is:', sum(results['test_score'])/len(results['test_score']))"
   ]
  },
  {
   "cell_type": "code",
   "execution_count": 194,
   "metadata": {},
   "outputs": [
    {
     "name": "stdout",
     "output_type": "stream",
     "text": [
      "train_score:  [0.8303428  0.8284911  0.82889276 0.83023162 0.82889276]\n",
      "test_score:  [0.81263383 0.82163899 0.81414033 0.81842528 0.82110337]\n",
      "cross val training accuracy is: 0.8293702059926611\n",
      "cross val testing accuracy is: 0.8175883627388348\n"
     ]
    }
   ],
   "source": [
    "vc = VotingClassifier(estimators = [('xgb', xgb)], voting = 'hard')\n",
    "vc.fit(X_train,y_train)\n",
    "results  = cross_validate(vc, X_data, y_data, scoring='accuracy', cv=5, return_train_score = True)\n",
    "print('train_score: ', results['train_score'])\n",
    "print('test_score: ', results['test_score'])\n",
    "print('cross val training accuracy is:', sum(results['train_score'])/len(results['train_score']))\n",
    "print('cross val testing accuracy is:', sum(results['test_score'])/len(results['test_score']))"
   ]
  },
  {
   "cell_type": "markdown",
   "metadata": {},
   "source": [
    "## 2. Airbnb <a id=\"part2\"></a>"
   ]
  },
  {
   "cell_type": "markdown",
   "metadata": {},
   "source": [
    "### 2.1 Load and Sample the data <a id=\"part2.1\"></a>"
   ]
  },
  {
   "cell_type": "code",
   "execution_count": 6,
   "metadata": {},
   "outputs": [
    {
     "data": {
      "text/html": [
       "<div>\n",
       "<style scoped>\n",
       "    .dataframe tbody tr th:only-of-type {\n",
       "        vertical-align: middle;\n",
       "    }\n",
       "\n",
       "    .dataframe tbody tr th {\n",
       "        vertical-align: top;\n",
       "    }\n",
       "\n",
       "    .dataframe thead th {\n",
       "        text-align: right;\n",
       "    }\n",
       "</style>\n",
       "<table border=\"1\" class=\"dataframe\">\n",
       "  <thead>\n",
       "    <tr style=\"text-align: right;\">\n",
       "      <th></th>\n",
       "      <th>neighbourhood</th>\n",
       "      <th>latitude</th>\n",
       "      <th>longitude</th>\n",
       "      <th>room_type</th>\n",
       "      <th>price</th>\n",
       "      <th>minimum_nights</th>\n",
       "      <th>number_of_reviews</th>\n",
       "      <th>last_review</th>\n",
       "      <th>reviews_per_month</th>\n",
       "      <th>calculated_host_listings_count</th>\n",
       "      <th>availability_365</th>\n",
       "    </tr>\n",
       "  </thead>\n",
       "  <tbody>\n",
       "    <tr>\n",
       "      <th>0</th>\n",
       "      <td>3</td>\n",
       "      <td>1.33235</td>\n",
       "      <td>103.78521</td>\n",
       "      <td>2</td>\n",
       "      <td>81</td>\n",
       "      <td>3.0</td>\n",
       "      <td>18</td>\n",
       "      <td>1705</td>\n",
       "      <td>0.28</td>\n",
       "      <td>1</td>\n",
       "      <td>365</td>\n",
       "    </tr>\n",
       "    <tr>\n",
       "      <th>1</th>\n",
       "      <td>2</td>\n",
       "      <td>1.28875</td>\n",
       "      <td>103.80814</td>\n",
       "      <td>2</td>\n",
       "      <td>44</td>\n",
       "      <td>15.0</td>\n",
       "      <td>18</td>\n",
       "      <td>128</td>\n",
       "      <td>0.23</td>\n",
       "      <td>32</td>\n",
       "      <td>331</td>\n",
       "    </tr>\n",
       "    <tr>\n",
       "      <th>2</th>\n",
       "      <td>2</td>\n",
       "      <td>1.28837</td>\n",
       "      <td>103.81099</td>\n",
       "      <td>2</td>\n",
       "      <td>40</td>\n",
       "      <td>3.0</td>\n",
       "      <td>10</td>\n",
       "      <td>348</td>\n",
       "      <td>0.11</td>\n",
       "      <td>32</td>\n",
       "      <td>276</td>\n",
       "    </tr>\n",
       "    <tr>\n",
       "      <th>3</th>\n",
       "      <td>9</td>\n",
       "      <td>1.31125</td>\n",
       "      <td>103.83816</td>\n",
       "      <td>2</td>\n",
       "      <td>65</td>\n",
       "      <td>2.0</td>\n",
       "      <td>125</td>\n",
       "      <td>5</td>\n",
       "      <td>1.35</td>\n",
       "      <td>6</td>\n",
       "      <td>336</td>\n",
       "    </tr>\n",
       "    <tr>\n",
       "      <th>4</th>\n",
       "      <td>2</td>\n",
       "      <td>1.28976</td>\n",
       "      <td>103.80896</td>\n",
       "      <td>2</td>\n",
       "      <td>44</td>\n",
       "      <td>3.0</td>\n",
       "      <td>13</td>\n",
       "      <td>206</td>\n",
       "      <td>0.15</td>\n",
       "      <td>32</td>\n",
       "      <td>340</td>\n",
       "    </tr>\n",
       "  </tbody>\n",
       "</table>\n",
       "</div>"
      ],
      "text/plain": [
       "   neighbourhood  latitude  longitude  room_type  price  minimum_nights  \\\n",
       "0              3   1.33235  103.78521          2     81             3.0   \n",
       "1              2   1.28875  103.80814          2     44            15.0   \n",
       "2              2   1.28837  103.81099          2     40             3.0   \n",
       "3              9   1.31125  103.83816          2     65             2.0   \n",
       "4              2   1.28976  103.80896          2     44             3.0   \n",
       "\n",
       "   number_of_reviews  last_review  reviews_per_month  \\\n",
       "0                 18         1705               0.28   \n",
       "1                 18          128               0.23   \n",
       "2                 10          348               0.11   \n",
       "3                125            5               1.35   \n",
       "4                 13          206               0.15   \n",
       "\n",
       "   calculated_host_listings_count  availability_365  \n",
       "0                               1               365  \n",
       "1                              32               331  \n",
       "2                              32               276  \n",
       "3                               6               336  \n",
       "4                              32               340  "
      ]
     },
     "execution_count": 6,
     "metadata": {},
     "output_type": "execute_result"
    }
   ],
   "source": [
    "# Load dataset into a DataFrame\n",
    "df_list = pd.read_csv('listings_new.csv')\n",
    "\n",
    "# Create a copy of the DataFrame\n",
    "df2 = df_list.copy()\n",
    "\n",
    "# Show overview of the dataset\n",
    "df2.head()"
   ]
  },
  {
   "cell_type": "code",
   "execution_count": 7,
   "metadata": {},
   "outputs": [],
   "source": [
    "# Set \"price\" as the target/model output and the other features as model inputs\n",
    "ydata = df2['price']\n",
    "Xdata = df2.drop(['price'], axis=1)"
   ]
  },
  {
   "cell_type": "code",
   "execution_count": 8,
   "metadata": {},
   "outputs": [],
   "source": [
    "# Split the data into training and testing data\n",
    "Xtrain, Xtest, ytrain, ytest = train_test_split(Xdata, ydata, test_size=0.3, random_state=2)"
   ]
  },
  {
   "cell_type": "markdown",
   "metadata": {},
   "source": [
    "### 2.2 Build the Model(s) <a id=\"part2.2\"></a>"
   ]
  },
  {
   "cell_type": "markdown",
   "metadata": {},
   "source": [
    "#### Linear Regression <a id=\"part2.2.1\"></a>"
   ]
  },
  {
   "cell_type": "code",
   "execution_count": 204,
   "metadata": {},
   "outputs": [
    {
     "data": {
      "text/plain": [
       "LinearRegression()"
      ]
     },
     "execution_count": 204,
     "metadata": {},
     "output_type": "execute_result"
    }
   ],
   "source": [
    "# Create the model \"lg\"\n",
    "lg = LinearRegression()\n",
    "# Fit the model to the training set\n",
    "lg.fit(Xtrain,ytrain.ravel())"
   ]
  },
  {
   "cell_type": "markdown",
   "metadata": {},
   "source": [
    "#### MLP Regressor <a id=\"part2.2.2\"></a>"
   ]
  },
  {
   "cell_type": "code",
   "execution_count": 61,
   "metadata": {},
   "outputs": [
    {
     "data": {
      "text/plain": [
       "MLPRegressor(random_state=2)"
      ]
     },
     "execution_count": 61,
     "metadata": {},
     "output_type": "execute_result"
    }
   ],
   "source": [
    "# Create the model \"mlp\"\n",
    "mlp = MLPRegressor(random_state=2)\n",
    "# Fit the model to the training set\n",
    "mlp.fit(Xtrain,ytrain.ravel())"
   ]
  },
  {
   "cell_type": "markdown",
   "metadata": {},
   "source": [
    "#### XGBoost Regressor<a id=\"part2.2.3\"></a>"
   ]
  },
  {
   "cell_type": "code",
   "execution_count": 20,
   "metadata": {},
   "outputs": [
    {
     "data": {
      "text/plain": [
       "XGBRegressor(base_score=0.5, booster='gbtree', colsample_bylevel=1,\n",
       "             colsample_bynode=1, colsample_bytree=1, enable_categorical=False,\n",
       "             gamma=0, gpu_id=-1, importance_type=None,\n",
       "             interaction_constraints='', learning_rate=0.300000012,\n",
       "             max_delta_step=0, max_depth=6, min_child_weight=1, missing=nan,\n",
       "             monotone_constraints='()', n_estimators=100, n_jobs=8,\n",
       "             num_parallel_tree=1, predictor='auto', random_state=2, reg_alpha=0,\n",
       "             reg_lambda=1, scale_pos_weight=1, subsample=1, tree_method='exact',\n",
       "             validate_parameters=1, verbosity=None)"
      ]
     },
     "execution_count": 20,
     "metadata": {},
     "output_type": "execute_result"
    }
   ],
   "source": [
    "# Create the model \"xgbr\"\n",
    "xgbr = XGBRegressor(random_state=2)\n",
    "# Fit the model to the training set\n",
    "xgbr.fit(Xtrain,ytrain.ravel())"
   ]
  },
  {
   "cell_type": "markdown",
   "metadata": {},
   "source": [
    "#### Random Forest Regressor<a id=\"part2.2.4\"></a>"
   ]
  },
  {
   "cell_type": "code",
   "execution_count": 42,
   "metadata": {},
   "outputs": [
    {
     "data": {
      "text/plain": [
       "RandomForestRegressor(random_state=2)"
      ]
     },
     "execution_count": 42,
     "metadata": {},
     "output_type": "execute_result"
    }
   ],
   "source": [
    "# Create the model \"rf_reg\"\n",
    "rf_reg = RandomForestRegressor(random_state = 2)\n",
    "# Fit the model to the training set\n",
    "rf_reg.fit(Xtrain, ytrain.ravel()) "
   ]
  },
  {
   "cell_type": "markdown",
   "metadata": {},
   "source": [
    "### 2.3 Evaluate and Improve the Model(s) <a id=\"part2.3\"></a>"
   ]
  },
  {
   "cell_type": "markdown",
   "metadata": {},
   "source": [
    "#### Linear Regression<a id=\"part2.3.1\"></a>"
   ]
  },
  {
   "cell_type": "code",
   "execution_count": 27,
   "metadata": {},
   "outputs": [
    {
     "name": "stdout",
     "output_type": "stream",
     "text": [
      "train_score:  [-67.14587614 -66.34269939 -65.71667402 -64.70612736 -65.24915   ]\n",
      "test_score:  [-61.32441819 -64.37694102 -66.89142828 -70.84263958 -68.71774192]\n",
      "cross val training root mean squared error (RMSE) is: 65.83210538310384\n",
      "cross val testing root mean squared error (RMSE) is: 66.43063379637219\n"
     ]
    }
   ],
   "source": [
    "# Evaluate the Model using K-folds Cross validation\n",
    "results  = (cross_validate(lg, Xdata, ydata.ravel(), scoring='neg_root_mean_squared_error', cv=5, return_train_score = True))\n",
    "print('train_score: ', results['train_score'])\n",
    "print('test_score: ', results['test_score'])\n",
    "print('cross val training root mean squared error (RMSE) is:', sum(-results['train_score'])/len(results['train_score']))\n",
    "print('cross val testing root mean squared error (RMSE) is:', sum(-results['test_score'])/len(results['test_score']))"
   ]
  },
  {
   "cell_type": "code",
   "execution_count": 209,
   "metadata": {},
   "outputs": [
    {
     "data": {
      "text/html": [
       "<table class=\"simpletable\">\n",
       "<caption>OLS Regression Results</caption>\n",
       "<tr>\n",
       "  <th>Dep. Variable:</th>          <td>price</td>      <th>  R-squared (uncentered):</th>      <td>   0.843</td> \n",
       "</tr>\n",
       "<tr>\n",
       "  <th>Model:</th>                   <td>OLS</td>       <th>  Adj. R-squared (uncentered):</th> <td>   0.843</td> \n",
       "</tr>\n",
       "<tr>\n",
       "  <th>Method:</th>             <td>Least Squares</td>  <th>  F-statistic:       </th>          <td>   2253.</td> \n",
       "</tr>\n",
       "<tr>\n",
       "  <th>Date:</th>             <td>Thu, 03 Feb 2022</td> <th>  Prob (F-statistic):</th>           <td>  0.00</td>  \n",
       "</tr>\n",
       "<tr>\n",
       "  <th>Time:</th>                 <td>23:04:15</td>     <th>  Log-Likelihood:    </th>          <td> -23532.</td> \n",
       "</tr>\n",
       "<tr>\n",
       "  <th>No. Observations:</th>      <td>  4195</td>      <th>  AIC:               </th>          <td>4.708e+04</td>\n",
       "</tr>\n",
       "<tr>\n",
       "  <th>Df Residuals:</th>          <td>  4185</td>      <th>  BIC:               </th>          <td>4.715e+04</td>\n",
       "</tr>\n",
       "<tr>\n",
       "  <th>Df Model:</th>              <td>    10</td>      <th>                     </th>              <td> </td>    \n",
       "</tr>\n",
       "<tr>\n",
       "  <th>Covariance Type:</th>      <td>nonrobust</td>    <th>                     </th>              <td> </td>    \n",
       "</tr>\n",
       "</table>\n",
       "<table class=\"simpletable\">\n",
       "<tr>\n",
       "                 <td></td>                   <th>coef</th>     <th>std err</th>      <th>t</th>      <th>P>|t|</th>  <th>[0.025</th>    <th>0.975]</th>  \n",
       "</tr>\n",
       "<tr>\n",
       "  <th>neighbourhood</th>                  <td>    1.1134</td> <td>    0.218</td> <td>    5.109</td> <td> 0.000</td> <td>    0.686</td> <td>    1.541</td>\n",
       "</tr>\n",
       "<tr>\n",
       "  <th>latitude</th>                       <td>  -83.9340</td> <td>   63.250</td> <td>   -1.327</td> <td> 0.185</td> <td> -207.937</td> <td>   40.069</td>\n",
       "</tr>\n",
       "<tr>\n",
       "  <th>longitude</th>                      <td>    0.0603</td> <td>    0.794</td> <td>    0.076</td> <td> 0.939</td> <td>   -1.497</td> <td>    1.617</td>\n",
       "</tr>\n",
       "<tr>\n",
       "  <th>room_type</th>                      <td>   88.5484</td> <td>    1.825</td> <td>   48.529</td> <td> 0.000</td> <td>   84.971</td> <td>   92.126</td>\n",
       "</tr>\n",
       "<tr>\n",
       "  <th>minimum_nights</th>                 <td>   -2.1083</td> <td>    0.256</td> <td>   -8.233</td> <td> 0.000</td> <td>   -2.610</td> <td>   -1.606</td>\n",
       "</tr>\n",
       "<tr>\n",
       "  <th>number_of_reviews</th>              <td>   -0.2185</td> <td>    0.048</td> <td>   -4.590</td> <td> 0.000</td> <td>   -0.312</td> <td>   -0.125</td>\n",
       "</tr>\n",
       "<tr>\n",
       "  <th>last_review</th>                    <td>    0.0042</td> <td>    0.001</td> <td>    3.349</td> <td> 0.001</td> <td>    0.002</td> <td>    0.007</td>\n",
       "</tr>\n",
       "<tr>\n",
       "  <th>reviews_per_month</th>              <td>    5.3826</td> <td>    1.349</td> <td>    3.991</td> <td> 0.000</td> <td>    2.739</td> <td>    8.026</td>\n",
       "</tr>\n",
       "<tr>\n",
       "  <th>calculated_host_listings_count</th> <td>   -0.0176</td> <td>    0.017</td> <td>   -1.053</td> <td> 0.292</td> <td>   -0.050</td> <td>    0.015</td>\n",
       "</tr>\n",
       "<tr>\n",
       "  <th>availability_365</th>               <td>    0.0850</td> <td>    0.007</td> <td>   11.342</td> <td> 0.000</td> <td>    0.070</td> <td>    0.100</td>\n",
       "</tr>\n",
       "</table>\n",
       "<table class=\"simpletable\">\n",
       "<tr>\n",
       "  <th>Omnibus:</th>       <td>614.303</td> <th>  Durbin-Watson:     </th> <td>   1.978</td> \n",
       "</tr>\n",
       "<tr>\n",
       "  <th>Prob(Omnibus):</th> <td> 0.000</td>  <th>  Jarque-Bera (JB):  </th> <td> 943.165</td> \n",
       "</tr>\n",
       "<tr>\n",
       "  <th>Skew:</th>          <td> 1.037</td>  <th>  Prob(JB):          </th> <td>1.56e-205</td>\n",
       "</tr>\n",
       "<tr>\n",
       "  <th>Kurtosis:</th>      <td> 4.047</td>  <th>  Cond. No.          </th> <td>8.00e+04</td> \n",
       "</tr>\n",
       "</table><br/><br/>Notes:<br/>[1] R² is computed without centering (uncentered) since the model does not contain a constant.<br/>[2] Standard Errors assume that the covariance matrix of the errors is correctly specified.<br/>[3] The condition number is large,  8e+04. This might indicate that there are<br/>strong multicollinearity or other numerical problems."
      ],
      "text/plain": [
       "<class 'statsmodels.iolib.summary.Summary'>\n",
       "\"\"\"\n",
       "                                 OLS Regression Results                                \n",
       "=======================================================================================\n",
       "Dep. Variable:                  price   R-squared (uncentered):                   0.843\n",
       "Model:                            OLS   Adj. R-squared (uncentered):              0.843\n",
       "Method:                 Least Squares   F-statistic:                              2253.\n",
       "Date:                Thu, 03 Feb 2022   Prob (F-statistic):                        0.00\n",
       "Time:                        23:04:15   Log-Likelihood:                         -23532.\n",
       "No. Observations:                4195   AIC:                                  4.708e+04\n",
       "Df Residuals:                    4185   BIC:                                  4.715e+04\n",
       "Df Model:                          10                                                  \n",
       "Covariance Type:            nonrobust                                                  \n",
       "==================================================================================================\n",
       "                                     coef    std err          t      P>|t|      [0.025      0.975]\n",
       "--------------------------------------------------------------------------------------------------\n",
       "neighbourhood                      1.1134      0.218      5.109      0.000       0.686       1.541\n",
       "latitude                         -83.9340     63.250     -1.327      0.185    -207.937      40.069\n",
       "longitude                          0.0603      0.794      0.076      0.939      -1.497       1.617\n",
       "room_type                         88.5484      1.825     48.529      0.000      84.971      92.126\n",
       "minimum_nights                    -2.1083      0.256     -8.233      0.000      -2.610      -1.606\n",
       "number_of_reviews                 -0.2185      0.048     -4.590      0.000      -0.312      -0.125\n",
       "last_review                        0.0042      0.001      3.349      0.001       0.002       0.007\n",
       "reviews_per_month                  5.3826      1.349      3.991      0.000       2.739       8.026\n",
       "calculated_host_listings_count    -0.0176      0.017     -1.053      0.292      -0.050       0.015\n",
       "availability_365                   0.0850      0.007     11.342      0.000       0.070       0.100\n",
       "==============================================================================\n",
       "Omnibus:                      614.303   Durbin-Watson:                   1.978\n",
       "Prob(Omnibus):                  0.000   Jarque-Bera (JB):              943.165\n",
       "Skew:                           1.037   Prob(JB):                    1.56e-205\n",
       "Kurtosis:                       4.047   Cond. No.                     8.00e+04\n",
       "==============================================================================\n",
       "\n",
       "Notes:\n",
       "[1] R² is computed without centering (uncentered) since the model does not contain a constant.\n",
       "[2] Standard Errors assume that the covariance matrix of the errors is correctly specified.\n",
       "[3] The condition number is large,  8e+04. This might indicate that there are\n",
       "strong multicollinearity or other numerical problems.\n",
       "\"\"\""
      ]
     },
     "execution_count": 209,
     "metadata": {},
     "output_type": "execute_result"
    }
   ],
   "source": [
    "# Create the model \"lm2\" using statsmodel.api\n",
    "lm2 = sm.OLS(ytrain, Xtrain).fit()\n",
    "# Summary statistics from the model\n",
    "lm2.summary()"
   ]
  },
  {
   "cell_type": "code",
   "execution_count": 44,
   "metadata": {},
   "outputs": [],
   "source": [
    "# Set \"price\" as the target/model output and the other features as model inputs\n",
    "Xdata2 = df2.drop(['price','latitude','longitude','calculated_host_listings_count'], axis=1)"
   ]
  },
  {
   "cell_type": "code",
   "execution_count": 45,
   "metadata": {},
   "outputs": [],
   "source": [
    "# Task 2: Split both Inputs (X) and Ouput (y) into training set (70%) and testing set (30%)\n",
    "Xtrain2, Xtest2, ytrain2, ytest2 = train_test_split(Xdata2, ydata, test_size=0.3, random_state=2)"
   ]
  },
  {
   "cell_type": "code",
   "execution_count": 219,
   "metadata": {},
   "outputs": [
    {
     "name": "stdout",
     "output_type": "stream",
     "text": [
      "train_score:  [-67.18682384 -66.36443373 -65.83347615 -64.84383551 -65.36590547]\n",
      "test_score:  [-61.44244562 -64.46723955 -66.65685816 -70.48160988 -68.52009885]\n",
      "cross val training root mean squared error (RMSE) is: 65.91889494162135\n",
      "cross val testing root mean squared error (RMSE) is: 66.3136504133597\n"
     ]
    }
   ],
   "source": [
    "lg = LinearRegression()\n",
    "lg.fit(Xtrain2,ytrain2.ravel())\n",
    "\n",
    "# Evaluate the Model using K-folds Cross validation\n",
    "results  = (cross_validate(lg, Xdata2, ydata.ravel(), scoring='neg_root_mean_squared_error', cv=5, return_train_score = True))\n",
    "print('train_score: ', results['train_score'])\n",
    "print('test_score: ', results['test_score'])\n",
    "print('cross val training root mean squared error (RMSE) is:', sum(-results['train_score'])/len(results['train_score']))\n",
    "print('cross val testing root mean squared error (RMSE) is:', sum(-results['test_score'])/len(results['test_score']))"
   ]
  },
  {
   "cell_type": "markdown",
   "metadata": {},
   "source": [
    "#### MLP Regressor<a id=\"part2.3.2\"></a>"
   ]
  },
  {
   "cell_type": "code",
   "execution_count": 15,
   "metadata": {},
   "outputs": [
    {
     "name": "stdout",
     "output_type": "stream",
     "text": [
      "train_score:  [-65.93336536 -64.53388289 -63.20253977 -63.11258765 -63.29603071]\n",
      "test_score:  [-62.61258911 -64.55485491 -68.70425706 -69.8365648  -70.12405379]\n",
      "cross val training root mean squared error (RMSE) is: 64.01568127604749\n",
      "cross val testing root mean squared error (RMSE) is: 67.16646393264753\n"
     ]
    }
   ],
   "source": [
    "# Evaluate the Model using K-folds Cross validation\n",
    "results  = (cross_validate(mlp, Xdata, ydata.ravel(), scoring='neg_root_mean_squared_error', cv=5, return_train_score = True))\n",
    "print('train_score: ', results['train_score'])\n",
    "print('test_score: ', results['test_score'])\n",
    "print('cross val training root mean squared error (RMSE) is:', sum(-results['train_score'])/len(results['train_score']))\n",
    "print('cross val testing root mean squared error (RMSE) is:', sum(-results['test_score'])/len(results['test_score']))"
   ]
  },
  {
   "cell_type": "code",
   "execution_count": 13,
   "metadata": {},
   "outputs": [
    {
     "name": "stdout",
     "output_type": "stream",
     "text": [
      "-65.32071881953736\n",
      "{'activation': 'relu', 'hidden_layer_sizes': (20,), 'max_iter': 4000, 'solver': 'lbfgs'}\n"
     ]
    }
   ],
   "source": [
    "mlp = MLPRegressor(random_state=2)\n",
    "\n",
    "param_grid = { \"activation\" : [\"identity\", \"logistic\", \"tanh\", \"relu\"],\n",
    " \"hidden_layer_sizes\" : [(5,), (10,), (20,)],\n",
    " \"max_iter\" : [200, 2000, 4000],\n",
    " \"solver\" : [\"lbfgs\", \"sgd\", \"adam\"]}\n",
    "\n",
    "gs = GridSearchCV(estimator=mlp, param_grid=param_grid, scoring='neg_root_mean_squared_error', cv=5, n_jobs=-1)\n",
    "gs = gs.fit(Xtrain, ytrain)\n",
    "\n",
    "print(gs.best_score_)\n",
    "print(gs.best_params_)"
   ]
  },
  {
   "cell_type": "code",
   "execution_count": 18,
   "metadata": {},
   "outputs": [
    {
     "name": "stdout",
     "output_type": "stream",
     "text": [
      "-64.52778941244631\n",
      "{'hidden_layer_sizes': (30,), 'max_iter': 5000}\n"
     ]
    }
   ],
   "source": [
    "mlp = MLPRegressor(activation='relu', solver='lbfgs', random_state=2)\n",
    "\n",
    "param_grid = { \"hidden_layer_sizes\" : [(30,), (40,), (50,)],\n",
    "              \"max_iter\" : [5000,6000,7000]}\n",
    "\n",
    "gs = GridSearchCV(estimator=mlp, param_grid=param_grid, scoring='neg_root_mean_squared_error', cv=5, n_jobs=-1)\n",
    "gs = gs.fit(Xtrain, ytrain)\n",
    "\n",
    "print(gs.best_score_)\n",
    "print(gs.best_params_)"
   ]
  },
  {
   "cell_type": "code",
   "execution_count": 19,
   "metadata": {},
   "outputs": [
    {
     "name": "stdout",
     "output_type": "stream",
     "text": [
      "-64.4805201575498\n",
      "{'hidden_layer_sizes': (30,), 'max_iter': 4000}\n"
     ]
    }
   ],
   "source": [
    "mlp = MLPRegressor(activation='relu', solver='lbfgs', random_state=2)\n",
    "\n",
    "param_grid = { \"hidden_layer_sizes\" : [(20,), (25,), (30,)],\n",
    "              \"max_iter\" : [4000,4500,5000]}\n",
    "\n",
    "gs = GridSearchCV(estimator=mlp, param_grid=param_grid, scoring='neg_root_mean_squared_error', cv=5, n_jobs=-1)\n",
    "gs = gs.fit(Xtrain, ytrain)\n",
    "\n",
    "print(gs.best_score_)\n",
    "print(gs.best_params_)"
   ]
  },
  {
   "cell_type": "code",
   "execution_count": 20,
   "metadata": {},
   "outputs": [
    {
     "name": "stdout",
     "output_type": "stream",
     "text": [
      "-64.51601070176363\n",
      "{'hidden_layer_sizes': (30,), 'max_iter': 3500}\n"
     ]
    }
   ],
   "source": [
    "mlp = MLPRegressor(activation='relu', solver='lbfgs', random_state=2)\n",
    "\n",
    "param_grid = { \"hidden_layer_sizes\" : [(29,), (30,), (31,), (32,), (33,), (34,), (35,)],\n",
    "              \"max_iter\" : [3000,3250,3500,3750]}\n",
    "\n",
    "gs = GridSearchCV(estimator=mlp, param_grid=param_grid, scoring='neg_root_mean_squared_error', cv=5, n_jobs=-1)\n",
    "gs = gs.fit(Xtrain, ytrain)\n",
    "\n",
    "print(gs.best_score_)\n",
    "print(gs.best_params_)"
   ]
  },
  {
   "cell_type": "code",
   "execution_count": 22,
   "metadata": {},
   "outputs": [
    {
     "name": "stdout",
     "output_type": "stream",
     "text": [
      "-64.48410174791749\n",
      "{'max_iter': 3400}\n"
     ]
    }
   ],
   "source": [
    "mlp = MLPRegressor(hidden_layer_sizes=(30,), activation='relu', solver='lbfgs', random_state=2)\n",
    "\n",
    "param_grid = { \"max_iter\" : [3300,3400,3500,3600,3700]}\n",
    "\n",
    "gs = GridSearchCV(estimator=mlp, param_grid=param_grid, scoring='neg_root_mean_squared_error', cv=5, n_jobs=-1)\n",
    "gs = gs.fit(Xtrain, ytrain)\n",
    "\n",
    "print(gs.best_score_)\n",
    "print(gs.best_params_)"
   ]
  },
  {
   "cell_type": "code",
   "execution_count": 23,
   "metadata": {},
   "outputs": [
    {
     "name": "stdout",
     "output_type": "stream",
     "text": [
      "-64.47898862346862\n",
      "{'max_iter': 3350}\n"
     ]
    }
   ],
   "source": [
    "mlp = MLPRegressor(hidden_layer_sizes=(30,), activation='relu', solver='lbfgs', random_state=2)\n",
    "\n",
    "param_grid = { \"max_iter\" : [3350,3360,3370,3380,3390,3400,3410,3420,3430,3440,3450]}\n",
    "\n",
    "gs = GridSearchCV(estimator=mlp, param_grid=param_grid, scoring='neg_root_mean_squared_error', cv=5, n_jobs=-1)\n",
    "gs = gs.fit(Xtrain, ytrain)\n",
    "\n",
    "print(gs.best_score_)\n",
    "print(gs.best_params_)"
   ]
  },
  {
   "cell_type": "code",
   "execution_count": 24,
   "metadata": {},
   "outputs": [
    {
     "name": "stdout",
     "output_type": "stream",
     "text": [
      "-64.47898862346862\n",
      "{'max_iter': 3350}\n"
     ]
    }
   ],
   "source": [
    "mlp = MLPRegressor(hidden_layer_sizes=(30,), activation='relu', solver='lbfgs', random_state=2)\n",
    "\n",
    "param_grid = { \"max_iter\" : [3300,3310,3320,3330,3340,3350]}\n",
    "\n",
    "gs = GridSearchCV(estimator=mlp, param_grid=param_grid, scoring='neg_root_mean_squared_error', cv=5, n_jobs=-1)\n",
    "gs = gs.fit(Xtrain, ytrain)\n",
    "\n",
    "print(gs.best_score_)\n",
    "print(gs.best_params_)"
   ]
  },
  {
   "cell_type": "code",
   "execution_count": 154,
   "metadata": {},
   "outputs": [
    {
     "name": "stdout",
     "output_type": "stream",
     "text": [
      "train_score:  [-62.99717041 -63.51339568 -63.35255618 -61.92080936 -62.09105005]\n",
      "test_score:  [-62.83285443 -64.47893354 -67.19075994 -69.97166547 -67.83853424]\n",
      "cross val training root mean squared error (RMSE) is: 62.774996335435596\n",
      "cross val testing root mean squared error (RMSE) is: 66.46254952548814\n"
     ]
    }
   ],
   "source": [
    "mlp = MLPRegressor(activation='relu', hidden_layer_sizes=(30,), max_iter=3350, solver='lbfgs', random_state=2)\n",
    "mlp.fit(Xtrain,ytrain)\n",
    "\n",
    "# Evaluate the Model using K-folds Cross validation\n",
    "results  = (cross_validate(mlp, Xdata, ydata.ravel(), scoring='neg_root_mean_squared_error', cv=5, return_train_score = True))\n",
    "print('train_score: ', results['train_score'])\n",
    "print('test_score: ', results['test_score'])\n",
    "print('cross val training root mean squared error (RMSE) is:', sum(-results['train_score'])/len(results['train_score']))\n",
    "print('cross val testing root mean squared error (RMSE) is:', sum(-results['test_score'])/len(results['test_score']))"
   ]
  },
  {
   "cell_type": "code",
   "execution_count": 207,
   "metadata": {},
   "outputs": [
    {
     "data": {
      "text/plain": [
       "Text(0.5, 0, 'Permutation Importance')"
      ]
     },
     "execution_count": 207,
     "metadata": {},
     "output_type": "execute_result"
    },
    {
     "data": {
      "image/png": "[encoded data removed]",
      "text/plain": [
       "<Figure size 432x288 with 1 Axes>"
      ]
     },
     "metadata": {
      "needs_background": "light"
     },
     "output_type": "display_data"
    }
   ],
   "source": [
    "mlp = MLPRegressor(activation='relu', hidden_layer_sizes=(30,), max_iter=3350, solver='lbfgs', random_state=2)\n",
    "mlp.fit(Xtrain,ytrain)\n",
    "\n",
    "perm_importance = permutation_importance(mlp, Xtest, ytest)\n",
    "\n",
    "features = df_list.columns\n",
    "\n",
    "sorted_idx = perm_importance.importances_mean.argsort()\n",
    "plt.barh(features[sorted_idx], perm_importance.importances_mean[sorted_idx])\n",
    "plt.xlabel(\"Permutation Importance\")"
   ]
  },
  {
   "cell_type": "code",
   "execution_count": 208,
   "metadata": {},
   "outputs": [],
   "source": [
    "Xdata3 = df_list.drop(['price', 'latitude', 'longitude', 'neighbourhood', 'last_review'], axis = 1)"
   ]
  },
  {
   "cell_type": "code",
   "execution_count": 209,
   "metadata": {},
   "outputs": [],
   "source": [
    "Xtrain3, Xtest3, ytrain3, ytest3 = train_test_split(Xdata3, ydata, test_size=0.3, random_state=2)"
   ]
  },
  {
   "cell_type": "code",
   "execution_count": 210,
   "metadata": {},
   "outputs": [
    {
     "name": "stdout",
     "output_type": "stream",
     "text": [
      "train_score:  [-65.87323365 -64.74980656 -62.8480103  -63.18499687 -63.87714791]\n",
      "test_score:  [-63.47662761 -64.80775415 -64.95576459 -69.04806953 -67.38251155]\n",
      "cross val training root mean squared error (RMSE) is: 64.10663905883453\n",
      "cross val testing root mean squared error (RMSE) is: 65.93414548590272\n"
     ]
    }
   ],
   "source": [
    "mlp = MLPRegressor(activation='relu', hidden_layer_sizes=(30,), max_iter=3350, solver='lbfgs', random_state=2)\n",
    "mlp.fit(Xtrain3,ytrain3)\n",
    "\n",
    "# Evaluate the Model using K-folds Cross validation\n",
    "results  = (cross_validate(mlp, Xdata3, ydata.ravel(), scoring='neg_root_mean_squared_error', cv=5, return_train_score = True))\n",
    "print('train_score: ', results['train_score'])\n",
    "print('test_score: ', results['test_score'])\n",
    "print('cross val training root mean squared error (RMSE) is:', sum(-results['train_score'])/len(results['train_score']))\n",
    "print('cross val testing root mean squared error (RMSE) is:', sum(-results['test_score'])/len(results['test_score']))"
   ]
  },
  {
   "cell_type": "code",
   "execution_count": 211,
   "metadata": {},
   "outputs": [
    {
     "name": "stdout",
     "output_type": "stream",
     "text": [
      "-64.25103947067866\n",
      "{'activation': 'logistic', 'hidden_layer_sizes': (35,), 'max_iter': 4000, 'solver': 'lbfgs'}\n"
     ]
    }
   ],
   "source": [
    "mlp = MLPRegressor(random_state=2)\n",
    "\n",
    "param_grid = { \"activation\" : [\"identity\", \"logistic\", \"tanh\", \"relu\"],\n",
    " \"hidden_layer_sizes\" : [(20, ), (25, ), (30, ), (35, ), (40, )],\n",
    " \"max_iter\" : [2000, 3000, 4000],\n",
    " \"solver\" : [\"lbfgs\", \"sgd\", \"adam\"]}\n",
    "\n",
    "gs = GridSearchCV(estimator=mlp, param_grid=param_grid, scoring='neg_root_mean_squared_error', cv=5, n_jobs=-1)\n",
    "gs = gs.fit(Xtrain3, ytrain3)\n",
    "\n",
    "print(gs.best_score_)\n",
    "print(gs.best_params_)"
   ]
  },
  {
   "cell_type": "code",
   "execution_count": 213,
   "metadata": {},
   "outputs": [
    {
     "name": "stdout",
     "output_type": "stream",
     "text": [
      "-63.776404565757026\n",
      "{'hidden_layer_sizes': (35,), 'max_iter': 6000}\n"
     ]
    }
   ],
   "source": [
    "mlp = MLPRegressor(random_state=2, activation='logistic', solver='lbfgs')\n",
    "\n",
    "param_grid = { \"hidden_layer_sizes\" : [(32,), (35,), (37,)],\n",
    " \"max_iter\" : [3900, 4000, 5000, 6000]}\n",
    "\n",
    "gs = GridSearchCV(estimator=mlp, param_grid=param_grid, scoring='neg_root_mean_squared_error', cv=5, n_jobs=-1)\n",
    "gs = gs.fit(Xtrain3, ytrain3)\n",
    "\n",
    "print(gs.best_score_)\n",
    "print(gs.best_params_)"
   ]
  },
  {
   "cell_type": "code",
   "execution_count": 214,
   "metadata": {
    "scrolled": true
   },
   "outputs": [
    {
     "name": "stdout",
     "output_type": "stream",
     "text": [
      "-63.506360254835634\n",
      "{'hidden_layer_sizes': (35,), 'max_iter': 8000}\n"
     ]
    }
   ],
   "source": [
    "mlp = MLPRegressor(random_state=2, activation='logistic', solver='lbfgs')\n",
    "\n",
    "param_grid = { \"hidden_layer_sizes\" : [(33,), (34,), (35,), (36,)],\n",
    " \"max_iter\" : [5900,6000,7000,8000]}\n",
    "\n",
    "gs = GridSearchCV(estimator=mlp, param_grid=param_grid, scoring='neg_root_mean_squared_error', cv=5, n_jobs=-1)\n",
    "gs = gs.fit(Xtrain3, ytrain3)\n",
    "\n",
    "print(gs.best_score_)\n",
    "print(gs.best_params_)"
   ]
  },
  {
   "cell_type": "code",
   "execution_count": 215,
   "metadata": {},
   "outputs": [
    {
     "name": "stdout",
     "output_type": "stream",
     "text": [
      "-63.45756685512163\n",
      "{'max_iter': 9000}\n"
     ]
    }
   ],
   "source": [
    "mlp = MLPRegressor(random_state=2, activation='logistic', solver='lbfgs', hidden_layer_sizes=(35,))\n",
    "\n",
    "param_grid = { \"max_iter\" : [8000,9000,10000]}\n",
    "\n",
    "gs = GridSearchCV(estimator=mlp, param_grid=param_grid, scoring='neg_root_mean_squared_error', cv=5, n_jobs=-1)\n",
    "gs = gs.fit(Xtrain3, ytrain3)\n",
    "\n",
    "print(gs.best_score_)\n",
    "print(gs.best_params_)"
   ]
  },
  {
   "cell_type": "code",
   "execution_count": 216,
   "metadata": {},
   "outputs": [
    {
     "name": "stdout",
     "output_type": "stream",
     "text": [
      "-63.457240795407756\n",
      "{'max_iter': 9500}\n"
     ]
    }
   ],
   "source": [
    "mlp = MLPRegressor(random_state=2, activation='logistic', solver='lbfgs', hidden_layer_sizes=(35,))\n",
    "\n",
    "param_grid = { \"max_iter\" : [8500,8750,9000,9250,9500]}\n",
    "\n",
    "gs = GridSearchCV(estimator=mlp, param_grid=param_grid, scoring='neg_root_mean_squared_error', cv=5, n_jobs=-1)\n",
    "gs = gs.fit(Xtrain3, ytrain3)\n",
    "\n",
    "print(gs.best_score_)\n",
    "print(gs.best_params_)"
   ]
  },
  {
   "cell_type": "code",
   "execution_count": 217,
   "metadata": {},
   "outputs": [
    {
     "name": "stdout",
     "output_type": "stream",
     "text": [
      "-63.455123669553075\n",
      "{'max_iter': 9800}\n"
     ]
    }
   ],
   "source": [
    "mlp = MLPRegressor(random_state=2, activation='logistic', solver='lbfgs', hidden_layer_sizes=(35,))\n",
    "\n",
    "param_grid = { \"max_iter\" : [9400,9500,9600,9700,9800]}\n",
    "\n",
    "gs = GridSearchCV(estimator=mlp, param_grid=param_grid, scoring='neg_root_mean_squared_error', cv=5, n_jobs=-1)\n",
    "gs = gs.fit(Xtrain3, ytrain3)\n",
    "\n",
    "print(gs.best_score_)\n",
    "print(gs.best_params_)"
   ]
  },
  {
   "cell_type": "code",
   "execution_count": 218,
   "metadata": {},
   "outputs": [
    {
     "name": "stdout",
     "output_type": "stream",
     "text": [
      "-63.455123669553075\n",
      "{'max_iter': 9800}\n"
     ]
    }
   ],
   "source": [
    "mlp = MLPRegressor(random_state=2, activation='logistic', solver='lbfgs', hidden_layer_sizes=(35,))\n",
    "\n",
    "param_grid = { \"max_iter\" : [9750,9800,9850,9900,9950]}\n",
    "\n",
    "gs = GridSearchCV(estimator=mlp, param_grid=param_grid, scoring='neg_root_mean_squared_error', cv=5, n_jobs=-1)\n",
    "gs = gs.fit(Xtrain3, ytrain3)\n",
    "\n",
    "print(gs.best_score_)\n",
    "print(gs.best_params_)"
   ]
  },
  {
   "cell_type": "code",
   "execution_count": 219,
   "metadata": {},
   "outputs": [
    {
     "name": "stdout",
     "output_type": "stream",
     "text": [
      "train_score:  [-62.76873454 -60.83159434 -62.43971673 -60.13820316 -60.53063594]\n",
      "test_score:  [-60.02755518 -62.5381013  -64.85925684 -70.43083618 -66.72529262]\n",
      "cross val training root mean squared error (RMSE) is: 61.34177694239602\n",
      "cross val testing root mean squared error (RMSE) is: 64.91620842274492\n"
     ]
    }
   ],
   "source": [
    "mlp = MLPRegressor(random_state=2, activation='logistic', solver='lbfgs', hidden_layer_sizes=(35,), max_iter=9800)\n",
    "mlp.fit(Xtrain3,ytrain3)\n",
    "\n",
    "# Evaluate the Model using K-folds Cross validation\n",
    "results  = (cross_validate(mlp, Xdata3, ydata.ravel(), scoring='neg_root_mean_squared_error', cv=5, return_train_score = True))\n",
    "print('train_score: ', results['train_score'])\n",
    "print('test_score: ', results['test_score'])\n",
    "print('cross val training root mean squared error (RMSE) is:', sum(-results['train_score'])/len(results['train_score']))\n",
    "print('cross val testing root mean squared error (RMSE) is:', sum(-results['test_score'])/len(results['test_score']))"
   ]
  },
  {
   "cell_type": "markdown",
   "metadata": {},
   "source": [
    "#### XGBoost Regressor<a id=\"part2.3.3\"></a>"
   ]
  },
  {
   "cell_type": "code",
   "execution_count": 21,
   "metadata": {},
   "outputs": [
    {
     "name": "stdout",
     "output_type": "stream",
     "text": [
      "train_score:  [-22.17208454 -22.36154564 -21.68152775 -22.28684273 -21.68458936]\n",
      "test_score:  [-56.54598743 -58.84744821 -57.19074279 -59.90249935 -59.39246425]\n",
      "cross val training root mean squared error (RMSE) is: 22.03731800508005\n",
      "cross val testing root mean squared error (RMSE) is: 58.37582840807322\n"
     ]
    }
   ],
   "source": [
    "results  = (cross_validate(xgbr, Xdata, ydata.ravel(), scoring='neg_root_mean_squared_error', cv=5, return_train_score = True))\n",
    "print('train_score: ', results['train_score'])\n",
    "print('test_score: ', results['test_score'])\n",
    "print('cross val training root mean squared error (RMSE) is:', sum(-results['train_score'])/len(results['train_score']))\n",
    "print('cross val testing root mean squared error (RMSE) is:', sum(-results['test_score'])/len(results['test_score']))"
   ]
  },
  {
   "cell_type": "code",
   "execution_count": 36,
   "metadata": {},
   "outputs": [
    {
     "name": "stdout",
     "output_type": "stream",
     "text": [
      "-49.75433727700533\n",
      "{'subsample': 0.6, 'n_estimators': 800, 'min_child_weight': 5, 'max_depth': 10, 'learning_rate': 0.01, 'gamma': 10, 'colsample_bytree': 0.6}\n"
     ]
    }
   ],
   "source": [
    "xgbr = XGBRegressor(random_state=2)\n",
    "\n",
    "param_grid = { \"n_estimators\" : [200,400,600,800,1000],\n",
    "            \"max_depth\": [1,5,10,15],\n",
    "            \"min_child_weight\": [1,5,10],\n",
    "            \"gamma\": [0.01,0.1,1,10],\n",
    "            \"subsample\": [0.4,0.6,0.8],\n",
    "            \"colsample_bytree\": [0.4,0.6,0.8,1],\n",
    "            \"learning_rate\": [0.01,0.1]}\n",
    "\n",
    "gs = GridSearchCV(estimator=xgbr, param_grid=param_grid, scoring='neg_root_mean_squared_error', cv=5, n_jobs=-1)\n",
    "gs.fit(Xtrain,ytrain)\n",
    "\n",
    "print(gs.best_score_)\n",
    "print(gs.best_params_)"
   ]
  },
  {
   "cell_type": "code",
   "execution_count": 130,
   "metadata": {},
   "outputs": [
    {
     "name": "stdout",
     "output_type": "stream",
     "text": [
      "-49.70853038267627\n",
      "{'gamma': 100, 'learning_rate': 0.01}\n"
     ]
    }
   ],
   "source": [
    "xgbr = XGBRegressor(max_depth=10, min_child_weight=5, subsample=0.6, colsample_bytree=0.6, n_estimators=800, random_state=2)\n",
    "\n",
    "param_grid = { \"gamma\": [10,50,100],\n",
    "            \"learning_rate\": [0.001,0.01]}\n",
    "\n",
    "gs = GridSearchCV(estimator=xgbr, param_grid=param_grid, scoring='neg_root_mean_squared_error', cv=5, n_jobs=-1)\n",
    "gs.fit(Xtrain,ytrain)\n",
    "\n",
    "print(gs.best_score_)\n",
    "print(gs.best_params_)"
   ]
  },
  {
   "cell_type": "code",
   "execution_count": 131,
   "metadata": {},
   "outputs": [
    {
     "name": "stdout",
     "output_type": "stream",
     "text": [
      "-49.6673485878615\n",
      "{'gamma': 90}\n"
     ]
    }
   ],
   "source": [
    "xgbr = XGBRegressor(learning_rate=0.01, max_depth=10, min_child_weight=5, subsample=0.6, colsample_bytree=0.6, \n",
    "                    n_estimators=800, random_state=2)\n",
    "\n",
    "param_grid = { \"gamma\": [90,100,200]}\n",
    "\n",
    "gs = GridSearchCV(estimator=xgbr, param_grid=param_grid, scoring='neg_root_mean_squared_error', cv=5, n_jobs=-1)\n",
    "gs.fit(Xtrain,ytrain)\n",
    "\n",
    "print(gs.best_score_)\n",
    "print(gs.best_params_)"
   ]
  },
  {
   "cell_type": "code",
   "execution_count": 132,
   "metadata": {},
   "outputs": [
    {
     "name": "stdout",
     "output_type": "stream",
     "text": [
      "-49.6673485878615\n",
      "{'gamma': 90}\n"
     ]
    }
   ],
   "source": [
    "xgbr = XGBRegressor(learning_rate=0.01, max_depth=10, min_child_weight=5, subsample=0.6, colsample_bytree=0.6, \n",
    "                    n_estimators=800, random_state=2)\n",
    "\n",
    "param_grid = { \"gamma\": [60,70,80,90,100]}\n",
    "\n",
    "gs = GridSearchCV(estimator=xgbr, param_grid=param_grid, scoring='neg_root_mean_squared_error', cv=5, n_jobs=-1)\n",
    "gs.fit(Xtrain,ytrain)\n",
    "\n",
    "print(gs.best_score_)\n",
    "print(gs.best_params_)"
   ]
  },
  {
   "cell_type": "code",
   "execution_count": 134,
   "metadata": {},
   "outputs": [
    {
     "name": "stdout",
     "output_type": "stream",
     "text": [
      "-49.627077040534196\n",
      "{'n_estimators': 900}\n"
     ]
    }
   ],
   "source": [
    "xgbr = XGBRegressor(gamma=90, learning_rate=0.01, max_depth=10, min_child_weight=5, subsample=0.6, colsample_bytree=0.6, \n",
    "                    random_state=2)\n",
    "\n",
    "param_grid = { \"n_estimators\" : [700,750,800,850,900]}\n",
    "\n",
    "gs = GridSearchCV(estimator=xgbr, param_grid=param_grid, scoring='neg_root_mean_squared_error', cv=5, n_jobs=-1)\n",
    "gs.fit(Xtrain,ytrain)\n",
    "\n",
    "print(gs.best_score_)\n",
    "print(gs.best_params_)"
   ]
  },
  {
   "cell_type": "code",
   "execution_count": 136,
   "metadata": {},
   "outputs": [
    {
     "name": "stdout",
     "output_type": "stream",
     "text": [
      "-49.60963126254045\n",
      "{'n_estimators': 1000}\n"
     ]
    }
   ],
   "source": [
    "xgbr = XGBRegressor(gamma=90, learning_rate=0.01, max_depth=10, min_child_weight=5, subsample=0.6, colsample_bytree=0.6, random_state=2)\n",
    "\n",
    "param_grid = { \"n_estimators\" : [900,950,1000]}\n",
    "\n",
    "gs = GridSearchCV(estimator=xgbr, param_grid=param_grid, scoring='neg_root_mean_squared_error', cv=5, n_jobs=-1)\n",
    "gs.fit(Xtrain,ytrain)\n",
    "\n",
    "print(gs.best_score_)\n",
    "print(gs.best_params_)"
   ]
  },
  {
   "cell_type": "code",
   "execution_count": 137,
   "metadata": {},
   "outputs": [
    {
     "name": "stdout",
     "output_type": "stream",
     "text": [
      "-49.5896268666239\n",
      "{'n_estimators': 1200}\n"
     ]
    }
   ],
   "source": [
    "xgbr = XGBRegressor(gamma=90, learning_rate=0.01, max_depth=10, min_child_weight=5, subsample=0.6, colsample_bytree=0.6, random_state=2)\n",
    "\n",
    "param_grid = { \"n_estimators\" : [1000,1100,1200,1300,1400,1500]}\n",
    "\n",
    "gs = GridSearchCV(estimator=xgbr, param_grid=param_grid, scoring='neg_root_mean_squared_error', cv=5, n_jobs=-1)\n",
    "gs.fit(Xtrain,ytrain)\n",
    "\n",
    "print(gs.best_score_)\n",
    "print(gs.best_params_)"
   ]
  },
  {
   "cell_type": "code",
   "execution_count": 138,
   "metadata": {},
   "outputs": [
    {
     "name": "stdout",
     "output_type": "stream",
     "text": [
      "-49.58897883347875\n",
      "{'n_estimators': 1250}\n"
     ]
    }
   ],
   "source": [
    "xgbr = XGBRegressor(gamma=90, learning_rate=0.01, max_depth=10, min_child_weight=5, subsample=0.6, colsample_bytree=0.6, random_state=2)\n",
    "\n",
    "param_grid = { \"n_estimators\" : [1150,1175,1200,1225,1250]}\n",
    "\n",
    "gs = GridSearchCV(estimator=xgbr, param_grid=param_grid, scoring='neg_root_mean_squared_error', cv=5, n_jobs=-1)\n",
    "gs.fit(Xtrain,ytrain)\n",
    "\n",
    "print(gs.best_score_)\n",
    "print(gs.best_params_)"
   ]
  },
  {
   "cell_type": "code",
   "execution_count": 140,
   "metadata": {},
   "outputs": [
    {
     "name": "stdout",
     "output_type": "stream",
     "text": [
      "-49.588664244888285\n",
      "{'n_estimators': 1240}\n"
     ]
    }
   ],
   "source": [
    "xgbr = XGBRegressor(gamma=90, learning_rate=0.01, max_depth=10, min_child_weight=5, subsample=0.6, colsample_bytree=0.6, \n",
    "                    random_state=2)\n",
    "\n",
    "param_grid = { \"n_estimators\" : [1230,1240,1250,1260,1270,1280,1290]}\n",
    "\n",
    "gs = GridSearchCV(estimator=xgbr, param_grid=param_grid, scoring='neg_root_mean_squared_error', cv=5, n_jobs=-1)\n",
    "gs.fit(Xtrain,ytrain)\n",
    "\n",
    "print(gs.best_score_)\n",
    "print(gs.best_params_)"
   ]
  },
  {
   "cell_type": "code",
   "execution_count": 141,
   "metadata": {},
   "outputs": [
    {
     "data": {
      "image/png": "[encoded data removed]",
      "text/plain": [
       "<Figure size 432x288 with 1 Axes>"
      ]
     },
     "metadata": {
      "needs_background": "light"
     },
     "output_type": "display_data"
    }
   ],
   "source": [
    "depth_range = range(1,15)\n",
    "\n",
    "train_acc = []\n",
    "test_acc = []\n",
    "cross_val_train =[]\n",
    "cross_val_test =[]\n",
    "\n",
    "for d in depth_range:\n",
    "    xgb = XGBRegressor(max_depth=d, gamma=90, learning_rate=0.01, n_estimators=1240, min_child_weight=5, subsample=0.6, \n",
    "                       colsample_bytree=0.6, random_state=2)\n",
    "    xgb.fit(Xtrain, ytrain.ravel()) \n",
    "    train_acc.append(sqrt(mean_squared_error(xgb.predict(Xtrain), ytrain.ravel())))\n",
    "    test_acc.append(sqrt(mean_squared_error(xgb.predict(Xtest), ytest.ravel())))\n",
    "    \n",
    "    results  = cross_validate(xgb, Xdata, ydata.ravel(), scoring='neg_root_mean_squared_error', cv=5, \n",
    "                              return_train_score = True)\n",
    "    cross_val_train.append(-sum(results['train_score'])/len(results['train_score']))\n",
    "    cross_val_test.append(-sum(results['test_score'])/len(results['test_score']))\n",
    "\n",
    "plt.plot(depth_range, cross_val_train, 'bo-', label ='cross val training rmse')\n",
    "plt.plot(depth_range, cross_val_test, 'ro-', label = 'cross val testing rmse')\n",
    "\n",
    "plt.xlabel('max_depth', fontsize='x-large')\n",
    "plt.ylabel('Root Mean Squared Error', fontsize='x-large')\n",
    "\n",
    "plt.legend(loc='best', shadow=True, fontsize='x-small')\n",
    "plt.show()"
   ]
  },
  {
   "cell_type": "code",
   "execution_count": 99,
   "metadata": {},
   "outputs": [
    {
     "name": "stdout",
     "output_type": "stream",
     "text": [
      "cross val training root mean squared error (RMSE) is: 57.65572354850358\n",
      "cross val testing root mean squared error (RMSE) is: 60.897057589809776\n"
     ]
    }
   ],
   "source": [
    "xgb = XGBRegressor(max_depth=2, n_estimators=1240, min_child_weight=5, gamma=90, subsample=0.6, colsample_bytree=0.6, \n",
    "                   learning_rate=0.01, random_state=2)\n",
    "\n",
    "xgb.fit(Xtrain, ytrain.ravel()) \n",
    "results  = cross_validate(xgb, Xdata, ydata.ravel(), scoring='neg_root_mean_squared_error', cv=5, return_train_score = True)\n",
    "print('cross val training root mean squared error (RMSE) is:', sum(-results['train_score'])/len(results['train_score']))\n",
    "print('cross val testing root mean squared error (RMSE) is:', sum(-results['test_score'])/len(results['test_score']))"
   ]
  },
  {
   "cell_type": "code",
   "execution_count": 105,
   "metadata": {},
   "outputs": [
    {
     "data": {
      "image/png": "[encoded data removed]",
      "text/plain": [
       "<Figure size 432x288 with 1 Axes>"
      ]
     },
     "metadata": {
      "needs_background": "light"
     },
     "output_type": "display_data"
    }
   ],
   "source": [
    "weight_range = range(1,15)\n",
    "\n",
    "train_acc = []\n",
    "test_acc = []\n",
    "cross_val_train =[]\n",
    "cross_val_test =[]\n",
    "\n",
    "for d in weight_range:\n",
    "    xgb = XGBRegressor(min_child_weight=d, n_estimators=1240, max_depth=2, gamma=90, subsample=0.6, colsample_bytree=0.6, \n",
    "                       learning_rate=0.01, random_state=2)\n",
    "    xgb.fit(Xtrain, ytrain.ravel()) \n",
    "    train_acc.append(sqrt(mean_squared_error(xgb.predict(Xtrain), ytrain.ravel())))\n",
    "    test_acc.append(sqrt(mean_squared_error(xgb.predict(Xtest), ytest.ravel())))\n",
    "    \n",
    "    results  = cross_validate(xgb, Xdata, ydata.ravel(), scoring='neg_root_mean_squared_error', cv=5, \n",
    "                              return_train_score = True)\n",
    "    cross_val_train.append(-sum(results['train_score'])/len(results['train_score']))\n",
    "    cross_val_test.append(-sum(results['test_score'])/len(results['test_score']))\n",
    "\n",
    "plt.plot(weight_range, cross_val_train, 'bo-', label ='cross val training rmse')\n",
    "plt.plot(weight_range, cross_val_test, 'ro-', label = 'cross val testing rmse')\n",
    "\n",
    "plt.xlabel('min_child_weight', fontsize='x-large')\n",
    "plt.ylabel('Root Mean Squared Error', fontsize='x-large')\n",
    "\n",
    "plt.legend(loc='best', shadow=True, fontsize='x-small')\n",
    "plt.show()"
   ]
  },
  {
   "cell_type": "code",
   "execution_count": 143,
   "metadata": {},
   "outputs": [
    {
     "data": {
      "image/png": "[encoded data removed]",
      "text/plain": [
       "<Figure size 432x288 with 1 Axes>"
      ]
     },
     "metadata": {
      "needs_background": "light"
     },
     "output_type": "display_data"
    }
   ],
   "source": [
    "gamma_range = range(50,100)\n",
    "\n",
    "train_acc = []\n",
    "test_acc = []\n",
    "cross_val_train =[]\n",
    "cross_val_test =[]\n",
    "\n",
    "for d in gamma_range:\n",
    "    xgb = XGBRegressor(gamma=d, min_child_weight=8, n_estimators=1240, max_depth=2, subsample=0.6, colsample_bytree=0.6, \n",
    "                       learning_rate=0.01, random_state=2)\n",
    "    xgb.fit(Xtrain, ytrain.ravel())  \n",
    "    train_acc.append(sqrt(mean_squared_error(xgb.predict(Xtrain), ytrain.ravel())))\n",
    "    test_acc.append(sqrt(mean_squared_error(xgb.predict(Xtest), ytest.ravel())))\n",
    "    \n",
    "    results  = cross_validate(xgb, Xdata, ydata.ravel(), scoring='neg_root_mean_squared_error', cv=5, return_train_score = True)\n",
    "    cross_val_train.append(-sum(results['train_score'])/len(results['train_score']))\n",
    "    cross_val_test.append(-sum(results['test_score'])/len(results['test_score']))\n",
    "\n",
    "plt.plot(gamma_range, cross_val_train, 'bo-', label ='cross val training rmse')\n",
    "plt.plot(gamma_range, cross_val_test, 'ro-', label = 'cross val testing rmse')\n",
    "\n",
    "plt.xlabel('gamma', fontsize='x-large')\n",
    "plt.ylabel('Root Mean Squared Error', fontsize='x-large')\n",
    "\n",
    "plt.legend(loc='best', shadow=True, fontsize='x-large')\n",
    "plt.show()"
   ]
  },
  {
   "cell_type": "code",
   "execution_count": 112,
   "metadata": {},
   "outputs": [
    {
     "data": {
      "image/png": "[encoded data removed]",
      "text/plain": [
       "<Figure size 432x288 with 1 Axes>"
      ]
     },
     "metadata": {
      "needs_background": "light"
     },
     "output_type": "display_data"
    }
   ],
   "source": [
    "subsample_range = np.arange(0.5,0.71,0.05)\n",
    "\n",
    "train_acc = []\n",
    "test_acc = []\n",
    "cross_val_train =[]\n",
    "cross_val_test =[]\n",
    "\n",
    "for d in subsample_range:\n",
    "    xgb = XGBRegressor(subsample=d, gamma=90, min_child_weight=8, n_estimators=1240, max_depth=2, colsample_bytree=0.6, \n",
    "                       learning_rate=0.01, random_state=2)\n",
    "    xgb.fit(Xtrain, ytrain.ravel()) \n",
    "    train_acc.append(sqrt(mean_squared_error(xgb.predict(Xtrain), ytrain.ravel())))\n",
    "    test_acc.append(sqrt(mean_squared_error(xgb.predict(Xtest), ytest.ravel())))\n",
    "    \n",
    "    results  = cross_validate(xgb, Xdata, ydata.ravel(), scoring='neg_root_mean_squared_error', cv=5, \n",
    "                              return_train_score = True)\n",
    "    cross_val_train.append(-sum(results['train_score'])/len(results['train_score']))\n",
    "    cross_val_test.append(-sum(results['test_score'])/len(results['test_score']))\n",
    "\n",
    "plt.plot(subsample_range, cross_val_train, 'bo-', label ='cross val training rmse')\n",
    "plt.plot(subsample_range, cross_val_test, 'ro-', label = 'cross val testing rmse')\n",
    "\n",
    "plt.xlabel('subsample', fontsize='x-large')\n",
    "plt.ylabel('Root Mean Squared Error', fontsize='x-large')\n",
    "\n",
    "plt.legend(loc='best', shadow=True, fontsize='x-large')\n",
    "plt.show()"
   ]
  },
  {
   "cell_type": "code",
   "execution_count": 113,
   "metadata": {},
   "outputs": [
    {
     "data": {
      "image/png": "[encoded data removed]",
      "text/plain": [
       "<Figure size 432x288 with 1 Axes>"
      ]
     },
     "metadata": {
      "needs_background": "light"
     },
     "output_type": "display_data"
    }
   ],
   "source": [
    "colsample_range = np.arange(0.5,0.71,0.05)\n",
    "\n",
    "train_acc = []\n",
    "test_acc = []\n",
    "cross_val_train =[]\n",
    "cross_val_test =[]\n",
    "\n",
    "for d in colsample_range:\n",
    "    xgb = XGBRegressor(colsample_bytree=d, subsample=0.6, gamma=90, min_child_weight=8, n_estimators=1240, max_depth=2, \n",
    "                       learning_rate=0.01, random_state=2)\n",
    "    xgb.fit(Xtrain, ytrain.ravel()) \n",
    "    train_acc.append(sqrt(mean_squared_error(xgb.predict(Xtrain), ytrain.ravel())))\n",
    "    test_acc.append(sqrt(mean_squared_error(xgb.predict(Xtest), ytest.ravel())))\n",
    "    \n",
    "    results  = cross_validate(xgb, Xdata, ydata.ravel(), scoring='neg_root_mean_squared_error', cv=5, \n",
    "                              return_train_score = True)\n",
    "    cross_val_train.append(-sum(results['train_score'])/len(results['train_score']))\n",
    "    cross_val_test.append(-sum(results['test_score'])/len(results['test_score']))\n",
    "\n",
    "plt.plot(colsample_range, cross_val_train, 'bo-', label ='cross val training rmse')\n",
    "plt.plot(colsample_range, cross_val_test, 'ro-', label = 'cross val testing rmse')\n",
    "\n",
    "plt.xlabel('colsample_bytree', fontsize='x-large')\n",
    "plt.ylabel('Root Mean Squared Error', fontsize='x-large')\n",
    "\n",
    "plt.legend(loc='best', shadow=True, fontsize='x-large')\n",
    "plt.show()"
   ]
  },
  {
   "cell_type": "code",
   "execution_count": 114,
   "metadata": {},
   "outputs": [
    {
     "data": {
      "image/png": "[encoded data removed]",
      "text/plain": [
       "<Figure size 432x288 with 1 Axes>"
      ]
     },
     "metadata": {
      "needs_background": "light"
     },
     "output_type": "display_data"
    }
   ],
   "source": [
    "learning_range = np.arange(0.005,0.021,0.001)\n",
    "\n",
    "train_acc = []\n",
    "test_acc = []\n",
    "cross_val_train =[]\n",
    "cross_val_test =[]\n",
    "\n",
    "for d in learning_range:\n",
    "    xgb = XGBRegressor(learning_rate=d, colsample_bytree=0.6, subsample=0.6, gamma=90, min_child_weight=8, \n",
    "                       n_estimators=1240, max_depth=2, random_state=2)\n",
    "    xgb.fit(Xtrain, ytrain.ravel()) \n",
    "    train_acc.append(sqrt(mean_squared_error(xgb.predict(Xtrain), ytrain.ravel())))\n",
    "    test_acc.append(sqrt(mean_squared_error(xgb.predict(Xtest), ytest.ravel())))\n",
    "    \n",
    "    results  = cross_validate(xgb, Xdata, ydata.ravel(), scoring='neg_root_mean_squared_error', cv=5, \n",
    "                              return_train_score = True)\n",
    "    cross_val_train.append(-sum(results['train_score'])/len(results['train_score']))\n",
    "    cross_val_test.append(-sum(results['test_score'])/len(results['test_score']))\n",
    "\n",
    "plt.plot(learning_range, cross_val_train, 'bo-', label ='cross val training rmse')\n",
    "plt.plot(learning_range, cross_val_test, 'ro-', label = 'cross val testing rmse')\n",
    "\n",
    "plt.xlabel('learning_rate', fontsize='x-large')\n",
    "plt.ylabel('Root Mean Squared Error', fontsize='x-large')\n",
    "\n",
    "plt.legend(loc='best', shadow=True, fontsize='x-large')\n",
    "plt.show()"
   ]
  },
  {
   "cell_type": "code",
   "execution_count": 71,
   "metadata": {},
   "outputs": [
    {
     "name": "stdout",
     "output_type": "stream",
     "text": [
      "cross val training root mean squared error (RMSE) is: 57.44299773881694\n",
      "cross val testing root mean squared error (RMSE) is: 60.76528580425522\n"
     ]
    }
   ],
   "source": [
    "xgb = XGBRegressor(learning_rate=0.01, colsample_bytree=0.6, subsample=0.5, gamma=90, min_child_weight=8, n_estimators=1240,\n",
    "                   max_depth=2, random_state=2)\n",
    "\n",
    "xgb.fit(Xtrain, ytrain.ravel()) \n",
    "results  = cross_validate(xgb, Xdata, ydata.ravel(), scoring='neg_root_mean_squared_error', cv=5, return_train_score = True)\n",
    "print('cross val training root mean squared error (RMSE) is:', sum(-results['train_score'])/len(results['train_score']))\n",
    "print('cross val testing root mean squared error (RMSE) is:', sum(-results['test_score'])/len(results['test_score']))"
   ]
  },
  {
   "cell_type": "code",
   "execution_count": 72,
   "metadata": {},
   "outputs": [
    {
     "data": {
      "text/html": [
       "<div>\n",
       "<style scoped>\n",
       "    .dataframe tbody tr th:only-of-type {\n",
       "        vertical-align: middle;\n",
       "    }\n",
       "\n",
       "    .dataframe tbody tr th {\n",
       "        vertical-align: top;\n",
       "    }\n",
       "\n",
       "    .dataframe thead th {\n",
       "        text-align: right;\n",
       "    }\n",
       "</style>\n",
       "<table border=\"1\" class=\"dataframe\">\n",
       "  <thead>\n",
       "    <tr style=\"text-align: right;\">\n",
       "      <th></th>\n",
       "      <th>feature</th>\n",
       "      <th>importance</th>\n",
       "    </tr>\n",
       "  </thead>\n",
       "  <tbody>\n",
       "    <tr>\n",
       "      <th>3</th>\n",
       "      <td>room_type</td>\n",
       "      <td>0.547774</td>\n",
       "    </tr>\n",
       "    <tr>\n",
       "      <th>8</th>\n",
       "      <td>calculated_host_listings_count</td>\n",
       "      <td>0.077164</td>\n",
       "    </tr>\n",
       "    <tr>\n",
       "      <th>9</th>\n",
       "      <td>availability_365</td>\n",
       "      <td>0.062371</td>\n",
       "    </tr>\n",
       "    <tr>\n",
       "      <th>4</th>\n",
       "      <td>minimum_nights</td>\n",
       "      <td>0.055172</td>\n",
       "    </tr>\n",
       "    <tr>\n",
       "      <th>2</th>\n",
       "      <td>longitude</td>\n",
       "      <td>0.054815</td>\n",
       "    </tr>\n",
       "    <tr>\n",
       "      <th>1</th>\n",
       "      <td>latitude</td>\n",
       "      <td>0.049463</td>\n",
       "    </tr>\n",
       "    <tr>\n",
       "      <th>0</th>\n",
       "      <td>neighbourhood</td>\n",
       "      <td>0.044803</td>\n",
       "    </tr>\n",
       "    <tr>\n",
       "      <th>7</th>\n",
       "      <td>reviews_per_month</td>\n",
       "      <td>0.039982</td>\n",
       "    </tr>\n",
       "    <tr>\n",
       "      <th>5</th>\n",
       "      <td>number_of_reviews</td>\n",
       "      <td>0.035279</td>\n",
       "    </tr>\n",
       "    <tr>\n",
       "      <th>6</th>\n",
       "      <td>last_review</td>\n",
       "      <td>0.033176</td>\n",
       "    </tr>\n",
       "  </tbody>\n",
       "</table>\n",
       "</div>"
      ],
      "text/plain": [
       "                          feature  importance\n",
       "3                       room_type    0.547774\n",
       "8  calculated_host_listings_count    0.077164\n",
       "9                availability_365    0.062371\n",
       "4                  minimum_nights    0.055172\n",
       "2                       longitude    0.054815\n",
       "1                        latitude    0.049463\n",
       "0                   neighbourhood    0.044803\n",
       "7               reviews_per_month    0.039982\n",
       "5               number_of_reviews    0.035279\n",
       "6                     last_review    0.033176"
      ]
     },
     "execution_count": 72,
     "metadata": {},
     "output_type": "execute_result"
    }
   ],
   "source": [
    "pd.concat((pd.DataFrame(Xtrain.columns, columns = ['feature']), \n",
    "           pd.DataFrame(xgb.feature_importances_, columns = ['importance'])), \n",
    "          axis = 1).sort_values(by='importance', ascending = False)"
   ]
  },
  {
   "cell_type": "code",
   "execution_count": 74,
   "metadata": {},
   "outputs": [],
   "source": [
    "Xdata4 = df_list.drop(['price','last_review','number_of_reviews','reviews_per_month'], axis = 1)"
   ]
  },
  {
   "cell_type": "code",
   "execution_count": 75,
   "metadata": {},
   "outputs": [],
   "source": [
    "Xtrain4, Xtest4, ytrain4, ytest4 = train_test_split(Xdata4, ydata, test_size=0.3, random_state=2)"
   ]
  },
  {
   "cell_type": "code",
   "execution_count": 78,
   "metadata": {},
   "outputs": [
    {
     "name": "stdout",
     "output_type": "stream",
     "text": [
      "cross val training root mean squared error (RMSE) is: 57.73669532798954\n",
      "cross val testing root mean squared error (RMSE) is: 61.199294368255984\n"
     ]
    }
   ],
   "source": [
    "xgb = XGBRegressor(learning_rate=0.01, colsample_bytree=0.6, subsample=0.5, gamma=90, min_child_weight=8, \n",
    "                   n_estimators=1240, max_depth=2, random_state=2)\n",
    "\n",
    "xgb.fit(Xtrain4, ytrain4.ravel()) \n",
    "results  = cross_validate(xgb, Xdata4, ydata.ravel(), scoring='neg_root_mean_squared_error', cv=5, return_train_score = True)\n",
    "print('cross val training root mean squared error (RMSE) is:', sum(-results['train_score'])/len(results['train_score']))\n",
    "print('cross val testing root mean squared error (RMSE) is:', sum(-results['test_score'])/len(results['test_score']))"
   ]
  },
  {
   "cell_type": "code",
   "execution_count": 123,
   "metadata": {},
   "outputs": [
    {
     "name": "stdout",
     "output_type": "stream",
     "text": [
      "-50.16779806063056\n",
      "{'subsample': 0.8, 'n_estimators': 600, 'min_child_weight': 1, 'max_depth': 10, 'learning_rate': 0.01, 'gamma': 0.1, 'colsample_bytree': 0.6}\n"
     ]
    }
   ],
   "source": [
    "xgbr = XGBRegressor(random_state=2)\n",
    "\n",
    "param_grid = { \"n_estimators\" : [200,600,1000],\n",
    "            \"max_depth\": [1,5,10,15],\n",
    "            \"min_child_weight\": [1,5,10],\n",
    "            \"gamma\": [0.01,0.1,1,10],\n",
    "            \"subsample\": [0.4,0.6,0.8],\n",
    "            \"colsample_bytree\": [0.4,0.6,0.8,1],\n",
    "            \"learning_rate\": [0.01,0.1]}\n",
    "\n",
    "gs = RandomizedSearchCV(estimator=xgbr, param_distributions=param_grid, scoring='neg_root_mean_squared_error', cv=5, \n",
    "                        n_jobs=-1)\n",
    "gs.fit(Xtrain4,ytrain4)\n",
    "\n",
    "print(gs.best_score_)\n",
    "print(gs.best_params_)"
   ]
  },
  {
   "cell_type": "code",
   "execution_count": 124,
   "metadata": {},
   "outputs": [
    {
     "name": "stdout",
     "output_type": "stream",
     "text": [
      "-49.97391789706977\n",
      "{'subsample': 0.9, 'n_estimators': 800, 'min_child_weight': 2, 'max_depth': 10, 'learning_rate': 0.01, 'gamma': 0.05, 'colsample_bytree': 0.6}\n"
     ]
    }
   ],
   "source": [
    "xgbr = XGBRegressor(random_state=2)\n",
    "\n",
    "param_grid = { \"n_estimators\" : [400,500,600,700,800],\n",
    "            \"max_depth\": [7,10,13],\n",
    "            \"min_child_weight\": [1,2,3,4],\n",
    "            \"gamma\": [0.05,0.1,0.15],\n",
    "            \"subsample\": [0.8,0.9,1],\n",
    "            \"colsample_bytree\": [0.5,0.6,0.7],\n",
    "            \"learning_rate\": [0.01,0.05]}\n",
    "\n",
    "gs = RandomizedSearchCV(estimator=xgbr, param_distributions=param_grid, scoring='neg_root_mean_squared_error', cv=5, \n",
    "                        n_jobs=-1)\n",
    "gs.fit(Xtrain4,ytrain4)\n",
    "\n",
    "print(gs.best_score_)\n",
    "print(gs.best_params_)"
   ]
  },
  {
   "cell_type": "code",
   "execution_count": 125,
   "metadata": {},
   "outputs": [
    {
     "name": "stdout",
     "output_type": "stream",
     "text": [
      "-50.01677615150002\n",
      "{'n_estimators': 1000, 'max_depth': 12, 'learning_rate': 0.01, 'gamma': 0.07}\n"
     ]
    }
   ],
   "source": [
    "xgbr = XGBRegressor(random_state=2, subsample=0.9, min_child_weight=2, colsample_bytree=0.6)\n",
    "\n",
    "param_grid = { \"n_estimators\" : [800,900,1000],\n",
    "            \"max_depth\": [8,9,10,11,12],\n",
    "            \"gamma\": [0.03,0.05,0.07],\n",
    "            \"learning_rate\": [0.01,0.02,0.03]}\n",
    "\n",
    "gs = RandomizedSearchCV(estimator=xgbr, param_distributions=param_grid, scoring='neg_root_mean_squared_error', cv=5, \n",
    "                        n_jobs=-1)\n",
    "gs.fit(Xtrain4,ytrain4)\n",
    "\n",
    "print(gs.best_score_)\n",
    "print(gs.best_params_)"
   ]
  },
  {
   "cell_type": "code",
   "execution_count": 126,
   "metadata": {},
   "outputs": [
    {
     "name": "stdout",
     "output_type": "stream",
     "text": [
      "-50.01677615150002\n",
      "{'n_estimators': 1000, 'gamma': 0.07}\n"
     ]
    }
   ],
   "source": [
    "xgbr = XGBRegressor(random_state=2, subsample=0.9, min_child_weight=2, colsample_bytree=0.6, max_depth=12,\n",
    "                   learning_rate=0.01)\n",
    "\n",
    "param_grid = { \"n_estimators\" : [1000,1250,1500],\n",
    "            \"gamma\": [0.06,0.07,0.08,0.09]}\n",
    "\n",
    "gs = RandomizedSearchCV(estimator=xgbr, param_distributions=param_grid, scoring='neg_root_mean_squared_error', cv=5, \n",
    "                        n_jobs=-1)\n",
    "gs.fit(Xtrain4,ytrain4)\n",
    "\n",
    "print(gs.best_score_)\n",
    "print(gs.best_params_)"
   ]
  },
  {
   "cell_type": "code",
   "execution_count": 127,
   "metadata": {},
   "outputs": [
    {
     "name": "stdout",
     "output_type": "stream",
     "text": [
      "-50.01677615150002\n",
      "{'n_estimators': 1000}\n"
     ]
    }
   ],
   "source": [
    "xgbr = XGBRegressor(random_state=2, subsample=0.9, min_child_weight=2, colsample_bytree=0.6, max_depth=12,\n",
    "                   learning_rate=0.01, gamma=0.07)\n",
    "\n",
    "param_grid = { \"n_estimators\" : [950,1000,1050,1100,1150,1200]}\n",
    "\n",
    "gs = RandomizedSearchCV(estimator=xgbr, param_distributions=param_grid, scoring='neg_root_mean_squared_error', cv=5, \n",
    "                        n_jobs=-1)\n",
    "gs.fit(Xtrain4,ytrain4)\n",
    "\n",
    "print(gs.best_score_)\n",
    "print(gs.best_params_)"
   ]
  },
  {
   "cell_type": "code",
   "execution_count": 128,
   "metadata": {},
   "outputs": [
    {
     "name": "stdout",
     "output_type": "stream",
     "text": [
      "-50.01593003296209\n",
      "{'n_estimators': 990}\n"
     ]
    }
   ],
   "source": [
    "xgbr = XGBRegressor(random_state=2, subsample=0.9, min_child_weight=2, colsample_bytree=0.6, max_depth=12,\n",
    "                   learning_rate=0.01, gamma=0.07)\n",
    "\n",
    "param_grid = { \"n_estimators\" : [970,980,990,1000,1010,1020,1030,1040]}\n",
    "\n",
    "gs = RandomizedSearchCV(estimator=xgbr, param_distributions=param_grid, scoring='neg_root_mean_squared_error', cv=5,\n",
    "                        n_jobs=-1)\n",
    "gs.fit(Xtrain4,ytrain4)\n",
    "\n",
    "print(gs.best_score_)\n",
    "print(gs.best_params_)"
   ]
  },
  {
   "cell_type": "code",
   "execution_count": 129,
   "metadata": {},
   "outputs": [
    {
     "name": "stdout",
     "output_type": "stream",
     "text": [
      "-50.01533616646075\n",
      "{'n_estimators': 993}\n"
     ]
    }
   ],
   "source": [
    "xgbr = XGBRegressor(random_state=2, subsample=0.9, min_child_weight=2, colsample_bytree=0.6, max_depth=12,\n",
    "                   learning_rate=0.01, gamma=0.07)\n",
    "\n",
    "param_grid = { \"n_estimators\" : [985,986,987,988,989,990,991,992,993,994,995]}\n",
    "\n",
    "gs = RandomizedSearchCV(estimator=xgbr, param_distributions=param_grid, scoring='neg_root_mean_squared_error', cv=5, \n",
    "                        n_jobs=-1)\n",
    "gs.fit(Xtrain4,ytrain4)\n",
    "\n",
    "print(gs.best_score_)\n",
    "print(gs.best_params_)"
   ]
  },
  {
   "cell_type": "code",
   "execution_count": 130,
   "metadata": {},
   "outputs": [
    {
     "name": "stdout",
     "output_type": "stream",
     "text": [
      "cross val training root mean squared error (RMSE) is: 11.727287331275448\n",
      "cross val testing root mean squared error (RMSE) is: 55.69479681457451\n"
     ]
    }
   ],
   "source": [
    "xgb = XGBRegressor(random_state=2, subsample=0.9, min_child_weight=2, colsample_bytree=0.6, max_depth=12,\n",
    "                   learning_rate=0.01, gamma=0.07, n_estimators=993)\n",
    "\n",
    "xgb.fit(Xtrain4, ytrain4.ravel()) \n",
    "results  = cross_validate(xgb, Xdata2, ydata.ravel(), scoring='neg_root_mean_squared_error', cv=5, return_train_score = True)\n",
    "print('cross val training root mean squared error (RMSE) is:', sum(-results['train_score'])/len(results['train_score']))\n",
    "print('cross val testing root mean squared error (RMSE) is:', sum(-results['test_score'])/len(results['test_score']))"
   ]
  },
  {
   "cell_type": "code",
   "execution_count": 132,
   "metadata": {},
   "outputs": [
    {
     "data": {
      "image/png": "[encoded data removed]",
      "text/plain": [
       "<Figure size 432x288 with 1 Axes>"
      ]
     },
     "metadata": {
      "needs_background": "light"
     },
     "output_type": "display_data"
    }
   ],
   "source": [
    "depth_range = range(1,15)\n",
    "\n",
    "train_acc = []\n",
    "test_acc = []\n",
    "cross_val_train =[]\n",
    "cross_val_test =[]\n",
    "\n",
    "for d in depth_range:\n",
    "    xgb = XGBRegressor(random_state=2, subsample=0.9, min_child_weight=2, colsample_bytree=0.6, max_depth=d,\n",
    "                   learning_rate=0.01, gamma=0.07, n_estimators=993)\n",
    "    xgb.fit(Xtrain4, ytrain4.ravel()) \n",
    "    train_acc.append(sqrt(mean_squared_error(xgb.predict(Xtrain4), ytrain4.ravel())))\n",
    "    test_acc.append(sqrt(mean_squared_error(xgb.predict(Xtest4), ytest4.ravel())))\n",
    "    \n",
    "    results  = cross_validate(xgb, Xdata4, ydata.ravel(), scoring='neg_root_mean_squared_error', cv=5, \n",
    "                              return_train_score = True)\n",
    "    cross_val_train.append(-sum(results['train_score'])/len(results['train_score']))\n",
    "    cross_val_test.append(-sum(results['test_score'])/len(results['test_score']))\n",
    "\n",
    "plt.plot(depth_range, cross_val_train, 'bo-', label ='cross val training rmse')\n",
    "plt.plot(depth_range, cross_val_test, 'ro-', label = 'cross val testing rmse')\n",
    "\n",
    "plt.xlabel('max_depth', fontsize='x-large')\n",
    "plt.ylabel('Root Mean Squared Error', fontsize='x-large')\n",
    "\n",
    "plt.legend(loc='best', shadow=True, fontsize='x-small')\n",
    "plt.show()"
   ]
  },
  {
   "cell_type": "code",
   "execution_count": 142,
   "metadata": {},
   "outputs": [
    {
     "data": {
      "image/png": "[encoded data removed]",
      "text/plain": [
       "<Figure size 432x288 with 1 Axes>"
      ]
     },
     "metadata": {
      "needs_background": "light"
     },
     "output_type": "display_data"
    }
   ],
   "source": [
    "weight_range = range(1,15)\n",
    "\n",
    "train_acc = []\n",
    "test_acc = []\n",
    "cross_val_train =[]\n",
    "cross_val_test =[]\n",
    "\n",
    "for d in weight_range:\n",
    "    xgb = XGBRegressor(random_state=2, subsample=0.9, min_child_weight=d, colsample_bytree=0.6, max_depth=3,\n",
    "                   learning_rate=0.01, gamma=0.07, n_estimators=993)\n",
    "    xgb.fit(Xtrain4, ytrain4.ravel()) \n",
    "    train_acc.append(sqrt(mean_squared_error(xgb.predict(Xtrain4), ytrain4.ravel())))\n",
    "    test_acc.append(sqrt(mean_squared_error(xgb.predict(Xtest4), ytest4.ravel())))\n",
    "    \n",
    "    results  = cross_validate(xgb, Xdata4, ydata.ravel(), scoring='neg_root_mean_squared_error', cv=5, \n",
    "                              return_train_score = True)\n",
    "    cross_val_train.append(-sum(results['train_score'])/len(results['train_score']))\n",
    "    cross_val_test.append(-sum(results['test_score'])/len(results['test_score']))\n",
    "\n",
    "plt.plot(depth_range, cross_val_train, 'bo-', label ='cross val training rmse')\n",
    "plt.plot(depth_range, cross_val_test, 'ro-', label = 'cross val testing rmse')\n",
    "\n",
    "plt.xlabel('min_child_weight', fontsize='x-large')\n",
    "plt.ylabel('Root Mean Squared Error', fontsize='x-large')\n",
    "\n",
    "plt.legend(loc='best', shadow=True, fontsize='x-small')\n",
    "plt.show()"
   ]
  },
  {
   "cell_type": "code",
   "execution_count": 145,
   "metadata": {},
   "outputs": [
    {
     "data": {
      "image/png": "[encoded data removed]",
      "text/plain": [
       "<Figure size 432x288 with 1 Axes>"
      ]
     },
     "metadata": {
      "needs_background": "light"
     },
     "output_type": "display_data"
    }
   ],
   "source": [
    "subsample_range = np.arange(0.5,1.01,0.05)\n",
    "\n",
    "train_acc = []\n",
    "test_acc = []\n",
    "cross_val_train =[]\n",
    "cross_val_test =[]\n",
    "\n",
    "for d in subsample_range:\n",
    "    xgb = XGBRegressor(random_state=2, subsample=d, min_child_weight=3, colsample_bytree=0.6, max_depth=3,\n",
    "                   learning_rate=0.01, gamma=0.07, n_estimators=993)\n",
    "    xgb.fit(Xtrain4, ytrain4.ravel()) \n",
    "    train_acc.append(sqrt(mean_squared_error(xgb.predict(Xtrain4), ytrain4.ravel())))\n",
    "    test_acc.append(sqrt(mean_squared_error(xgb.predict(Xtest4), ytest4.ravel())))\n",
    "    \n",
    "    results  = cross_validate(xgb, Xdata4, ydata.ravel(), scoring='neg_root_mean_squared_error', cv=5, \n",
    "                              return_train_score = True)\n",
    "    cross_val_train.append(-sum(results['train_score'])/len(results['train_score']))\n",
    "    cross_val_test.append(-sum(results['test_score'])/len(results['test_score']))\n",
    "\n",
    "plt.plot(subsample_range, cross_val_train, 'bo-', label ='cross val training rmse')\n",
    "plt.plot(subsample_range, cross_val_test, 'ro-', label = 'cross val testing rmse')\n",
    "\n",
    "plt.xlabel('subsample', fontsize='x-large')\n",
    "plt.ylabel('Root Mean Squared Error', fontsize='x-large')\n",
    "\n",
    "plt.legend(loc='best', shadow=True, fontsize='x-large')\n",
    "plt.show()"
   ]
  },
  {
   "cell_type": "code",
   "execution_count": 147,
   "metadata": {},
   "outputs": [
    {
     "data": {
      "image/png": "[encoded data removed]",
      "text/plain": [
       "<Figure size 432x288 with 1 Axes>"
      ]
     },
     "metadata": {
      "needs_background": "light"
     },
     "output_type": "display_data"
    }
   ],
   "source": [
    "subsample_range = np.arange(0.05,1.01,0.05)\n",
    "\n",
    "train_acc = []\n",
    "test_acc = []\n",
    "cross_val_train =[]\n",
    "cross_val_test =[]\n",
    "\n",
    "for d in subsample_range:\n",
    "    xgb = XGBRegressor(random_state=2, subsample=d, min_child_weight=3, colsample_bytree=0.6, max_depth=3,\n",
    "                   learning_rate=0.01, gamma=0.07, n_estimators=993)\n",
    "    xgb.fit(Xtrain4, ytrain4.ravel()) \n",
    "    train_acc.append(sqrt(mean_squared_error(xgb.predict(Xtrain4), ytrain4.ravel())))\n",
    "    test_acc.append(sqrt(mean_squared_error(xgb.predict(Xtest4), ytest4.ravel())))\n",
    "    \n",
    "    results  = cross_validate(xgb, Xdata4, ydata.ravel(), scoring='neg_root_mean_squared_error', cv=5, \n",
    "                              return_train_score = True)\n",
    "    cross_val_train.append(-sum(results['train_score'])/len(results['train_score']))\n",
    "    cross_val_test.append(-sum(results['test_score'])/len(results['test_score']))\n",
    "\n",
    "plt.plot(subsample_range, cross_val_train, 'bo-', label ='cross val training rmse')\n",
    "plt.plot(subsample_range, cross_val_test, 'ro-', label = 'cross val testing rmse')\n",
    "\n",
    "plt.xlabel('subsample', fontsize='x-large')\n",
    "plt.ylabel('Root Mean Squared Error', fontsize='x-large')\n",
    "\n",
    "plt.legend(loc='best', shadow=True, fontsize='x-large')\n",
    "plt.show()"
   ]
  },
  {
   "cell_type": "code",
   "execution_count": 148,
   "metadata": {},
   "outputs": [
    {
     "data": {
      "image/png": "[encoded data removed]",
      "text/plain": [
       "<Figure size 432x288 with 1 Axes>"
      ]
     },
     "metadata": {
      "needs_background": "light"
     },
     "output_type": "display_data"
    }
   ],
   "source": [
    "colsample_range = np.arange(0.4,0.81,0.05)\n",
    "\n",
    "train_acc = []\n",
    "test_acc = []\n",
    "cross_val_train =[]\n",
    "cross_val_test =[]\n",
    "\n",
    "for d in colsample_range:\n",
    "    xgb = XGBRegressor(random_state=2, subsample=0.5, min_child_weight=3, colsample_bytree=d, max_depth=3,\n",
    "                   learning_rate=0.01, gamma=0.07, n_estimators=993)\n",
    "    xgb.fit(Xtrain4, ytrain4.ravel()) \n",
    "    train_acc.append(sqrt(mean_squared_error(xgb.predict(Xtrain4), ytrain4.ravel())))\n",
    "    test_acc.append(sqrt(mean_squared_error(xgb.predict(Xtest4), ytest4.ravel())))\n",
    "    \n",
    "    results  = cross_validate(xgb, Xdata4, ydata.ravel(), scoring='neg_root_mean_squared_error', cv=5, \n",
    "                              return_train_score = True)\n",
    "    cross_val_train.append(-sum(results['train_score'])/len(results['train_score']))\n",
    "    cross_val_test.append(-sum(results['test_score'])/len(results['test_score']))\n",
    "\n",
    "plt.plot(colsample_range, cross_val_train, 'bo-', label ='cross val training rmse')\n",
    "plt.plot(colsample_range, cross_val_test, 'ro-', label = 'cross val testing rmse')\n",
    "\n",
    "plt.xlabel('colsample_bytree', fontsize='x-large')\n",
    "plt.ylabel('Root Mean Squared Error', fontsize='x-large')\n",
    "\n",
    "plt.legend(loc='best', shadow=True, fontsize='x-large')\n",
    "plt.show()"
   ]
  },
  {
   "cell_type": "code",
   "execution_count": 150,
   "metadata": {},
   "outputs": [
    {
     "data": {
      "image/png": "[encoded data removed]",
      "text/plain": [
       "<Figure size 432x288 with 1 Axes>"
      ]
     },
     "metadata": {
      "needs_background": "light"
     },
     "output_type": "display_data"
    }
   ],
   "source": [
    "colsample_range = np.arange(0.6,1.01,0.05)\n",
    "\n",
    "train_acc = []\n",
    "test_acc = []\n",
    "cross_val_train =[]\n",
    "cross_val_test =[]\n",
    "\n",
    "for d in colsample_range:\n",
    "    xgb = XGBRegressor(random_state=2, subsample=0.5, min_child_weight=3, colsample_bytree=d, max_depth=3,\n",
    "                   learning_rate=0.01, gamma=0.07, n_estimators=993)\n",
    "    xgb.fit(Xtrain4, ytrain4.ravel()) \n",
    "    train_acc.append(sqrt(mean_squared_error(xgb.predict(Xtrain4), ytrain4.ravel())))\n",
    "    test_acc.append(sqrt(mean_squared_error(xgb.predict(Xtest4), ytest4.ravel())))\n",
    "    \n",
    "    results  = cross_validate(xgb, Xdata4, ydata.ravel(), scoring='neg_root_mean_squared_error', cv=5, \n",
    "                              return_train_score = True)\n",
    "    cross_val_train.append(-sum(results['train_score'])/len(results['train_score']))\n",
    "    cross_val_test.append(-sum(results['test_score'])/len(results['test_score']))\n",
    "\n",
    "plt.plot(colsample_range, cross_val_train, 'bo-', label ='cross val training rmse')\n",
    "plt.plot(colsample_range, cross_val_test, 'ro-', label = 'cross val testing rmse')\n",
    "\n",
    "plt.xlabel('colsample_bytree', fontsize='x-large')\n",
    "plt.ylabel('Root Mean Squared Error', fontsize='x-large')\n",
    "\n",
    "plt.legend(loc='best', shadow=True, fontsize='x-large')\n",
    "plt.show()"
   ]
  },
  {
   "cell_type": "code",
   "execution_count": 153,
   "metadata": {},
   "outputs": [
    {
     "data": {
      "image/png": "[encoded data removed]",
      "text/plain": [
       "<Figure size 432x288 with 1 Axes>"
      ]
     },
     "metadata": {
      "needs_background": "light"
     },
     "output_type": "display_data"
    }
   ],
   "source": [
    "learning_range = np.arange(0.005,0.021,0.001)\n",
    "\n",
    "train_acc = []\n",
    "test_acc = []\n",
    "cross_val_train =[]\n",
    "cross_val_test =[]\n",
    "\n",
    "for d in learning_range:\n",
    "    xgb = XGBRegressor(random_state=2, subsample=0.5, min_child_weight=3, colsample_bytree=0.9, max_depth=3,\n",
    "                   learning_rate=d, gamma=0.07, n_estimators=993)\n",
    "    xgb.fit(Xtrain4, ytrain4.ravel()) \n",
    "    train_acc.append(sqrt(mean_squared_error(xgb.predict(Xtrain4), ytrain4.ravel())))\n",
    "    test_acc.append(sqrt(mean_squared_error(xgb.predict(Xtest4), ytest4.ravel())))\n",
    "    \n",
    "    results  = cross_validate(xgb, Xdata4, ydata.ravel(), scoring='neg_root_mean_squared_error', cv=5, \n",
    "                              return_train_score = True)\n",
    "    cross_val_train.append(-sum(results['train_score'])/len(results['train_score']))\n",
    "    cross_val_test.append(-sum(results['test_score'])/len(results['test_score']))\n",
    "plt.plot(learning_range, cross_val_train, 'bo-', label ='cross val training rmse')\n",
    "plt.plot(learning_range, cross_val_test, 'ro-', label = 'cross val testing rmse')\n",
    "\n",
    "plt.xlabel('learning_rate', fontsize='x-large')\n",
    "plt.ylabel('Root Mean Squared Error', fontsize='x-large')\n",
    "\n",
    "plt.legend(loc='best', shadow=True, fontsize='x-large')\n",
    "plt.show()"
   ]
  },
  {
   "cell_type": "code",
   "execution_count": 151,
   "metadata": {},
   "outputs": [
    {
     "name": "stdout",
     "output_type": "stream",
     "text": [
      "cross val training root mean squared error (RMSE) is: 53.28235181081216\n",
      "cross val testing root mean squared error (RMSE) is: 58.86466450299497\n"
     ]
    }
   ],
   "source": [
    "xgb = XGBRegressor(random_state=2, subsample=0.5, min_child_weight=3, colsample_bytree=0.9, max_depth=3,\n",
    "                   learning_rate=0.01, gamma=0.07, n_estimators=993)\n",
    "\n",
    "xgb.fit(Xtrain4, ytrain4.ravel()) \n",
    "results  = cross_validate(xgb, Xdata2, ydata.ravel(), scoring='neg_root_mean_squared_error', cv=5, return_train_score = True)\n",
    "print('cross val training root mean squared error (RMSE) is:', sum(-results['train_score'])/len(results['train_score']))\n",
    "print('cross val testing root mean squared error (RMSE) is:', sum(-results['test_score'])/len(results['test_score']))"
   ]
  },
  {
   "cell_type": "markdown",
   "metadata": {},
   "source": [
    "#### Random Forest Regressor<a id=\"part2.3.4\"></a>"
   ]
  },
  {
   "cell_type": "code",
   "execution_count": 43,
   "metadata": {},
   "outputs": [
    {
     "name": "stdout",
     "output_type": "stream",
     "text": [
      "train_score:  [-18.38933524 -18.16629421 -18.38919317 -18.21508165 -18.29708701]\n",
      "test_score:  [-53.36938186 -53.48732854 -54.8758734  -60.03262064 -58.56283057]\n",
      "cross val training root mean squared error (RMSE) is: 18.291398255822244\n",
      "cross val testing root mean squared error (RMSE) is: 56.06560700208015\n"
     ]
    }
   ],
   "source": [
    "# Evaluate the Model using K-folds Cross validation\n",
    "results  = (cross_validate(rf_reg, Xdata, ydata.ravel(), scoring='neg_root_mean_squared_error', cv=5, return_train_score = True))\n",
    "print('train_score: ', results['train_score'])\n",
    "print('test_score: ', results['test_score'])\n",
    "print('cross val training root mean squared error (RMSE) is:', sum(-results['train_score'])/len(results['train_score']))\n",
    "print('cross val testing root mean squared error (RMSE) is:', sum(-results['test_score'])/len(results['test_score']))"
   ]
  },
  {
   "cell_type": "code",
   "execution_count": 80,
   "metadata": {},
   "outputs": [
    {
     "name": "stdout",
     "output_type": "stream",
     "text": [
      "-50.34831157519274\n",
      "{'max_depth': 25, 'max_features': 'log2', 'min_samples_leaf': 1, 'min_samples_split': 5, 'n_estimators': 500}\n"
     ]
    }
   ],
   "source": [
    "rf = RandomForestRegressor(random_state = 2, n_jobs=-1)\n",
    "\n",
    "param_grid = {\"n_estimators\": [500, 750, 1000],\n",
    "              \"max_depth\": [15, 20, 25], \n",
    "              \"min_samples_leaf\" : [1, 5, 10], \n",
    "              \"min_samples_split\": [1, 5 ,10],\n",
    "              \"max_features\": [\"auto\" \"sqrt\", \"log2\",None]}\n",
    "\n",
    "gs = GridSearchCV(estimator=rf, param_grid=param_grid, scoring='neg_root_mean_squared_error', cv=5, n_jobs=-1)\n",
    "\n",
    "gs = gs.fit(Xtrain, ytrain)\n",
    "print(gs.best_score_)\n",
    "print(gs.best_params_)"
   ]
  },
  {
   "cell_type": "code",
   "execution_count": 82,
   "metadata": {},
   "outputs": [
    {
     "name": "stdout",
     "output_type": "stream",
     "text": [
      "-50.04838228657328\n",
      "{'max_depth': 25, 'min_samples_leaf': 1, 'min_samples_split': 3, 'n_estimators': 300}\n"
     ]
    }
   ],
   "source": [
    "rf = RandomForestRegressor(random_state = 2, n_jobs=-1, max_features='log2')\n",
    "\n",
    "param_grid = {\"n_estimators\": [300,400,500],\n",
    "              \"max_depth\": [25,30,35], \n",
    "              \"min_samples_leaf\" : [1,2,3], \n",
    "              \"min_samples_split\": [3,5,7]}\n",
    "\n",
    "gs = GridSearchCV(estimator=rf, param_grid=param_grid, scoring='neg_root_mean_squared_error', cv=5, n_jobs=-1)\n",
    "\n",
    "gs = gs.fit(Xtrain, ytrain)\n",
    "print(gs.best_score_)\n",
    "print(gs.best_params_)"
   ]
  },
  {
   "cell_type": "code",
   "execution_count": 83,
   "metadata": {},
   "outputs": [
    {
     "name": "stdout",
     "output_type": "stream",
     "text": [
      "-50.04207384610864\n",
      "{'max_depth': 25, 'min_samples_split': 2, 'n_estimators': 300}\n"
     ]
    }
   ],
   "source": [
    "rf = RandomForestRegressor(random_state = 2, n_jobs=-1, max_features='log2', min_samples_leaf=1)\n",
    "\n",
    "param_grid = {\"n_estimators\": [100,200,300],\n",
    "              \"max_depth\": [23,25,27], \n",
    "              \"min_samples_split\": [2,3,4]}\n",
    "\n",
    "gs = GridSearchCV(estimator=rf, param_grid=param_grid, scoring='neg_root_mean_squared_error', cv=5, n_jobs=-1)\n",
    "\n",
    "gs = gs.fit(Xtrain, ytrain)\n",
    "print(gs.best_score_)\n",
    "print(gs.best_params_)"
   ]
  },
  {
   "cell_type": "code",
   "execution_count": 84,
   "metadata": {},
   "outputs": [
    {
     "name": "stdout",
     "output_type": "stream",
     "text": [
      "-50.022228200149414\n",
      "{'max_depth': 25, 'n_estimators': 325}\n"
     ]
    }
   ],
   "source": [
    "rf = RandomForestRegressor(random_state = 2, n_jobs=-1, max_features='log2', min_samples_leaf=1, min_samples_split=2)\n",
    "\n",
    "param_grid = {\"n_estimators\": [275,300,325],\n",
    "              \"max_depth\": [24,25,26]}\n",
    "\n",
    "gs = GridSearchCV(estimator=rf, param_grid=param_grid, scoring='neg_root_mean_squared_error', cv=5, n_jobs=-1)\n",
    "\n",
    "gs = gs.fit(Xtrain, ytrain)\n",
    "print(gs.best_score_)\n",
    "print(gs.best_params_)"
   ]
  },
  {
   "cell_type": "code",
   "execution_count": 85,
   "metadata": {},
   "outputs": [
    {
     "name": "stdout",
     "output_type": "stream",
     "text": [
      "-49.980749577901996\n",
      "{'n_estimators': 350}\n"
     ]
    }
   ],
   "source": [
    "rf = RandomForestRegressor(random_state = 2, n_jobs=-1, max_features='log2', min_samples_leaf=1, min_samples_split=2,\n",
    "                          max_depth=25)\n",
    "\n",
    "param_grid = {\"n_estimators\": [325,350,375]}\n",
    "\n",
    "gs = GridSearchCV(estimator=rf, param_grid=param_grid, scoring='neg_root_mean_squared_error', cv=5, n_jobs=-1)\n",
    "\n",
    "gs = gs.fit(Xtrain, ytrain)\n",
    "print(gs.best_score_)\n",
    "print(gs.best_params_)"
   ]
  },
  {
   "cell_type": "code",
   "execution_count": 86,
   "metadata": {},
   "outputs": [
    {
     "name": "stdout",
     "output_type": "stream",
     "text": [
      "-49.980749577901996\n",
      "{'n_estimators': 350}\n"
     ]
    }
   ],
   "source": [
    "rf = RandomForestRegressor(random_state = 2, n_jobs=-1, max_features='log2', min_samples_leaf=1, min_samples_split=2,\n",
    "                          max_depth=25)\n",
    "\n",
    "param_grid = {\"n_estimators\": [340,350,360]}\n",
    "\n",
    "gs = GridSearchCV(estimator=rf, param_grid=param_grid, scoring='neg_root_mean_squared_error', cv=5, n_jobs=-1)\n",
    "\n",
    "gs = gs.fit(Xtrain, ytrain)\n",
    "print(gs.best_score_)\n",
    "print(gs.best_params_)"
   ]
  },
  {
   "cell_type": "code",
   "execution_count": 87,
   "metadata": {},
   "outputs": [
    {
     "name": "stdout",
     "output_type": "stream",
     "text": [
      "-49.97706940468586\n",
      "{'n_estimators': 355}\n"
     ]
    }
   ],
   "source": [
    "rf = RandomForestRegressor(random_state = 2, n_jobs=-1, max_features='log2', min_samples_leaf=1, min_samples_split=2,\n",
    "                          max_depth=25)\n",
    "\n",
    "param_grid = {\"n_estimators\": [345,350,355]}\n",
    "\n",
    "gs = GridSearchCV(estimator=rf, param_grid=param_grid, scoring='neg_root_mean_squared_error', cv=5, n_jobs=-1)\n",
    "\n",
    "gs = gs.fit(Xtrain, ytrain)\n",
    "print(gs.best_score_)\n",
    "print(gs.best_params_)"
   ]
  },
  {
   "cell_type": "code",
   "execution_count": 88,
   "metadata": {},
   "outputs": [
    {
     "name": "stdout",
     "output_type": "stream",
     "text": [
      "-49.9699166027371\n",
      "{'n_estimators': 357}\n"
     ]
    }
   ],
   "source": [
    "rf = RandomForestRegressor(random_state = 2, n_jobs=-1, max_features='log2', min_samples_leaf=1, min_samples_split=2,\n",
    "                          max_depth=25)\n",
    "\n",
    "param_grid = {\"n_estimators\": [353,355,357]}\n",
    "\n",
    "gs = GridSearchCV(estimator=rf, param_grid=param_grid, scoring='neg_root_mean_squared_error', cv=5, n_jobs=-1)\n",
    "\n",
    "gs = gs.fit(Xtrain, ytrain)\n",
    "print(gs.best_score_)\n",
    "print(gs.best_params_)"
   ]
  },
  {
   "cell_type": "code",
   "execution_count": 89,
   "metadata": {},
   "outputs": [
    {
     "name": "stdout",
     "output_type": "stream",
     "text": [
      "-49.9699166027371\n",
      "{'n_estimators': 357}\n"
     ]
    }
   ],
   "source": [
    "rf = RandomForestRegressor(random_state = 2, n_jobs=-1, max_features='log2', min_samples_leaf=1, min_samples_split=2,\n",
    "                          max_depth=25)\n",
    "\n",
    "param_grid = {\"n_estimators\": [356,357,358]}\n",
    "\n",
    "gs = GridSearchCV(estimator=rf, param_grid=param_grid, scoring='neg_root_mean_squared_error', cv=5, n_jobs=-1)\n",
    "\n",
    "gs = gs.fit(Xtrain, ytrain)\n",
    "print(gs.best_score_)\n",
    "print(gs.best_params_)"
   ]
  },
  {
   "cell_type": "code",
   "execution_count": 91,
   "metadata": {},
   "outputs": [
    {
     "name": "stdout",
     "output_type": "stream",
     "text": [
      "train_score:  [-18.10119449 -18.07513567 -18.06048276 -18.00877177 -18.14066318]\n",
      "test_score:  [-52.39209818 -54.33154458 -54.8201514  -57.95941554 -57.73775821]\n",
      "cross val training root mean squared error (RMSE) is: 18.07724957344849\n",
      "cross val testing root mean squared error (RMSE) is: 55.44819358386426\n"
     ]
    }
   ],
   "source": [
    "# Evaluate the Model using K-folds Cross validation\n",
    "# Create Random Forest Model\n",
    "rf_reg = RandomForestRegressor(random_state = 2, n_jobs=-1, max_features='log2', min_samples_leaf=1, min_samples_split=2,\n",
    "                          max_depth=25, n_estimators=357)\n",
    "rf_reg.fit(Xtrain, ytrain.ravel()) \n",
    "results  = (cross_validate(rf_reg, Xdata, ydata.ravel(), scoring='neg_root_mean_squared_error', cv=5, \n",
    "                           return_train_score = True))\n",
    "print('train_score: ', results['train_score'])\n",
    "print('test_score: ', results['test_score'])\n",
    "print('cross val training root mean squared error (RMSE) is:', sum(-results['train_score'])/len(results['train_score']))\n",
    "print('cross val testing root mean squared error (RMSE) is:', sum(-results['test_score'])/len(results['test_score']))"
   ]
  },
  {
   "cell_type": "code",
   "execution_count": 93,
   "metadata": {},
   "outputs": [
    {
     "data": {
      "image/png": "[encoded data removed]",
      "text/plain": [
       "<Figure size 432x288 with 1 Axes>"
      ]
     },
     "metadata": {
      "needs_background": "light"
     },
     "output_type": "display_data"
    }
   ],
   "source": [
    "leaf_range = [0.5,1,2,3,4,5,6,7,8,9,10,11,12,13,14,15]\n",
    "\n",
    "train_acc = []\n",
    "test_acc = []\n",
    "cross_val_train =[]\n",
    "cross_val_test =[]\n",
    "\n",
    "for d in leaf_range:\n",
    "    rf = RandomForestRegressor(random_state = 2, n_jobs=-1, max_features='log2', min_samples_leaf=d, min_samples_split=2,\n",
    "                          max_depth=25, n_estimators=357)\n",
    "    rf.fit(Xtrain, ytrain.ravel()) \n",
    "    train_acc.append(sqrt(mean_squared_error(rf.predict(Xtrain), ytrain.ravel())))\n",
    "    test_acc.append(sqrt(mean_squared_error(rf.predict(Xtest), ytest.ravel())))\n",
    "    \n",
    "    results  = cross_validate(rf, Xdata, ydata.ravel(), scoring='neg_root_mean_squared_error', cv=5, return_train_score = True)\n",
    "    cross_val_train.append(-sum(results['train_score'])/len(results['train_score']))\n",
    "    cross_val_test.append(-sum(results['test_score'])/len(results['test_score']))\n",
    "\n",
    "\n",
    "plt.plot(leaf_range, cross_val_train, 'bo-', label ='cross val training rmse')\n",
    "plt.plot(leaf_range, cross_val_test, 'ro-', label = 'cross val testing rmse')\n",
    "\n",
    "plt.xlabel('min_samples_leaf', fontsize='x-large')\n",
    "plt.ylabel('Root Mean Squared Error', fontsize='x-large')\n",
    "\n",
    "plt.legend(loc='best', shadow=True, fontsize='x-large')\n",
    "plt.show()"
   ]
  },
  {
   "cell_type": "code",
   "execution_count": 94,
   "metadata": {},
   "outputs": [
    {
     "data": {
      "image/png": "[encoded data removed]",
      "text/plain": [
       "<Figure size 432x288 with 1 Axes>"
      ]
     },
     "metadata": {
      "needs_background": "light"
     },
     "output_type": "display_data"
    }
   ],
   "source": [
    "leaf_range = range(2,100,4)\n",
    "\n",
    "train_acc = []\n",
    "test_acc = []\n",
    "cross_val_train =[]\n",
    "cross_val_test =[]\n",
    "\n",
    "for d in leaf_range:\n",
    "    rf = RandomForestRegressor(random_state = 2, n_jobs=-1, max_features='log2', min_samples_leaf=d, min_samples_split=2,\n",
    "                          max_depth=25, n_estimators=357)\n",
    "    rf.fit(Xtrain, ytrain.ravel()) \n",
    "    train_acc.append(sqrt(mean_squared_error(rf.predict(Xtrain), ytrain.ravel())))\n",
    "    test_acc.append(sqrt(mean_squared_error(rf.predict(Xtest), ytest.ravel())))\n",
    "    \n",
    "    results  = cross_validate(rf, Xdata, ydata.ravel(), scoring='neg_root_mean_squared_error', cv=5, \n",
    "                              return_train_score = True)\n",
    "    cross_val_train.append(-sum(results['train_score'])/len(results['train_score']))\n",
    "    cross_val_test.append(-sum(results['test_score'])/len(results['test_score']))\n",
    "\n",
    "plt.plot(leaf_range, cross_val_train, 'bo-', label ='cross val training rmse')\n",
    "plt.plot(leaf_range, cross_val_test, 'ro-', label = 'cross val testing rmse')\n",
    "\n",
    "plt.xlabel('min_samples_leaf', fontsize='x-large')\n",
    "plt.ylabel('Root Mean Squared Error', fontsize='x-large')\n",
    "\n",
    "plt.legend(loc='best', shadow=True, fontsize='x-large')\n",
    "plt.show()"
   ]
  },
  {
   "cell_type": "code",
   "execution_count": 107,
   "metadata": {},
   "outputs": [
    {
     "name": "stdout",
     "output_type": "stream",
     "text": [
      "train_score:  [-57.59544953 -56.71009295 -56.70527164 -56.05873936 -56.37962007]\n",
      "test_score:  [-55.61174192 -60.9325097  -60.79889071 -63.99146133 -62.87094204]\n",
      "cross val training root mean squared error (RMSE) is: 56.689834711326924\n",
      "cross val testing root mean squared error (RMSE) is: 60.84110913893234\n"
     ]
    }
   ],
   "source": [
    "# Evaluate the Model using K-folds Cross validation\n",
    "# Create Random Forest Model\n",
    "rf_reg = RandomForestRegressor(random_state = 2, n_jobs=-1, max_features='log2', min_samples_leaf=50, min_samples_split=2,\n",
    "                          max_depth=25, n_estimators=357)\n",
    "rf_reg.fit(Xtrain, ytrain.ravel()) \n",
    "results  = (cross_validate(rf_reg, Xdata, ydata.ravel(), scoring='neg_root_mean_squared_error', cv=5, \n",
    "                           return_train_score = True))\n",
    "print('train_score: ', results['train_score'])\n",
    "print('test_score: ', results['test_score'])\n",
    "print('cross val training root mean squared error (RMSE) is:', sum(-results['train_score'])/len(results['train_score']))\n",
    "print('cross val testing root mean squared error (RMSE) is:', sum(-results['test_score'])/len(results['test_score']))"
   ]
  },
  {
   "cell_type": "code",
   "execution_count": 100,
   "metadata": {},
   "outputs": [
    {
     "data": {
      "image/png": "[encoded data removed]",
      "text/plain": [
       "<Figure size 432x288 with 1 Axes>"
      ]
     },
     "metadata": {
      "needs_background": "light"
     },
     "output_type": "display_data"
    }
   ],
   "source": [
    "depth_range = range(20,30)\n",
    "\n",
    "train_acc = []\n",
    "test_acc = []\n",
    "cross_val_train =[]\n",
    "cross_val_test =[]\n",
    "\n",
    "for d in depth_range:\n",
    "    rf = RandomForestRegressor(random_state = 2, n_jobs=-1, max_features='log2', min_samples_leaf=30, min_samples_split=2,\n",
    "                          max_depth=d, n_estimators=357)\n",
    "    rf.fit(Xtrain, ytrain.ravel()) \n",
    "    train_acc.append(sqrt(mean_squared_error(rf.predict(Xtrain), ytrain.ravel())))\n",
    "    test_acc.append(sqrt(mean_squared_error(rf.predict(Xtest), ytest.ravel())))\n",
    "    \n",
    "    results  = cross_validate(rf, Xdata, ydata.ravel(), scoring='neg_root_mean_squared_error', cv=5, \n",
    "                              return_train_score = True)\n",
    "    cross_val_train.append(-sum(results['train_score'])/len(results['train_score']))\n",
    "    cross_val_test.append(-sum(results['test_score'])/len(results['test_score']))\n",
    "\n",
    "plt.plot(depth_range, cross_val_train, 'bo-', label ='cross val training rmse')\n",
    "plt.plot(depth_range, cross_val_test, 'ro-', label = 'cross val testing rmse')\n",
    "\n",
    "plt.xlabel('max_depth', fontsize='x-large')\n",
    "plt.ylabel('Root Mean Squared Error', fontsize='x-large')\n",
    "\n",
    "plt.legend(loc='best', shadow=True, fontsize='x-large')\n",
    "plt.show()"
   ]
  },
  {
   "cell_type": "code",
   "execution_count": 102,
   "metadata": {},
   "outputs": [
    {
     "data": {
      "image/png": "[encoded data removed]",
      "text/plain": [
       "<Figure size 432x288 with 1 Axes>"
      ]
     },
     "metadata": {
      "needs_background": "light"
     },
     "output_type": "display_data"
    }
   ],
   "source": [
    "split_range = range(2,10)\n",
    "\n",
    "train_acc = []\n",
    "test_acc = []\n",
    "cross_val_train =[]\n",
    "cross_val_test =[]\n",
    "\n",
    "for d in split_range:\n",
    "    rf = RandomForestRegressor(random_state = 2, n_jobs=-1, max_features='log2', min_samples_leaf=30, min_samples_split=d,\n",
    "                          max_depth=25, n_estimators=357)\n",
    "    rf.fit(Xtrain, ytrain.ravel()) \n",
    "    train_acc.append(sqrt(mean_squared_error(rf.predict(Xtrain), ytrain.ravel())))\n",
    "    test_acc.append(sqrt(mean_squared_error(rf.predict(Xtest), ytest.ravel())))\n",
    "    \n",
    "    results  = cross_validate(rf, Xdata, ydata.ravel(), scoring='neg_root_mean_squared_error', cv=5, \n",
    "                              return_train_score = True)\n",
    "    cross_val_train.append(-sum(results['train_score'])/len(results['train_score']))\n",
    "    cross_val_test.append(-sum(results['test_score'])/len(results['test_score']))\n",
    "\n",
    "\n",
    "plt.plot(split_range, cross_val_train, 'bo-', label ='cross val training rmse')\n",
    "plt.plot(split_range, cross_val_test, 'ro-', label = 'cross val testing rmse')\n",
    "\n",
    "plt.xlabel('min_samples_split', fontsize='x-large')\n",
    "plt.ylabel('Root Mean Squared Error', fontsize='x-large')\n",
    "\n",
    "plt.legend(loc='best', shadow=True, fontsize='x-large')\n",
    "plt.show()"
   ]
  },
  {
   "cell_type": "code",
   "execution_count": 108,
   "metadata": {},
   "outputs": [
    {
     "name": "stdout",
     "output_type": "stream",
     "text": [
      "train_score:  [-57.59544953 -56.71009295 -56.70527164 -56.05873936 -56.37962007]\n",
      "test_score:  [-55.61174192 -60.9325097  -60.79889071 -63.99146133 -62.87094204]\n",
      "cross val training root mean squared error (RMSE) is: 56.689834711326924\n",
      "cross val testing root mean squared error (RMSE) is: 60.84110913893234\n"
     ]
    }
   ],
   "source": [
    "# Evaluate the Model using K-folds Cross validation\n",
    "# Create Random Forest Model\n",
    "rf_reg = RandomForestRegressor(random_state = 2, n_jobs=-1, max_features='log2', min_samples_leaf=50, min_samples_split=2,\n",
    "                          max_depth=25, n_estimators=357)\n",
    "rf_reg.fit(Xtrain, ytrain.ravel()) \n",
    "results  = (cross_validate(rf_reg, Xdata, ydata.ravel(), scoring='neg_root_mean_squared_error', cv=5, \n",
    "                           return_train_score = True))\n",
    "print('train_score: ', results['train_score'])\n",
    "print('test_score: ', results['test_score'])\n",
    "print('cross val training root mean squared error (RMSE) is:', sum(-results['train_score'])/len(results['train_score']))\n",
    "print('cross val testing root mean squared error (RMSE) is:', sum(-results['test_score'])/len(results['test_score']))"
   ]
  },
  {
   "cell_type": "code",
   "execution_count": 109,
   "metadata": {},
   "outputs": [
    {
     "data": {
      "text/html": [
       "<div>\n",
       "<style scoped>\n",
       "    .dataframe tbody tr th:only-of-type {\n",
       "        vertical-align: middle;\n",
       "    }\n",
       "\n",
       "    .dataframe tbody tr th {\n",
       "        vertical-align: top;\n",
       "    }\n",
       "\n",
       "    .dataframe thead th {\n",
       "        text-align: right;\n",
       "    }\n",
       "</style>\n",
       "<table border=\"1\" class=\"dataframe\">\n",
       "  <thead>\n",
       "    <tr style=\"text-align: right;\">\n",
       "      <th></th>\n",
       "      <th>feature</th>\n",
       "      <th>importance</th>\n",
       "    </tr>\n",
       "  </thead>\n",
       "  <tbody>\n",
       "    <tr>\n",
       "      <th>3</th>\n",
       "      <td>room_type</td>\n",
       "      <td>0.619165</td>\n",
       "    </tr>\n",
       "    <tr>\n",
       "      <th>8</th>\n",
       "      <td>calculated_host_listings_count</td>\n",
       "      <td>0.113289</td>\n",
       "    </tr>\n",
       "    <tr>\n",
       "      <th>9</th>\n",
       "      <td>availability_365</td>\n",
       "      <td>0.057820</td>\n",
       "    </tr>\n",
       "    <tr>\n",
       "      <th>1</th>\n",
       "      <td>latitude</td>\n",
       "      <td>0.056740</td>\n",
       "    </tr>\n",
       "    <tr>\n",
       "      <th>2</th>\n",
       "      <td>longitude</td>\n",
       "      <td>0.056336</td>\n",
       "    </tr>\n",
       "    <tr>\n",
       "      <th>4</th>\n",
       "      <td>minimum_nights</td>\n",
       "      <td>0.042839</td>\n",
       "    </tr>\n",
       "    <tr>\n",
       "      <th>0</th>\n",
       "      <td>neighbourhood</td>\n",
       "      <td>0.018864</td>\n",
       "    </tr>\n",
       "    <tr>\n",
       "      <th>7</th>\n",
       "      <td>reviews_per_month</td>\n",
       "      <td>0.012624</td>\n",
       "    </tr>\n",
       "    <tr>\n",
       "      <th>5</th>\n",
       "      <td>number_of_reviews</td>\n",
       "      <td>0.012364</td>\n",
       "    </tr>\n",
       "    <tr>\n",
       "      <th>6</th>\n",
       "      <td>last_review</td>\n",
       "      <td>0.009959</td>\n",
       "    </tr>\n",
       "  </tbody>\n",
       "</table>\n",
       "</div>"
      ],
      "text/plain": [
       "                          feature  importance\n",
       "3                       room_type    0.619165\n",
       "8  calculated_host_listings_count    0.113289\n",
       "9                availability_365    0.057820\n",
       "1                        latitude    0.056740\n",
       "2                       longitude    0.056336\n",
       "4                  minimum_nights    0.042839\n",
       "0                   neighbourhood    0.018864\n",
       "7               reviews_per_month    0.012624\n",
       "5               number_of_reviews    0.012364\n",
       "6                     last_review    0.009959"
      ]
     },
     "execution_count": 109,
     "metadata": {},
     "output_type": "execute_result"
    }
   ],
   "source": [
    "pd.concat((pd.DataFrame(Xtrain.columns, columns = ['feature']), \n",
    "           pd.DataFrame(rf_reg.feature_importances_, columns = ['importance'])), \n",
    "          axis = 1).sort_values(by='importance', ascending = False)"
   ]
  },
  {
   "cell_type": "code",
   "execution_count": 110,
   "metadata": {},
   "outputs": [],
   "source": [
    "Xdata5 = df_list.drop(['price','last_review','number_of_reviews','reviews_per_month','neighbourhood'], axis = 1)"
   ]
  },
  {
   "cell_type": "code",
   "execution_count": 111,
   "metadata": {},
   "outputs": [],
   "source": [
    "Xtrain5, Xtest5, ytrain5, ytest5 = train_test_split(Xdata5, ydata, test_size=0.3, random_state=2)"
   ]
  },
  {
   "cell_type": "code",
   "execution_count": 112,
   "metadata": {},
   "outputs": [
    {
     "name": "stdout",
     "output_type": "stream",
     "text": [
      "train_score:  [-57.36440464 -56.74109472 -56.81314236 -56.03682467 -56.53025585]\n",
      "test_score:  [-55.54760952 -60.26241507 -60.84094024 -63.85668642 -62.56403236]\n",
      "cross val training root mean squared error (RMSE) is: 56.69714444841834\n",
      "cross val testing root mean squared error (RMSE) is: 60.6143367218275\n"
     ]
    }
   ],
   "source": [
    "# Evaluate the Model using K-folds Cross validation\n",
    "# Create Random Forest Model\n",
    "rf_reg = RandomForestRegressor(random_state = 2, n_jobs=-1, max_features='log2', min_samples_leaf=50, min_samples_split=2,\n",
    "                          max_depth=25, n_estimators=357)\n",
    "rf_reg.fit(Xtrain5, ytrain5.ravel()) \n",
    "results  = (cross_validate(rf_reg, Xdata5, ydata.ravel(), scoring='neg_root_mean_squared_error', cv=5, \n",
    "                           return_train_score = True))\n",
    "print('train_score: ', results['train_score'])\n",
    "print('test_score: ', results['test_score'])\n",
    "print('cross val training root mean squared error (RMSE) is:', sum(-results['train_score'])/len(results['train_score']))\n",
    "print('cross val testing root mean squared error (RMSE) is:', sum(-results['test_score'])/len(results['test_score']))"
   ]
  },
  {
   "cell_type": "code",
   "execution_count": 113,
   "metadata": {},
   "outputs": [
    {
     "data": {
      "image/png": "[encoded data removed]",
      "text/plain": [
       "<Figure size 432x288 with 1 Axes>"
      ]
     },
     "metadata": {
      "needs_background": "light"
     },
     "output_type": "display_data"
    }
   ],
   "source": [
    "leaf_range = range(2,100,4)\n",
    "\n",
    "train_acc = []\n",
    "test_acc = []\n",
    "cross_val_train =[]\n",
    "cross_val_test =[]\n",
    "\n",
    "for d in leaf_range:\n",
    "    rf = RandomForestRegressor(random_state = 2, n_jobs=-1, max_features='log2', min_samples_leaf=d, min_samples_split=2,\n",
    "                          max_depth=25, n_estimators=357)\n",
    "    rf.fit(Xtrain5, ytrain5.ravel()) \n",
    "    train_acc.append(sqrt(mean_squared_error(rf.predict(Xtrain5), ytrain5.ravel())))\n",
    "    test_acc.append(sqrt(mean_squared_error(rf.predict(Xtest5), ytest5.ravel())))\n",
    "    \n",
    "    results  = cross_validate(rf, Xdata5, ydata.ravel(), scoring='neg_root_mean_squared_error', cv=5, \n",
    "                              return_train_score = True)\n",
    "    cross_val_train.append(-sum(results['train_score'])/len(results['train_score']))\n",
    "    cross_val_test.append(-sum(results['test_score'])/len(results['test_score']))\n",
    "\n",
    "plt.plot(leaf_range, cross_val_train, 'bo-', label ='cross val training rmse')\n",
    "plt.plot(leaf_range, cross_val_test, 'ro-', label = 'cross val testing rmse')\n",
    "\n",
    "plt.xlabel('min_samples_leaf', fontsize='x-large')\n",
    "plt.ylabel('Root Mean Squared Error', fontsize='x-large')\n",
    "\n",
    "plt.legend(loc='best', shadow=True, fontsize='x-large')\n",
    "plt.show()"
   ]
  },
  {
   "cell_type": "code",
   "execution_count": 115,
   "metadata": {},
   "outputs": [
    {
     "name": "stdout",
     "output_type": "stream",
     "text": [
      "-58.75941767797887\n",
      "{'max_depth': 15, 'max_features': None, 'min_samples_split': 5, 'n_estimators': 450}\n"
     ]
    }
   ],
   "source": [
    "rf = RandomForestRegressor(random_state = 2, n_jobs=-1, min_samples_leaf=46)\n",
    "\n",
    "param_grid = {\"n_estimators\": [350,400,450],\n",
    "              \"max_depth\": [10, 15, 20], \n",
    "              \"min_samples_split\": [1, 5 ,10],\n",
    "              \"max_features\": [\"auto\" \"sqrt\", \"log2\",None]}\n",
    "\n",
    "gs = GridSearchCV(estimator=rf, param_grid=param_grid, scoring='neg_root_mean_squared_error', cv=5, n_jobs=-1)\n",
    "\n",
    "gs = gs.fit(Xtrain5, ytrain5)\n",
    "print(gs.best_score_)\n",
    "print(gs.best_params_)"
   ]
  },
  {
   "cell_type": "code",
   "execution_count": 116,
   "metadata": {},
   "outputs": [
    {
     "name": "stdout",
     "output_type": "stream",
     "text": [
      "-58.75371185133092\n",
      "{'max_depth': 13, 'min_samples_split': 3, 'n_estimators': 500}\n"
     ]
    }
   ],
   "source": [
    "rf = RandomForestRegressor(random_state = 2, n_jobs=-1, min_samples_leaf=46, max_features=None)\n",
    "\n",
    "param_grid = {\"n_estimators\": [400,450,500],\n",
    "              \"max_depth\": [13,15,17], \n",
    "              \"min_samples_split\": [3,5,7]}\n",
    "\n",
    "gs = GridSearchCV(estimator=rf, param_grid=param_grid, scoring='neg_root_mean_squared_error', cv=5, n_jobs=-1)\n",
    "\n",
    "gs = gs.fit(Xtrain5, ytrain5)\n",
    "print(gs.best_score_)\n",
    "print(gs.best_params_)"
   ]
  },
  {
   "cell_type": "code",
   "execution_count": 117,
   "metadata": {},
   "outputs": [
    {
     "name": "stdout",
     "output_type": "stream",
     "text": [
      "-58.752992857247285\n",
      "{'max_depth': 13, 'min_samples_split': 2, 'n_estimators': 700}\n"
     ]
    }
   ],
   "source": [
    "rf = RandomForestRegressor(random_state = 2, n_jobs=-1, min_samples_leaf=46, max_features=None)\n",
    "\n",
    "param_grid = {\"n_estimators\": [500,600,700],\n",
    "              \"max_depth\": [12,13,14], \n",
    "              \"min_samples_split\": [2,3,4]}\n",
    "\n",
    "gs = GridSearchCV(estimator=rf, param_grid=param_grid, scoring='neg_root_mean_squared_error', cv=5, n_jobs=-1)\n",
    "\n",
    "gs = gs.fit(Xtrain5, ytrain5)\n",
    "print(gs.best_score_)\n",
    "print(gs.best_params_)"
   ]
  },
  {
   "cell_type": "code",
   "execution_count": 118,
   "metadata": {},
   "outputs": [
    {
     "name": "stdout",
     "output_type": "stream",
     "text": [
      "-58.752992857247285\n",
      "{'n_estimators': 700}\n"
     ]
    }
   ],
   "source": [
    "rf = RandomForestRegressor(random_state = 2, n_jobs=-1, min_samples_leaf=46, max_features=None, max_depth=13,\n",
    "                          min_samples_split=2)\n",
    "\n",
    "param_grid = {\"n_estimators\": [700,800,900,1000]}\n",
    "\n",
    "gs = GridSearchCV(estimator=rf, param_grid=param_grid, scoring='neg_root_mean_squared_error', cv=5, n_jobs=-1)\n",
    "\n",
    "gs = gs.fit(Xtrain5, ytrain5)\n",
    "print(gs.best_score_)\n",
    "print(gs.best_params_)"
   ]
  },
  {
   "cell_type": "code",
   "execution_count": 119,
   "metadata": {},
   "outputs": [
    {
     "name": "stdout",
     "output_type": "stream",
     "text": [
      "-58.75030252454371\n",
      "{'n_estimators': 650}\n"
     ]
    }
   ],
   "source": [
    "rf = RandomForestRegressor(random_state = 2, n_jobs=-1, min_samples_leaf=46, max_features=None, max_depth=13,\n",
    "                          min_samples_split=2)\n",
    "\n",
    "param_grid = {\"n_estimators\": [600,650,700,750,800]}\n",
    "\n",
    "gs = GridSearchCV(estimator=rf, param_grid=param_grid, scoring='neg_root_mean_squared_error', cv=5, n_jobs=-1)\n",
    "\n",
    "gs = gs.fit(Xtrain5, ytrain5)\n",
    "print(gs.best_score_)\n",
    "print(gs.best_params_)"
   ]
  },
  {
   "cell_type": "code",
   "execution_count": 120,
   "metadata": {},
   "outputs": [
    {
     "name": "stdout",
     "output_type": "stream",
     "text": [
      "-58.74971636258427\n",
      "{'n_estimators': 630}\n"
     ]
    }
   ],
   "source": [
    "rf = RandomForestRegressor(random_state = 2, n_jobs=-1, min_samples_leaf=46, max_features=None, max_depth=13,\n",
    "                          min_samples_split=2)\n",
    "\n",
    "param_grid = {\"n_estimators\": [630,640,650,660,670]}\n",
    "\n",
    "gs = GridSearchCV(estimator=rf, param_grid=param_grid, scoring='neg_root_mean_squared_error', cv=5, n_jobs=-1)\n",
    "\n",
    "gs = gs.fit(Xtrain5, ytrain5)\n",
    "print(gs.best_score_)\n",
    "print(gs.best_params_)"
   ]
  },
  {
   "cell_type": "code",
   "execution_count": 121,
   "metadata": {},
   "outputs": [
    {
     "name": "stdout",
     "output_type": "stream",
     "text": [
      "-58.74971636258427\n",
      "{'n_estimators': 630}\n"
     ]
    }
   ],
   "source": [
    "rf = RandomForestRegressor(random_state = 2, n_jobs=-1, min_samples_leaf=46, max_features=None, max_depth=13,\n",
    "                          min_samples_split=2)\n",
    "\n",
    "param_grid = {\"n_estimators\": [610,620,630,640]}\n",
    "\n",
    "gs = GridSearchCV(estimator=rf, param_grid=param_grid, scoring='neg_root_mean_squared_error', cv=5, n_jobs=-1)\n",
    "\n",
    "gs = gs.fit(Xtrain5, ytrain5)\n",
    "print(gs.best_score_)\n",
    "print(gs.best_params_)"
   ]
  },
  {
   "cell_type": "code",
   "execution_count": 122,
   "metadata": {},
   "outputs": [
    {
     "name": "stdout",
     "output_type": "stream",
     "text": [
      "train_score:  [-55.88189255 -54.65753867 -54.73398958 -53.72308567 -54.50305629]\n",
      "test_score:  [-56.21011378 -58.47248742 -59.97960625 -63.7267171  -60.45350508]\n",
      "cross val training root mean squared error (RMSE) is: 54.699912553698574\n",
      "cross val testing root mean squared error (RMSE) is: 59.76848592562618\n"
     ]
    }
   ],
   "source": [
    "# Evaluate the Model using K-folds Cross validation\n",
    "# Create Random Forest Model\n",
    "rf_reg = RandomForestRegressor(random_state = 2, n_jobs=-1, min_samples_leaf=46, max_features=None, max_depth=13,\n",
    "                          min_samples_split=2, n_estimators=630)\n",
    "rf_reg.fit(Xtrain5, ytrain5.ravel()) \n",
    "results  = (cross_validate(rf_reg, Xdata5, ydata.ravel(), scoring='neg_root_mean_squared_error', cv=5, \n",
    "                           return_train_score = True))\n",
    "print('train_score: ', results['train_score'])\n",
    "print('test_score: ', results['test_score'])\n",
    "print('cross val training root mean squared error (RMSE) is:', sum(-results['train_score'])/len(results['train_score']))\n",
    "print('cross val testing root mean squared error (RMSE) is:', sum(-results['test_score'])/len(results['test_score']))"
   ]
  }
 ],
 "metadata": {
  "kernelspec": {
   "display_name": "Python 3 (ipykernel)",
   "language": "python",
   "name": "python3"
  },
  "language_info": {
   "codemirror_mode": {
    "name": "ipython",
    "version": 3
   },
   "file_extension": ".py",
   "mimetype": "text/x-python",
   "name": "python",
   "nbconvert_exporter": "python",
   "pygments_lexer": "ipython3",
   "version": "3.9.7"
  }
 },
 "nbformat": 4,
 "nbformat_minor": 2
}
